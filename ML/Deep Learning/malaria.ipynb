{
 "cells": [
  {
   "cell_type": "markdown",
   "metadata": {},
   "source": [
    "# Malaria cell image\n",
    "https://www.kaggle.com/iarunava/cell-images-for-detecting-malaria\n",
    "https://www.kaggle.com/krutarthhd/malaria-cell-image-classification-with-cnn-96-acc"
   ]
  },
  {
   "cell_type": "code",
   "execution_count": 1,
   "metadata": {},
   "outputs": [
    {
     "ename": "ModuleNotFoundError",
     "evalue": "No module named 'cv2'",
     "output_type": "error",
     "traceback": [
      "\u001b[1;31m---------------------------------------------------------------------------\u001b[0m",
      "\u001b[1;31mModuleNotFoundError\u001b[0m                       Traceback (most recent call last)",
      "Cell \u001b[1;32mIn[1], line 13\u001b[0m\n\u001b[0;32m      9\u001b[0m \u001b[38;5;28;01mimport\u001b[39;00m \u001b[38;5;21;01mmatplotlib\u001b[39;00m\u001b[38;5;21;01m.\u001b[39;00m\u001b[38;5;21;01mpyplot\u001b[39;00m \u001b[38;5;28;01mas\u001b[39;00m \u001b[38;5;21;01mplt\u001b[39;00m\n\u001b[0;32m     11\u001b[0m \u001b[38;5;66;03m# use following command to install cv2 package\u001b[39;00m\n\u001b[0;32m     12\u001b[0m \u001b[38;5;66;03m# pip install opencv-python\u001b[39;00m\n\u001b[1;32m---> 13\u001b[0m \u001b[38;5;28;01mimport\u001b[39;00m \u001b[38;5;21;01mcv2\u001b[39;00m\n",
      "\u001b[1;31mModuleNotFoundError\u001b[0m: No module named 'cv2'"
     ]
    }
   ],
   "source": [
    "import tensorflow as tf\n",
    "from tensorflow.keras import Sequential\n",
    "from tensorflow.keras.layers import Conv2D,MaxPool2D,Dropout,Flatten,Dense,BatchNormalization\n",
    "from tensorflow.keras.preprocessing.image import ImageDataGenerator\n",
    "from tensorflow.keras.callbacks import EarlyStopping\n",
    "\n",
    "import numpy as np\n",
    "import pandas as pd\n",
    "import matplotlib.pyplot as plt\n",
    "\n",
    "# use following command to install cv2 package\n",
    "# pip install opencv-python"
   ]
  },
  {
   "cell_type": "code",
   "execution_count": 2,
   "metadata": {},
   "outputs": [
    {
     "name": "stdout",
     "output_type": "stream",
     "text": [
      "Collecting opencv-python\n",
      "  Downloading opencv_python-4.8.0.74-cp37-abi3-win_amd64.whl (38.1 MB)\n",
      "                                              0.0/38.1 MB ? eta -:--:--\n",
      "                                              0.6/38.1 MB 12.2 MB/s eta 0:00:04\n",
      "     -                                        1.3/38.1 MB 13.9 MB/s eta 0:00:03\n",
      "     --                                       2.3/38.1 MB 15.9 MB/s eta 0:00:03\n",
      "     ---                                      3.1/38.1 MB 16.2 MB/s eta 0:00:03\n",
      "     ----                                     3.9/38.1 MB 16.3 MB/s eta 0:00:03\n",
      "     -----                                    4.8/38.1 MB 16.1 MB/s eta 0:00:03\n",
      "     -----                                    5.6/38.1 MB 15.6 MB/s eta 0:00:03\n",
      "     ------                                   6.4/38.1 MB 15.2 MB/s eta 0:00:03\n",
      "     -------                                  7.2/38.1 MB 14.8 MB/s eta 0:00:03\n",
      "     --------                                 7.8/38.1 MB 14.3 MB/s eta 0:00:03\n",
      "     --------                                 8.5/38.1 MB 13.9 MB/s eta 0:00:03\n",
      "     ---------                                9.4/38.1 MB 14.0 MB/s eta 0:00:03\n",
      "     -----------                             11.1/38.1 MB 15.6 MB/s eta 0:00:02\n",
      "     ------------                            12.0/38.1 MB 16.0 MB/s eta 0:00:02\n",
      "     -------------                           12.8/38.1 MB 15.6 MB/s eta 0:00:02\n",
      "     -------------                           13.4/38.1 MB 15.6 MB/s eta 0:00:02\n",
      "     --------------                          14.0/38.1 MB 15.2 MB/s eta 0:00:02\n",
      "     ---------------                         14.7/38.1 MB 14.9 MB/s eta 0:00:02\n",
      "     ---------------                         14.8/38.1 MB 13.9 MB/s eta 0:00:02\n",
      "     ---------------                         15.5/38.1 MB 13.6 MB/s eta 0:00:02\n",
      "     ----------------                        16.4/38.1 MB 13.6 MB/s eta 0:00:02\n",
      "     -----------------                       17.0/38.1 MB 13.9 MB/s eta 0:00:02\n",
      "     ------------------                      17.9/38.1 MB 13.9 MB/s eta 0:00:02\n",
      "     -------------------                     18.8/38.1 MB 14.5 MB/s eta 0:00:02\n",
      "     -------------------                     19.3/38.1 MB 14.2 MB/s eta 0:00:02\n",
      "     --------------------                    19.9/38.1 MB 13.6 MB/s eta 0:00:02\n",
      "     ---------------------                   20.8/38.1 MB 12.9 MB/s eta 0:00:02\n",
      "     ----------------------                  21.6/38.1 MB 12.4 MB/s eta 0:00:02\n",
      "     ----------------------                  22.3/38.1 MB 12.4 MB/s eta 0:00:02\n",
      "     -----------------------                 23.2/38.1 MB 12.1 MB/s eta 0:00:02\n",
      "     -------------------------               24.7/38.1 MB 13.1 MB/s eta 0:00:02\n",
      "     --------------------------              25.8/38.1 MB 15.2 MB/s eta 0:00:01\n",
      "     --------------------------              26.2/38.1 MB 14.5 MB/s eta 0:00:01\n",
      "     ---------------------------             27.0/38.1 MB 14.9 MB/s eta 0:00:01\n",
      "     ----------------------------            27.8/38.1 MB 15.2 MB/s eta 0:00:01\n",
      "     -----------------------------           28.8/38.1 MB 15.2 MB/s eta 0:00:01\n",
      "     ------------------------------          29.7/38.1 MB 16.4 MB/s eta 0:00:01\n",
      "     -------------------------------         30.5/38.1 MB 16.8 MB/s eta 0:00:01\n",
      "     -------------------------------         31.2/38.1 MB 17.3 MB/s eta 0:00:01\n",
      "     --------------------------------        32.1/38.1 MB 17.3 MB/s eta 0:00:01\n",
      "     ---------------------------------       33.0/38.1 MB 18.2 MB/s eta 0:00:01\n",
      "     ----------------------------------      34.0/38.1 MB 18.2 MB/s eta 0:00:01\n",
      "     ------------------------------------    35.3/38.1 MB 18.2 MB/s eta 0:00:01\n",
      "     ------------------------------------    36.0/38.1 MB 17.7 MB/s eta 0:00:01\n",
      "     -------------------------------------   37.0/38.1 MB 18.7 MB/s eta 0:00:01\n",
      "     --------------------------------------  38.0/38.1 MB 18.7 MB/s eta 0:00:01\n",
      "     --------------------------------------  38.1/38.1 MB 18.7 MB/s eta 0:00:01\n",
      "     --------------------------------------  38.1/38.1 MB 18.7 MB/s eta 0:00:01\n",
      "     --------------------------------------  38.1/38.1 MB 18.7 MB/s eta 0:00:01\n",
      "     --------------------------------------  38.1/38.1 MB 18.7 MB/s eta 0:00:01\n",
      "     --------------------------------------  38.1/38.1 MB 18.7 MB/s eta 0:00:01\n",
      "     --------------------------------------  38.1/38.1 MB 18.7 MB/s eta 0:00:01\n",
      "     --------------------------------------- 38.1/38.1 MB 11.1 MB/s eta 0:00:00\n",
      "Requirement already satisfied: numpy>=1.21.2 in c:\\users\\hopio\\anaconda3\\lib\\site-packages (from opencv-python) (1.24.3)\n",
      "Installing collected packages: opencv-python\n",
      "Successfully installed opencv-python-4.8.0.74\n"
     ]
    }
   ],
   "source": [
    "!pip install opencv-python"
   ]
  },
  {
   "cell_type": "code",
   "execution_count": 6,
   "metadata": {},
   "outputs": [],
   "source": [
    "import cv2\n",
    "import zipfile\n",
    "zip_file_path = r'C:\\Users\\hopio\\Desktop\\yonsei_practice\\data\\cell_images.zip'"
   ]
  },
  {
   "cell_type": "code",
   "execution_count": 20,
   "metadata": {},
   "outputs": [
    {
     "ename": "FileNotFoundError",
     "evalue": "[Errno 2] No such file or directory: 'C:\\\\Users\\\\hopio\\\\Desktop\\\\yonsei_practice\\\\CNN\\\\cell_images\\\\Uninfected\\\\C1_thinF_IMG_20150604_104722_cell_9.png'",
     "output_type": "error",
     "traceback": [
      "\u001b[1;31m---------------------------------------------------------------------------\u001b[0m",
      "\u001b[1;31mFileNotFoundError\u001b[0m                         Traceback (most recent call last)",
      "Cell \u001b[1;32mIn[20], line 20\u001b[0m\n\u001b[0;32m     17\u001b[0m     zip_ref\u001b[38;5;241m.\u001b[39mextractall(\u001b[38;5;124m'\u001b[39m\u001b[38;5;124m../CNN/cell_images\u001b[39m\u001b[38;5;124m'\u001b[39m)  \u001b[38;5;66;03m# 압축을 해제할 경로를 지정합니다.\u001b[39;00m\n\u001b[0;32m     19\u001b[0m \u001b[38;5;66;03m# 이미지 파일 로드\u001b[39;00m\n\u001b[1;32m---> 20\u001b[0m uninfected_img \u001b[38;5;241m=\u001b[39m plt\u001b[38;5;241m.\u001b[39mimread(upic)\n\u001b[0;32m     21\u001b[0m parasitized_img \u001b[38;5;241m=\u001b[39m plt\u001b[38;5;241m.\u001b[39mimread(apic)\n\u001b[0;32m     23\u001b[0m \u001b[38;5;66;03m# 이미지를 화면에 표시 (예시로 두 이미지를 가로로 나란히 표시합니다.)\u001b[39;00m\n",
      "File \u001b[1;32m~\\anaconda3\\Lib\\site-packages\\matplotlib\\pyplot.py:2195\u001b[0m, in \u001b[0;36mimread\u001b[1;34m(fname, format)\u001b[0m\n\u001b[0;32m   2193\u001b[0m \u001b[38;5;129m@_copy_docstring_and_deprecators\u001b[39m(matplotlib\u001b[38;5;241m.\u001b[39mimage\u001b[38;5;241m.\u001b[39mimread)\n\u001b[0;32m   2194\u001b[0m \u001b[38;5;28;01mdef\u001b[39;00m \u001b[38;5;21mimread\u001b[39m(fname, \u001b[38;5;28mformat\u001b[39m\u001b[38;5;241m=\u001b[39m\u001b[38;5;28;01mNone\u001b[39;00m):\n\u001b[1;32m-> 2195\u001b[0m     \u001b[38;5;28;01mreturn\u001b[39;00m matplotlib\u001b[38;5;241m.\u001b[39mimage\u001b[38;5;241m.\u001b[39mimread(fname, \u001b[38;5;28mformat\u001b[39m)\n",
      "File \u001b[1;32m~\\anaconda3\\Lib\\site-packages\\matplotlib\\image.py:1563\u001b[0m, in \u001b[0;36mimread\u001b[1;34m(fname, format)\u001b[0m\n\u001b[0;32m   1556\u001b[0m \u001b[38;5;28;01mif\u001b[39;00m \u001b[38;5;28misinstance\u001b[39m(fname, \u001b[38;5;28mstr\u001b[39m) \u001b[38;5;129;01mand\u001b[39;00m \u001b[38;5;28mlen\u001b[39m(parse\u001b[38;5;241m.\u001b[39murlparse(fname)\u001b[38;5;241m.\u001b[39mscheme) \u001b[38;5;241m>\u001b[39m \u001b[38;5;241m1\u001b[39m:\n\u001b[0;32m   1557\u001b[0m     \u001b[38;5;66;03m# Pillow doesn't handle URLs directly.\u001b[39;00m\n\u001b[0;32m   1558\u001b[0m     \u001b[38;5;28;01mraise\u001b[39;00m \u001b[38;5;167;01mValueError\u001b[39;00m(\n\u001b[0;32m   1559\u001b[0m         \u001b[38;5;124m\"\u001b[39m\u001b[38;5;124mPlease open the URL for reading and pass the \u001b[39m\u001b[38;5;124m\"\u001b[39m\n\u001b[0;32m   1560\u001b[0m         \u001b[38;5;124m\"\u001b[39m\u001b[38;5;124mresult to Pillow, e.g. with \u001b[39m\u001b[38;5;124m\"\u001b[39m\n\u001b[0;32m   1561\u001b[0m         \u001b[38;5;124m\"\u001b[39m\u001b[38;5;124m``np.array(PIL.Image.open(urllib.request.urlopen(url)))``.\u001b[39m\u001b[38;5;124m\"\u001b[39m\n\u001b[0;32m   1562\u001b[0m         )\n\u001b[1;32m-> 1563\u001b[0m \u001b[38;5;28;01mwith\u001b[39;00m img_open(fname) \u001b[38;5;28;01mas\u001b[39;00m image:\n\u001b[0;32m   1564\u001b[0m     \u001b[38;5;28;01mreturn\u001b[39;00m (_pil_png_to_float_array(image)\n\u001b[0;32m   1565\u001b[0m             \u001b[38;5;28;01mif\u001b[39;00m \u001b[38;5;28misinstance\u001b[39m(image, PIL\u001b[38;5;241m.\u001b[39mPngImagePlugin\u001b[38;5;241m.\u001b[39mPngImageFile) \u001b[38;5;28;01melse\u001b[39;00m\n\u001b[0;32m   1566\u001b[0m             pil_to_array(image))\n",
      "File \u001b[1;32m~\\anaconda3\\Lib\\site-packages\\PIL\\ImageFile.py:105\u001b[0m, in \u001b[0;36mImageFile.__init__\u001b[1;34m(self, fp, filename)\u001b[0m\n\u001b[0;32m    101\u001b[0m \u001b[38;5;28mself\u001b[39m\u001b[38;5;241m.\u001b[39mdecodermaxblock \u001b[38;5;241m=\u001b[39m MAXBLOCK\n\u001b[0;32m    103\u001b[0m \u001b[38;5;28;01mif\u001b[39;00m is_path(fp):\n\u001b[0;32m    104\u001b[0m     \u001b[38;5;66;03m# filename\u001b[39;00m\n\u001b[1;32m--> 105\u001b[0m     \u001b[38;5;28mself\u001b[39m\u001b[38;5;241m.\u001b[39mfp \u001b[38;5;241m=\u001b[39m \u001b[38;5;28mopen\u001b[39m(fp, \u001b[38;5;124m\"\u001b[39m\u001b[38;5;124mrb\u001b[39m\u001b[38;5;124m\"\u001b[39m)\n\u001b[0;32m    106\u001b[0m     \u001b[38;5;28mself\u001b[39m\u001b[38;5;241m.\u001b[39mfilename \u001b[38;5;241m=\u001b[39m fp\n\u001b[0;32m    107\u001b[0m     \u001b[38;5;28mself\u001b[39m\u001b[38;5;241m.\u001b[39m_exclusive_fp \u001b[38;5;241m=\u001b[39m \u001b[38;5;28;01mTrue\u001b[39;00m\n",
      "\u001b[1;31mFileNotFoundError\u001b[0m: [Errno 2] No such file or directory: 'C:\\\\Users\\\\hopio\\\\Desktop\\\\yonsei_practice\\\\CNN\\\\cell_images\\\\Uninfected\\\\C1_thinF_IMG_20150604_104722_cell_9.png'"
     ]
    }
   ],
   "source": [
    "import cv2\n",
    "import zipfile\n",
    "import os\n",
    "\n",
    "# 압축 파일 경로\n",
    "zip_file_path = r'C:\\Users\\hopio\\Desktop\\yonsei_practice\\data\\cell_images.zip'\n",
    "\n",
    "# # 이미지 파일 경로\n",
    "# upic='../CNN/cell_images/Uninfected/C1_thinF_IMG_20150604_104722_cell_9.png'\n",
    "# apic='../CNN/cell_images/Parasitized/C33P1thinF_IMG_20150619_114756a_cell_179.png'\n",
    "\n",
    "upic = r'C:\\Users\\hopio\\Desktop\\yonsei_practice\\CNN\\cell_images\\Uninfected\\C1_thinF_IMG_20150604_104722_cell_9.png'\n",
    "apic = r'C:\\Users\\hopio\\Desktop\\yonsei_practice\\CNN\\cell_images\\Parasitized\\C33P1thinF_IMG_20150619_114756a_cell_179.png'\n",
    "\n",
    "# 압축 파일 해제\n",
    "with zipfile.ZipFile(zip_file_path, 'r') as zip_ref:\n",
    "    zip_ref.extractall('../CNN/cell_images')  # 압축을 해제할 경로를 지정합니다.\n",
    "\n",
    "# 이미지 파일 로드\n",
    "uninfected_img = plt.imread(upic)\n",
    "parasitized_img = plt.imread(apic)\n",
    "\n",
    "# 이미지를 화면에 표시 (예시로 두 이미지를 가로로 나란히 표시합니다.)\n",
    "combined_img = cv2.hconcat([uninfected_img, parasitized_img])\n",
    "cv2.imshow('Uninfected and Parasitized Images', combined_img)\n",
    "cv2.waitKey(0)\n",
    "cv2.destroyAllWindows()"
   ]
  },
  {
   "cell_type": "code",
   "execution_count": 10,
   "metadata": {},
   "outputs": [
    {
     "ename": "AttributeError",
     "evalue": "'NoneType' object has no attribute 'shape'",
     "output_type": "error",
     "traceback": [
      "\u001b[1;31m---------------------------------------------------------------------------\u001b[0m",
      "\u001b[1;31mAttributeError\u001b[0m                            Traceback (most recent call last)",
      "Cell \u001b[1;32mIn[10], line 12\u001b[0m\n\u001b[0;32m      9\u001b[0m parasitized_img \u001b[38;5;241m=\u001b[39m cv2\u001b[38;5;241m.\u001b[39mimread(apic)\n\u001b[0;32m     11\u001b[0m \u001b[38;5;66;03m# 이미지 크기 맞추기\u001b[39;00m\n\u001b[1;32m---> 12\u001b[0m height \u001b[38;5;241m=\u001b[39m \u001b[38;5;28mmax\u001b[39m(uninfected_img\u001b[38;5;241m.\u001b[39mshape[\u001b[38;5;241m0\u001b[39m], parasitized_img\u001b[38;5;241m.\u001b[39mshape[\u001b[38;5;241m0\u001b[39m])\n\u001b[0;32m     13\u001b[0m width \u001b[38;5;241m=\u001b[39m uninfected_img\u001b[38;5;241m.\u001b[39mshape[\u001b[38;5;241m1\u001b[39m] \u001b[38;5;241m+\u001b[39m parasitized_img\u001b[38;5;241m.\u001b[39mshape[\u001b[38;5;241m1\u001b[39m]\n\u001b[0;32m     15\u001b[0m \u001b[38;5;66;03m# uninfected_img_resized = cv2.resize(uninfected_img, (width // 2, height))\u001b[39;00m\n\u001b[0;32m     16\u001b[0m \u001b[38;5;66;03m# parasitized_img_resized = cv2.resize(parasitized_img, (width // 2, height))\u001b[39;00m\n\u001b[0;32m     17\u001b[0m \n\u001b[0;32m     18\u001b[0m \u001b[38;5;66;03m# 이미지를 가로로 연결하여 하나의 이미지로 만듭니다.\u001b[39;00m\n\u001b[0;32m     19\u001b[0m \u001b[38;5;66;03m# combined_img = cv2.hconcat([uninfected_img_resized, parasitized_img_resized])\u001b[39;00m\n",
      "\u001b[1;31mAttributeError\u001b[0m: 'NoneType' object has no attribute 'shape'"
     ]
    }
   ],
   "source": [
    "import cv2\n",
    "\n",
    "# 이미지 파일 경로\n",
    "upic = '../CNN/cell_images/Uninfected/C1_thinF_IMG_20150604_104722_cell_9.png'\n",
    "apic = '../CNN/cell_images/Parasitized/C33P1thinF_IMG_20150619_114756a_cell_179.png'\n",
    "\n",
    "# 이미지 파일 로드\n",
    "uninfected_img = cv2.imread(upic)\n",
    "parasitized_img = cv2.imread(apic)\n",
    "\n",
    "# 이미지 크기 맞추기\n",
    "height = max(uninfected_img.shape[0], parasitized_img.shape[0])\n",
    "width = uninfected_img.shape[1] + parasitized_img.shape[1]\n",
    "\n",
    "# uninfected_img_resized = cv2.resize(uninfected_img, (width // 2, height))\n",
    "# parasitized_img_resized = cv2.resize(parasitized_img, (width // 2, height))\n",
    "\n",
    "# 이미지를 가로로 연결하여 하나의 이미지로 만듭니다.\n",
    "# combined_img = cv2.hconcat([uninfected_img_resized, parasitized_img_resized])\n",
    "combined_img = 255 * np.ones(shape=[height, width, 3], dtype=np.uint8)\n",
    "\n",
    "# 빈 캔버스에 이미지 그리기\n",
    "combined_img[:uninfected_img.shape[0], :uninfected_img.shape[1]] = uninfected_img\n",
    "combined_img[:parasitized_img.shape[0], uninfected_img.shape[1]:] = parasitized_img\n",
    "\n",
    "# # 이미지를 화면에 표시 (예시로 두 이미지를 가로로 나란히 표시합니다.)\n",
    "# combined_img = cv2.hconcat([uninfected_img, parasitized_img])\n",
    "cv2.imshow('Uninfected and Parasitized Images', combined_img)\n",
    "cv2.waitKey(0)\n",
    "cv2.destroyAllWindows()"
   ]
  },
  {
   "cell_type": "markdown",
   "metadata": {},
   "source": [
    "### Displaying Uninfected and Infected Cell tissues\n"
   ]
  },
  {
   "cell_type": "code",
   "execution_count": null,
   "metadata": {},
   "outputs": [],
   "source": [
    "                              ************원본 코드*************"
   ]
  },
  {
   "cell_type": "code",
   "execution_count": 25,
   "metadata": {},
   "outputs": [
    {
     "ename": "FileNotFoundError",
     "evalue": "[Errno 2] No such file or directory: 'C:\\\\Users\\\\hopio\\\\Desktop\\\\yonsei_practice\\\\CNN\\\\cell_images\\\\Uninfected\\\\C33P1thinF_IMG_20150619_114756a_cell_179.png'",
     "output_type": "error",
     "traceback": [
      "\u001b[1;31m---------------------------------------------------------------------------\u001b[0m",
      "\u001b[1;31mFileNotFoundError\u001b[0m                         Traceback (most recent call last)",
      "Cell \u001b[1;32mIn[25], line 16\u001b[0m\n\u001b[0;32m     13\u001b[0m plt\u001b[38;5;241m.\u001b[39mxticks([]) , plt\u001b[38;5;241m.\u001b[39myticks([])\n\u001b[0;32m     15\u001b[0m plt\u001b[38;5;241m.\u001b[39msubplot(\u001b[38;5;241m1\u001b[39m , \u001b[38;5;241m2\u001b[39m , \u001b[38;5;241m2\u001b[39m)\n\u001b[1;32m---> 16\u001b[0m plt\u001b[38;5;241m.\u001b[39mimshow(plt\u001b[38;5;241m.\u001b[39mimread(apic)) \u001b[38;5;66;03m#cv.imread\u001b[39;00m\n\u001b[0;32m     17\u001b[0m plt\u001b[38;5;241m.\u001b[39mtitle(\u001b[38;5;124m'\u001b[39m\u001b[38;5;124mInfected Cell\u001b[39m\u001b[38;5;124m'\u001b[39m)\n\u001b[0;32m     18\u001b[0m plt\u001b[38;5;241m.\u001b[39mxticks([]) , plt\u001b[38;5;241m.\u001b[39myticks([])\n",
      "File \u001b[1;32m~\\anaconda3\\Lib\\site-packages\\matplotlib\\pyplot.py:2195\u001b[0m, in \u001b[0;36mimread\u001b[1;34m(fname, format)\u001b[0m\n\u001b[0;32m   2193\u001b[0m \u001b[38;5;129m@_copy_docstring_and_deprecators\u001b[39m(matplotlib\u001b[38;5;241m.\u001b[39mimage\u001b[38;5;241m.\u001b[39mimread)\n\u001b[0;32m   2194\u001b[0m \u001b[38;5;28;01mdef\u001b[39;00m \u001b[38;5;21mimread\u001b[39m(fname, \u001b[38;5;28mformat\u001b[39m\u001b[38;5;241m=\u001b[39m\u001b[38;5;28;01mNone\u001b[39;00m):\n\u001b[1;32m-> 2195\u001b[0m     \u001b[38;5;28;01mreturn\u001b[39;00m matplotlib\u001b[38;5;241m.\u001b[39mimage\u001b[38;5;241m.\u001b[39mimread(fname, \u001b[38;5;28mformat\u001b[39m)\n",
      "File \u001b[1;32m~\\anaconda3\\Lib\\site-packages\\matplotlib\\image.py:1563\u001b[0m, in \u001b[0;36mimread\u001b[1;34m(fname, format)\u001b[0m\n\u001b[0;32m   1556\u001b[0m \u001b[38;5;28;01mif\u001b[39;00m \u001b[38;5;28misinstance\u001b[39m(fname, \u001b[38;5;28mstr\u001b[39m) \u001b[38;5;129;01mand\u001b[39;00m \u001b[38;5;28mlen\u001b[39m(parse\u001b[38;5;241m.\u001b[39murlparse(fname)\u001b[38;5;241m.\u001b[39mscheme) \u001b[38;5;241m>\u001b[39m \u001b[38;5;241m1\u001b[39m:\n\u001b[0;32m   1557\u001b[0m     \u001b[38;5;66;03m# Pillow doesn't handle URLs directly.\u001b[39;00m\n\u001b[0;32m   1558\u001b[0m     \u001b[38;5;28;01mraise\u001b[39;00m \u001b[38;5;167;01mValueError\u001b[39;00m(\n\u001b[0;32m   1559\u001b[0m         \u001b[38;5;124m\"\u001b[39m\u001b[38;5;124mPlease open the URL for reading and pass the \u001b[39m\u001b[38;5;124m\"\u001b[39m\n\u001b[0;32m   1560\u001b[0m         \u001b[38;5;124m\"\u001b[39m\u001b[38;5;124mresult to Pillow, e.g. with \u001b[39m\u001b[38;5;124m\"\u001b[39m\n\u001b[0;32m   1561\u001b[0m         \u001b[38;5;124m\"\u001b[39m\u001b[38;5;124m``np.array(PIL.Image.open(urllib.request.urlopen(url)))``.\u001b[39m\u001b[38;5;124m\"\u001b[39m\n\u001b[0;32m   1562\u001b[0m         )\n\u001b[1;32m-> 1563\u001b[0m \u001b[38;5;28;01mwith\u001b[39;00m img_open(fname) \u001b[38;5;28;01mas\u001b[39;00m image:\n\u001b[0;32m   1564\u001b[0m     \u001b[38;5;28;01mreturn\u001b[39;00m (_pil_png_to_float_array(image)\n\u001b[0;32m   1565\u001b[0m             \u001b[38;5;28;01mif\u001b[39;00m \u001b[38;5;28misinstance\u001b[39m(image, PIL\u001b[38;5;241m.\u001b[39mPngImagePlugin\u001b[38;5;241m.\u001b[39mPngImageFile) \u001b[38;5;28;01melse\u001b[39;00m\n\u001b[0;32m   1566\u001b[0m             pil_to_array(image))\n",
      "File \u001b[1;32m~\\anaconda3\\Lib\\site-packages\\PIL\\ImageFile.py:105\u001b[0m, in \u001b[0;36mImageFile.__init__\u001b[1;34m(self, fp, filename)\u001b[0m\n\u001b[0;32m    101\u001b[0m \u001b[38;5;28mself\u001b[39m\u001b[38;5;241m.\u001b[39mdecodermaxblock \u001b[38;5;241m=\u001b[39m MAXBLOCK\n\u001b[0;32m    103\u001b[0m \u001b[38;5;28;01mif\u001b[39;00m is_path(fp):\n\u001b[0;32m    104\u001b[0m     \u001b[38;5;66;03m# filename\u001b[39;00m\n\u001b[1;32m--> 105\u001b[0m     \u001b[38;5;28mself\u001b[39m\u001b[38;5;241m.\u001b[39mfp \u001b[38;5;241m=\u001b[39m \u001b[38;5;28mopen\u001b[39m(fp, \u001b[38;5;124m\"\u001b[39m\u001b[38;5;124mrb\u001b[39m\u001b[38;5;124m\"\u001b[39m)\n\u001b[0;32m    106\u001b[0m     \u001b[38;5;28mself\u001b[39m\u001b[38;5;241m.\u001b[39mfilename \u001b[38;5;241m=\u001b[39m fp\n\u001b[0;32m    107\u001b[0m     \u001b[38;5;28mself\u001b[39m\u001b[38;5;241m.\u001b[39m_exclusive_fp \u001b[38;5;241m=\u001b[39m \u001b[38;5;28;01mTrue\u001b[39;00m\n",
      "\u001b[1;31mFileNotFoundError\u001b[0m: [Errno 2] No such file or directory: 'C:\\\\Users\\\\hopio\\\\Desktop\\\\yonsei_practice\\\\CNN\\\\cell_images\\\\Uninfected\\\\C33P1thinF_IMG_20150619_114756a_cell_179.png'"
     ]
    },
    {
     "data": {
      "image/png": "[encoded data removed]",
      "text/plain": [
       "<Figure size 1500x700 with 2 Axes>"
      ]
     },
     "metadata": {},
     "output_type": "display_data"
    }
   ],
   "source": [
    "# upic='../CNN/cell_images/Uninfected/C1_thinF_IMG_20150604_104722_cell_9.png'\n",
    "# apic='../CNN/cell_images/Parasitized/C33P1thinF_IMG_20150619_114756a_cell_179.png'\n",
    "#^^원본\n",
    "# upic = r'C:\\Users\\hopio\\Desktop\\yonsei_practice\\CNN\\cell_images\\Uninfected\\C1_thinF_IMG_20150604_104722_cell_9.png'\n",
    "# apic = r'C:\\Users\\hopio\\Desktop\\yonsei_practice\\CNN\\cell_images\\Parasitized\\C33P1thinF_IMG_20150619_114756a_cell_179.png'\n",
    "\n",
    "upic = r'C:\\Users\\hopio\\Desktop\\yonsei_practice\\CNN\\cell_images\\cell_images\\Uninfected\\C1_thinF_IMG_20150604_104722_cell_9.png'\n",
    "apic = r'C:\\Users\\hopio\\Desktop\\yonsei_practice\\CNN\\cell_images\\Uninfected\\C33P1thinF_IMG_20150619_114756a_cell_179.png'\n",
    "plt.figure(1, figsize = (15 , 7))\n",
    "plt.subplot(1 , 2 , 1)\n",
    "plt.imshow(plt.imread(upic)) #cv.imread\n",
    "plt.title('Uninfected Cell')\n",
    "plt.xticks([]) , plt.yticks([])\n",
    "\n",
    "plt.subplot(1 , 2 , 2)\n",
    "plt.imshow(plt.imread(apic)) #cv.imread\n",
    "plt.title('Infected Cell')\n",
    "plt.xticks([]) , plt.yticks([])\n",
    "\n",
    "plt.show()\n",
    "\n",
    "# apic = r'C:\\Users\\hopio\\Desktop\\yonsei_practice\\CNN\\cell_images\\cell_images\\Uninfected\\C33P1thinF_IMG_20150619_114756a_cell_179.png'\n",
    "# 잘못된 경로\n",
    "apic = r'C:\\Users\\hopio\\Desktop\\yonsei_practice\\cell_images\\Uninfected\\C33P1thinF_IMG_20150619_114756a_cell_179.png'"
   ]
  },
  {
   "cell_type": "markdown",
   "metadata": {},
   "source": [
    "### Dividing Dataset into two folders train and test"
   ]
  },
  {
   "cell_type": "code",
   "execution_count": 11,
   "metadata": {},
   "outputs": [],
   "source": [
    "width = 128\n",
    "height = 128\n",
    "datagen = ImageDataGenerator(rescale=1/255.0, validation_split=0.2)"
   ]
  },
  {
   "cell_type": "code",
   "execution_count": 16,
   "metadata": {},
   "outputs": [
    {
     "name": "stdout",
     "output_type": "stream",
     "text": [
      "Found 44094 images belonging to 2 classes.\n"
     ]
    }
   ],
   "source": [
    "trainDatagen = datagen.flow_from_directory(directory='../CNN/cell_images/',\n",
    "                                           target_size=(width,height),\n",
    "                                           class_mode = 'binary',\n",
    "                                           batch_size = 16,\n",
    "                                           subset='training')"
   ]
  },
  {
   "cell_type": "code",
   "execution_count": 13,
   "metadata": {},
   "outputs": [
    {
     "name": "stdout",
     "output_type": "stream",
     "text": [
      "Found 11022 images belonging to 2 classes.\n"
     ]
    }
   ],
   "source": [
    "valDatagen = datagen.flow_from_directory(directory='../CNN/cell_images/',\n",
    "                                           target_size=(width,height),\n",
    "                                           class_mode = 'binary',\n",
    "                                           batch_size = 16,\n",
    "                                           subset='validation')"
   ]
  },
  {
   "cell_type": "markdown",
   "metadata": {},
   "source": [
    "### build keras model"
   ]
  },
  {
   "cell_type": "code",
   "execution_count": 6,
   "metadata": {},
   "outputs": [
    {
     "name": "stdout",
     "output_type": "stream",
     "text": [
      "Model: \"sequential\"\n",
      "_________________________________________________________________\n",
      "Layer (type)                 Output Shape              Param #   \n",
      "=================================================================\n",
      "conv2d (Conv2D)              (None, 126, 126, 16)      448       \n",
      "_________________________________________________________________\n",
      "max_pooling2d (MaxPooling2D) (None, 63, 63, 16)        0         \n",
      "_________________________________________________________________\n",
      "dropout (Dropout)            (None, 63, 63, 16)        0         \n",
      "_________________________________________________________________\n",
      "conv2d_1 (Conv2D)            (None, 61, 61, 32)        4640      \n",
      "_________________________________________________________________\n",
      "max_pooling2d_1 (MaxPooling2 (None, 30, 30, 32)        0         \n",
      "_________________________________________________________________\n",
      "dropout_1 (Dropout)          (None, 30, 30, 32)        0         \n",
      "_________________________________________________________________\n",
      "conv2d_2 (Conv2D)            (None, 28, 28, 64)        18496     \n",
      "_________________________________________________________________\n",
      "max_pooling2d_2 (MaxPooling2 (None, 14, 14, 64)        0         \n",
      "_________________________________________________________________\n",
      "dropout_2 (Dropout)          (None, 14, 14, 64)        0         \n",
      "_________________________________________________________________\n",
      "flatten (Flatten)            (None, 12544)             0         \n",
      "_________________________________________________________________\n",
      "dense (Dense)                (None, 64)                802880    \n",
      "_________________________________________________________________\n",
      "dropout_3 (Dropout)          (None, 64)                0         \n",
      "_________________________________________________________________\n",
      "dense_1 (Dense)              (None, 1)                 65        \n",
      "=================================================================\n",
      "Total params: 826,529\n",
      "Trainable params: 826,529\n",
      "Non-trainable params: 0\n",
      "_________________________________________________________________\n"
     ]
    }
   ],
   "source": [
    "# define the keras model\n",
    "model = tf.keras.models.Sequential([\n",
    "  tf.keras.layers.Conv2D(16,(3,3),activation='relu',input_shape=(128,128,3)),\n",
    "  tf.keras.layers.MaxPool2D((2,2)),\n",
    "  tf.keras.layers.Dropout(0.3),\n",
    "    \n",
    "  tf.keras.layers.Conv2D(32,(3,3),activation='relu'),\n",
    "  tf.keras.layers.MaxPool2D((2,2)),\n",
    "  tf.keras.layers.Dropout(0.3),\n",
    "    \n",
    "  tf.keras.layers.Conv2D(64,(3,3),activation='relu'),\n",
    "  tf.keras.layers.MaxPool2D((2,2)),\n",
    "  tf.keras.layers.Dropout(0.3),\n",
    "    \n",
    "  tf.keras.layers.Flatten(),\n",
    "  tf.keras.layers.Dense(64, activation='relu'),\n",
    "  tf.keras.layers.Dropout(0.3),\n",
    "  tf.keras.layers.Dense(1, activation='sigmoid')\n",
    "])\n",
    "\n",
    "model.summary()"
   ]
  },
  {
   "cell_type": "markdown",
   "metadata": {},
   "source": [
    "### model fit"
   ]
  },
  {
   "cell_type": "code",
   "execution_count": null,
   "metadata": {},
   "outputs": [
    {
     "name": "stdout",
     "output_type": "stream",
     "text": [
      "Epoch 1/5\n",
      "1378/1378 [==============================] - 132s 96ms/step - loss: 0.5795 - accuracy: 0.6528 - val_loss: 0.3087 - val_accuracy: 0.9261\n",
      "Epoch 2/5\n",
      "1378/1378 [==============================] - 123s 90ms/step - loss: 0.2831 - accuracy: 0.9141 - val_loss: 0.2072 - val_accuracy: 0.9381\n",
      "Epoch 3/5\n",
      "1378/1378 [==============================] - 119s 86ms/step - loss: 0.2070 - accuracy: 0.9463 - val_loss: 0.1771 - val_accuracy: 0.9410\n",
      "Epoch 4/5\n",
      "1378/1378 [==============================] - 111s 81ms/step - loss: 0.1775 - accuracy: 0.9494 - val_loss: 0.1995 - val_accuracy: 0.9367\n",
      "Epoch 5/5\n",
      "1028/1378 [=====================>........] - ETA: 25s - loss: 0.1609 - accuracy: 0.9500"
     ]
    }
   ],
   "source": [
    "model.compile(optimizer='adam',loss='binary_crossentropy',metrics=['accuracy'])\n",
    "\n",
    "history = model.fit(trainDatagen, epochs=5, batch_size=1000, validation_data=valDatagen)\n"
   ]
  },
  {
   "cell_type": "code",
   "execution_count": 10,
   "metadata": {},
   "outputs": [
    {
     "data": {
      "text/plain": [
       "<matplotlib.legend.Legend at 0x1db6db34af0>"
      ]
     },
     "execution_count": 10,
     "metadata": {},
     "output_type": "execute_result"
    },
    {
     "data": {
      "image/png": "[encoded data removed]",
      "text/plain": [
       "<Figure size 432x288 with 1 Axes>"
      ]
     },
     "metadata": {
      "needs_background": "light"
     },
     "output_type": "display_data"
    }
   ],
   "source": [
    "plt.plot(history.history['accuracy'], label='accuracy')\n",
    "plt.plot(history.history['val_accuracy'], label = 'val_accuracy')\n",
    "plt.xlabel('Epoch')\n",
    "plt.ylabel('Accuracy')\n",
    "plt.ylim([0.5, 1])\n",
    "plt.legend(loc='lower right')\n"
   ]
  }
 ],
 "metadata": {
  "kernelspec": {
   "display_name": "Python 3 (ipykernel)",
   "language": "python",
   "name": "python3"
  },
  "language_info": {
   "codemirror_mode": {
    "name": "ipython",
    "version": 3
   },
   "file_extension": ".py",
   "mimetype": "text/x-python",
   "name": "python",
   "nbconvert_exporter": "python",
   "pygments_lexer": "ipython3",
   "version": "3.11.4"
  }
 },
 "nbformat": 4,
 "nbformat_minor": 2
}
