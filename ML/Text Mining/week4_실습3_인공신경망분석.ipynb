{
 "cells": [
  {
   "cell_type": "code",
   "execution_count": 1,
   "id": "aa422bd7",
   "metadata": {},
   "outputs": [
    {
     "name": "stdout",
     "output_type": "stream",
     "text": [
      "[[0. 0. 0. ... 0. 0. 0.]\n",
      " [0. 0. 0. ... 0. 0. 0.]\n",
      " [0. 0. 0. ... 0. 0. 0.]\n",
      " ...\n",
      " [0. 0. 0. ... 0. 0. 0.]\n",
      " [0. 0. 0. ... 0. 0. 0.]\n",
      " [0. 0. 0. ... 0. 0. 0.]]\n",
      "1000\n"
     ]
    }
   ],
   "source": [
    "import joblib\n",
    "from sklearn.model_selection import train_test_split\n",
    "\n",
    "# 이전 아마존 데이터 로더\n",
    "with open('amazon.pkl', 'rb') as f:\n",
    "    data = joblib.load(f)\n",
    "locals().update(data)\n",
    "\n",
    "#tdm 을 확인해보자.\n",
    "tdm = tdm.toarray()\n",
    "print(tdm)\n",
    "\n",
    "\n",
    "# 트레인,테스트 데이터 분리 \n",
    "X_train, X_test, y_train, y_test = train_test_split(tdm, sentiment, test_size=.2, random_state=1234)\n",
    "\n",
    "# 케라스 입력 개수 설정 : tfidf 단어 갯수 \n",
    "NUM_WORDS = X_train.shape[1]\n",
    "\n",
    "print(NUM_WORDS)\n"
   ]
  },
  {
   "cell_type": "code",
   "execution_count": 2,
   "id": "61cbcaf4",
   "metadata": {},
   "outputs": [
    {
     "name": "stdout",
     "output_type": "stream",
     "text": [
      "Model: \"sequential\"\n",
      "_________________________________________________________________\n",
      " Layer (type)                Output Shape              Param #   \n",
      "=================================================================\n",
      " dense (Dense)               (None, 1)                 1001      \n",
      "                                                                 \n",
      "=================================================================\n",
      "Total params: 1001 (3.91 KB)\n",
      "Trainable params: 1001 (3.91 KB)\n",
      "Non-trainable params: 0 (0.00 Byte)\n",
      "_________________________________________________________________\n"
     ]
    }
   ],
   "source": [
    "# 1. 케라스 활용 로지스틱 회귀 분석\n",
    "# - 모형 만들기\n",
    "\n",
    "from keras import Sequential\n",
    "from keras.layers import Dense, Input\n",
    "\n",
    "# 단어의 갯수(NUM_WORDS)만큼 입력을 받아 1개의 출력을 내놓는 레이어를 추가한다. Dense는 선형 모형, sigmoid는 로지스틱 함수와 같다.\n",
    "# 입력과 동시에 출력 모드 \n",
    "\n",
    "m1 = Sequential()\n",
    "m1.add(Dense(1, activation='sigmoid', input_shape=(NUM_WORDS,)))\n",
    "m1.summary()\n",
    "\n"
   ]
  },
  {
   "cell_type": "code",
   "execution_count": 3,
   "id": "f9e18716",
   "metadata": {},
   "outputs": [
    {
     "name": "stdout",
     "output_type": "stream",
     "text": [
      "Epoch 1/30\n",
      "25/25 [==============================] - 3s 10ms/step - loss: 0.6921 - accuracy: 0.5238\n",
      "Epoch 2/30\n",
      "25/25 [==============================] - 0s 6ms/step - loss: 0.6870 - accuracy: 0.5875\n",
      "Epoch 3/30\n",
      "25/25 [==============================] - 0s 4ms/step - loss: 0.6821 - accuracy: 0.6787\n",
      "Epoch 4/30\n",
      "25/25 [==============================] - 0s 4ms/step - loss: 0.6773 - accuracy: 0.7412\n",
      "Epoch 5/30\n",
      "25/25 [==============================] - 0s 4ms/step - loss: 0.6726 - accuracy: 0.7750\n",
      "Epoch 6/30\n",
      "25/25 [==============================] - 0s 4ms/step - loss: 0.6678 - accuracy: 0.8037\n",
      "Epoch 7/30\n",
      "25/25 [==============================] - 0s 5ms/step - loss: 0.6632 - accuracy: 0.8275\n",
      "Epoch 8/30\n",
      "25/25 [==============================] - 0s 5ms/step - loss: 0.6586 - accuracy: 0.8450\n",
      "Epoch 9/30\n",
      "25/25 [==============================] - 0s 4ms/step - loss: 0.6541 - accuracy: 0.8612\n",
      "Epoch 10/30\n",
      "25/25 [==============================] - 0s 4ms/step - loss: 0.6496 - accuracy: 0.8687\n",
      "Epoch 11/30\n",
      "25/25 [==============================] - 0s 4ms/step - loss: 0.6452 - accuracy: 0.8800\n",
      "Epoch 12/30\n",
      "25/25 [==============================] - 0s 4ms/step - loss: 0.6407 - accuracy: 0.8813\n",
      "Epoch 13/30\n",
      "25/25 [==============================] - 0s 4ms/step - loss: 0.6364 - accuracy: 0.8850\n",
      "Epoch 14/30\n",
      "25/25 [==============================] - 0s 5ms/step - loss: 0.6321 - accuracy: 0.8900\n",
      "Epoch 15/30\n",
      "25/25 [==============================] - 0s 4ms/step - loss: 0.6279 - accuracy: 0.8938\n",
      "Epoch 16/30\n",
      "25/25 [==============================] - 0s 4ms/step - loss: 0.6237 - accuracy: 0.9000\n",
      "Epoch 17/30\n",
      "25/25 [==============================] - 0s 4ms/step - loss: 0.6195 - accuracy: 0.9075\n",
      "Epoch 18/30\n",
      "25/25 [==============================] - 0s 4ms/step - loss: 0.6154 - accuracy: 0.9100\n",
      "Epoch 19/30\n",
      "25/25 [==============================] - 0s 4ms/step - loss: 0.6114 - accuracy: 0.9125\n",
      "Epoch 20/30\n",
      "25/25 [==============================] - 0s 4ms/step - loss: 0.6073 - accuracy: 0.9187\n",
      "Epoch 21/30\n",
      "25/25 [==============================] - 0s 4ms/step - loss: 0.6034 - accuracy: 0.9175\n",
      "Epoch 22/30\n",
      "25/25 [==============================] - 0s 5ms/step - loss: 0.5994 - accuracy: 0.9250\n",
      "Epoch 23/30\n",
      "25/25 [==============================] - 0s 4ms/step - loss: 0.5955 - accuracy: 0.9287\n",
      "Epoch 24/30\n",
      "25/25 [==============================] - 0s 4ms/step - loss: 0.5917 - accuracy: 0.9287\n",
      "Epoch 25/30\n",
      "25/25 [==============================] - 0s 4ms/step - loss: 0.5878 - accuracy: 0.9312\n",
      "Epoch 26/30\n",
      "25/25 [==============================] - 0s 4ms/step - loss: 0.5840 - accuracy: 0.9300\n",
      "Epoch 27/30\n",
      "25/25 [==============================] - 0s 5ms/step - loss: 0.5803 - accuracy: 0.9312\n",
      "Epoch 28/30\n",
      "25/25 [==============================] - 0s 4ms/step - loss: 0.5766 - accuracy: 0.9300\n",
      "Epoch 29/30\n",
      "25/25 [==============================] - 0s 4ms/step - loss: 0.5729 - accuracy: 0.9312\n",
      "Epoch 30/30\n",
      "25/25 [==============================] - 0s 4ms/step - loss: 0.5693 - accuracy: 0.9325\n"
     ]
    },
    {
     "data": {
      "text/plain": [
       "<keras.src.callbacks.History at 0x2af0d613250>"
      ]
     },
     "execution_count": 3,
     "metadata": {},
     "output_type": "execute_result"
    }
   ],
   "source": [
    "from keras.optimizers import Adam\n",
    "\n",
    "# 손실 함수는 크로스엔트로피를 쓴다. \n",
    "# 문제에 따라 크로스엔트로피를 효과적으로 계산하는 방법이 달라지는데 둘 중에 하나로 분류할 때는 binary_crossentropy를 사용한다. \n",
    "# 3개 이상의 분류에는 categorical_crossentropy를 사용한다. \n",
    "# 최적화 알고리즘으로는 Adam을 사용한다.\n",
    "\n",
    "m1.compile(loss='binary_crossentropy', metrics=['accuracy'], optimizer=Adam())\n",
    "m1.fit(X_train, y_train, epochs=30)\n"
   ]
  },
  {
   "cell_type": "code",
   "execution_count": 4,
   "id": "36ff2b4f",
   "metadata": {},
   "outputs": [
    {
     "name": "stdout",
     "output_type": "stream",
     "text": [
      "7/7 [==============================] - 0s 7ms/step\n"
     ]
    },
    {
     "data": {
      "text/plain": [
       "0.735"
      ]
     },
     "execution_count": 4,
     "metadata": {},
     "output_type": "execute_result"
    }
   ],
   "source": [
    "# - 예측\n",
    "# y_pred = m1.predict_classes(X_test)  keras 2.3 부터 변경됨 \n",
    "from sklearn.metrics import accuracy_score\n",
    "\n",
    "y_pred = m1.predict(X_test)\n",
    "y_pred = (y_pred > 0.5).astype(int)\n",
    "#print(y_pred)\n",
    "#print(y_test)\n",
    "#print(y_pred_classes)\n",
    "\n",
    "# 모델 정확도 계산 . 이전 실행한 사이킷런의 로지스틱 회귀랑 비교\n",
    "accuracy_score(y_test, y_pred)  \n"
   ]
  },
  {
   "cell_type": "code",
   "execution_count": 5,
   "id": "4588df5a",
   "metadata": {},
   "outputs": [
    {
     "name": "stdout",
     "output_type": "stream",
     "text": [
      "Model: \"sequential_1\"\n",
      "_________________________________________________________________\n",
      " Layer (type)                Output Shape              Param #   \n",
      "=================================================================\n",
      " dense_1 (Dense)             (None, 100)               100100    \n",
      "                                                                 \n",
      " dense_2 (Dense)             (None, 50)                5050      \n",
      "                                                                 \n",
      " dense_3 (Dense)             (None, 100)               5100      \n",
      "                                                                 \n",
      " dense_4 (Dense)             (None, 1)                 101       \n",
      "                                                                 \n",
      "=================================================================\n",
      "Total params: 110351 (431.06 KB)\n",
      "Trainable params: 110351 (431.06 KB)\n",
      "Non-trainable params: 0 (0.00 Byte)\n",
      "_________________________________________________________________\n"
     ]
    },
    {
     "data": {
      "text/plain": [
       "<keras.src.callbacks.History at 0x2af0d78b0d0>"
      ]
     },
     "execution_count": 5,
     "metadata": {},
     "output_type": "execute_result"
    }
   ],
   "source": [
    "# 다층 신경망 분석 \n",
    "\n",
    "#  - 신경망 생성 및 학습\n",
    "m2 = Sequential()\n",
    "m2.add(Dense(100, activation='relu', input_shape=(NUM_WORDS,)))\n",
    "# Dense 추가 \n",
    "m2.add(Dense(50, activation='relu', input_shape=(100,)))\n",
    "m2.add(Dense(100, activation='relu', input_shape=(50,)))\n",
    "# Dense 추가 \n",
    "m2.add(Dense(1, activation='sigmoid'))\n",
    "m2.summary()   # 모델 확인 \n",
    "\n",
    "\n",
    "m2.compile(loss='binary_crossentropy', metrics=['accuracy'], optimizer=Adam())\n",
    "m2.fit(X_train, y_train, epochs=30,verbose=0)\n",
    "\n"
   ]
  },
  {
   "cell_type": "code",
   "execution_count": 6,
   "id": "c7804c69",
   "metadata": {},
   "outputs": [
    {
     "name": "stdout",
     "output_type": "stream",
     "text": [
      "7/7 [==============================] - 0s 7ms/step\n"
     ]
    },
    {
     "data": {
      "text/plain": [
       "0.81"
      ]
     },
     "execution_count": 6,
     "metadata": {},
     "output_type": "execute_result"
    }
   ],
   "source": [
    "# y_pred2 = m2.predict_classes(X_test)\n",
    "\n",
    "# 모델 정확도 계산 . 이전 실행한 사이킷런의 로지스틱 회귀랑 비교\n",
    "\n",
    "y_pred2 = m2.predict(X_test)\n",
    "y_pred2 = (y_pred2 > 0.5).astype(int)\n",
    "\n",
    "accuracy_score(y_test, y_pred2)\n"
   ]
  },
  {
   "cell_type": "code",
   "execution_count": null,
   "id": "cdb5a64c",
   "metadata": {},
   "outputs": [],
   "source": []
  }
 ],
 "metadata": {
  "kernelspec": {
   "display_name": "Python 3 (ipykernel)",
   "language": "python",
   "name": "python3"
  },
  "language_info": {
   "codemirror_mode": {
    "name": "ipython",
    "version": 3
   },
   "file_extension": ".py",
   "mimetype": "text/x-python",
   "name": "python",
   "nbconvert_exporter": "python",
   "pygments_lexer": "ipython3",
   "version": "3.11.3"
  }
 },
 "nbformat": 4,
 "nbformat_minor": 5
}
