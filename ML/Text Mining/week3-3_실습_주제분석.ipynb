{
 "cells": [
  {
   "cell_type": "code",
   "execution_count": 11,
   "id": "44676998",
   "metadata": {},
   "outputs": [],
   "source": [
    "#1. LSA 예제 분석\n",
    "#- 데이터 준비-tfidf로 vectorizer된 tdm\n",
    "\n",
    "import pandas as pd\n",
    "import joblib\n",
    "with open('amazon.pkl', 'rb') as f:\n",
    "    data = joblib.load(f) \n",
    "locals().update(data)\n"
   ]
  },
  {
   "cell_type": "code",
   "execution_count": 12,
   "id": "4cc6b312",
   "metadata": {
    "scrolled": true
   },
   "outputs": [
    {
     "name": "stdout",
     "output_type": "stream",
     "text": [
      "  (0, 73)\t0.5963034327143681\n"
     ]
    }
   ],
   "source": [
    "print(tdm[999,:100])"
   ]
  },
  {
   "cell_type": "code",
   "execution_count": 13,
   "id": "f53822ce",
   "metadata": {},
   "outputs": [
    {
     "data": {
      "text/plain": [
       "scipy.sparse._csr.csr_matrix"
      ]
     },
     "execution_count": 13,
     "metadata": {},
     "output_type": "execute_result"
    }
   ],
   "source": [
    "type(tdm)"
   ]
  },
  {
   "cell_type": "code",
   "execution_count": 14,
   "id": "581edc22",
   "metadata": {},
   "outputs": [
    {
     "name": "stdout",
     "output_type": "stream",
     "text": [
      "  (0, 912)\t0.6392095406476104\n",
      "  (0, 255)\t0.47823718132718357\n",
      "  (0, 146)\t0.4710276120116065\n",
      "  (0, 306)\t0.3752776975307017\n",
      "  (1, 355)\t0.8909828883166824\n",
      "  (1, 310)\t0.4540368847647319\n",
      "  (2, 518)\t0.3180236844892277\n",
      "  (2, 407)\t0.3548643091675774\n",
      "  (2, 20)\t0.4294194741822417\n",
      "  (2, 368)\t0.40528919670525015\n",
      "  (2, 185)\t0.3881684923718809\n",
      "  (2, 155)\t0.2986569556075369\n",
      "  (2, 818)\t0.4294194741822417\n",
      "  (3, 405)\t0.8844341363224174\n",
      "  (3, 310)\t0.4666650388743726\n"
     ]
    }
   ],
   "source": [
    "print(tdm[1:5])"
   ]
  },
  {
   "cell_type": "code",
   "execution_count": 15,
   "id": "574facf4",
   "metadata": {},
   "outputs": [
    {
     "data": {
      "text/plain": [
       "(1000, 30)"
      ]
     },
     "execution_count": 15,
     "metadata": {},
     "output_type": "execute_result"
    }
   ],
   "source": [
    "# - LSA 적용\n",
    "#  특이값 분해로 차원을 축소한다.\n",
    "\n",
    "from sklearn.decomposition import TruncatedSVD\n",
    "svd = TruncatedSVD(n_components=30)\n",
    "\n",
    "# svd.fit_transform()에 tdm을 넘겨줘서 차원을 축소한다.\n",
    "pos = svd.fit_transform(tdm)\n",
    "pos.shape\n"
   ]
  },
  {
   "cell_type": "code",
   "execution_count": 16,
   "id": "c06419b5",
   "metadata": {},
   "outputs": [
    {
     "data": {
      "text/plain": [
       "(array([ 0.01202443,  0.00427666,  0.00352526,  0.01172501,  0.02464755,\n",
       "         0.00739944,  0.00050757,  0.01443909,  0.00673484, -0.03445305,\n",
       "         0.0391093 ,  0.02751258, -0.01268976,  0.00483503,  0.02184654,\n",
       "        -0.0270759 ,  0.01414012,  0.00501418, -0.00437297, -0.00235463,\n",
       "         0.02036274,  0.0319087 , -0.00495345, -0.01600575,  0.03266971,\n",
       "        -0.03292441, -0.00864665, -0.02613485,  0.05329413, -0.04419401]),\n",
       " array([ 0.11208253,  0.35322849,  0.21312949,  0.05801024, -0.02292011,\n",
       "         0.00185392,  0.02373505, -0.09387659,  0.09096601, -0.02265249,\n",
       "        -0.20087292,  0.10186323,  0.08790947, -0.09997085, -0.20142813,\n",
       "        -0.30725908,  0.00606182, -0.00970667, -0.00482166,  0.17881322,\n",
       "        -0.12914311,  0.29170615,  0.12047421,  0.05492684, -0.11406959,\n",
       "         0.00980921,  0.06036421,  0.07684581, -0.01754519, -0.07723105]))"
      ]
     },
     "execution_count": 16,
     "metadata": {},
     "output_type": "execute_result"
    }
   ],
   "source": [
    "pos[0],pos[1]"
   ]
  },
  {
   "cell_type": "code",
   "execution_count": 19,
   "id": "fa3f7a01",
   "metadata": {},
   "outputs": [
    {
     "name": "stdout",
     "output_type": "stream",
     "text": [
      "pos의 형태: (1000, 30)\n",
      "     Dimension_1  Dimension_2  Dimension_3  Dimension_4  Dimension_5  \\\n",
      "0       0.012024     0.004277     0.003525     0.011725     0.024648   \n",
      "1       0.112083     0.353228     0.213129     0.058010    -0.022920   \n",
      "2       0.334501    -0.006423    -0.243826    -0.035603    -0.141419   \n",
      "3       0.020934    -0.000650     0.004319     0.006786     0.003201   \n",
      "4       0.345339    -0.003285    -0.247736    -0.040587    -0.138192   \n",
      "..           ...          ...          ...          ...          ...   \n",
      "995     0.021922    -0.001562     0.033350     0.006664     0.043987   \n",
      "996     0.141827    -0.116316     0.167737    -0.001444     0.022628   \n",
      "997     0.036260     0.020964     0.014777    -0.012470     0.027323   \n",
      "998     0.007813     0.001756     0.010370     0.000059     0.011134   \n",
      "999     0.021284     0.002559     0.012197    -0.001042     0.009144   \n",
      "\n",
      "     Dimension_6  Dimension_7  Dimension_8  Dimension_9  Dimension_10  ...  \\\n",
      "0       0.007399     0.000508     0.014439     0.006735     -0.034453  ...   \n",
      "1       0.001854     0.023735    -0.093877     0.090966     -0.022652  ...   \n",
      "2       0.078673     0.025819     0.064558     0.031911     -0.014642  ...   \n",
      "3       0.000554    -0.000732     0.018700     0.010974     -0.023701  ...   \n",
      "4       0.079214     0.022549     0.066912     0.035270     -0.033240  ...   \n",
      "..           ...          ...          ...          ...           ...  ...   \n",
      "995     0.022333    -0.001347     0.011691     0.020881     -0.115286  ...   \n",
      "996    -0.010212    -0.012671    -0.021107     0.002271      0.043958  ...   \n",
      "997    -0.034425     0.078599     0.045142     0.017614     -0.100881  ...   \n",
      "998     0.009810    -0.000817    -0.001755     0.008294     -0.034124  ...   \n",
      "999     0.008605     0.015848     0.020039     0.016685     -0.024936  ...   \n",
      "\n",
      "     Dimension_21  Dimension_22  Dimension_23  Dimension_24  Dimension_25  \\\n",
      "0        0.020363      0.031909     -0.004953     -0.016006      0.032670   \n",
      "1       -0.129143      0.291706      0.120474      0.054927     -0.114070   \n",
      "2        0.002577      0.004921      0.011540     -0.000408      0.003642   \n",
      "3       -0.013136     -0.004084     -0.007668     -0.052796      0.011575   \n",
      "4        0.004228      0.022118     -0.026960     -0.033906     -0.003189   \n",
      "..            ...           ...           ...           ...           ...   \n",
      "995      0.036903     -0.102228      0.143413      0.108768      0.035360   \n",
      "996      0.005091      0.027756      0.035235      0.000599      0.057786   \n",
      "997      0.056533     -0.152594      0.306563      0.081003     -0.053317   \n",
      "998     -0.011553      0.002529     -0.010093     -0.032198     -0.008505   \n",
      "999     -0.040258      0.060325      0.095608     -0.193068      0.054024   \n",
      "\n",
      "     Dimension_26  Dimension_27  Dimension_28  Dimension_29  Dimension_30  \n",
      "0       -0.032924     -0.008647     -0.026135      0.053294     -0.044194  \n",
      "1        0.009809      0.060364      0.076846     -0.017545     -0.077231  \n",
      "2       -0.018479      0.012805      0.007291     -0.000289     -0.007985  \n",
      "3       -0.028308      0.020980      0.017751      0.084402     -0.040963  \n",
      "4       -0.012120      0.012631      0.039141      0.005152      0.002200  \n",
      "..            ...           ...           ...           ...           ...  \n",
      "995      0.010356     -0.105188      0.018887     -0.084317     -0.010158  \n",
      "996      0.378749     -0.072300      0.316558      0.186798      0.127127  \n",
      "997      0.103245     -0.080569      0.006708     -0.114477      0.062625  \n",
      "998      0.026049     -0.048784     -0.023428     -0.057247     -0.031878  \n",
      "999      0.137196     -0.148672     -0.077412     -0.063095      0.051999  \n",
      "\n",
      "[1000 rows x 30 columns]\n"
     ]
    }
   ],
   "source": [
    "import pandas as pd\n",
    "\n",
    "# pos의 형태 출력\n",
    "print(f'pos의 형태: {pos.shape}')\n",
    "\n",
    "# 각 차원에 대한 컬럼 이름 생성\n",
    "column_names = [f'Dimension_{i+1}' for i in range(30)]\n",
    "\n",
    "# 데이터프레임 생성\n",
    "pos_df = pd.DataFrame(pos, columns=column_names)\n",
    "\n",
    "# pos_df의 행과 컬럼 이름 출력\n",
    "print(pos_df)\n"
   ]
  },
  {
   "cell_type": "code",
   "execution_count": 18,
   "id": "5860bb09",
   "metadata": {},
   "outputs": [
    {
     "data": {
      "text/plain": [
       "array([[ 0.01202443,  0.00427666,  0.00352526, ..., -0.02613485,\n",
       "         0.05329413, -0.04419401],\n",
       "       [ 0.11208253,  0.35322849,  0.21312949, ...,  0.07684581,\n",
       "        -0.01754519, -0.07723105],\n",
       "       [ 0.11208253,  0.35322849,  0.21312949, ...,  0.07684581,\n",
       "        -0.01754519, -0.07723105],\n",
       "       ...,\n",
       "       [ 0.01202443,  0.00427666,  0.00352526, ..., -0.02613485,\n",
       "         0.05329413, -0.04419401],\n",
       "       [ 0.01202443,  0.00427666,  0.00352526, ..., -0.02613485,\n",
       "         0.05329413, -0.04419401],\n",
       "       [ 0.01202443,  0.00427666,  0.00352526, ..., -0.02613485,\n",
       "         0.05329413, -0.04419401]])"
      ]
     },
     "execution_count": 18,
     "metadata": {},
     "output_type": "execute_result"
    }
   ],
   "source": [
    "pos[sentiment]"
   ]
  },
  {
   "cell_type": "code",
   "execution_count": 15,
   "id": "18572d6a",
   "metadata": {},
   "outputs": [
    {
     "data": {
      "text/plain": [
       "[<matplotlib.lines.Line2D at 0x2106e47d050>]"
      ]
     },
     "execution_count": 15,
     "metadata": {},
     "output_type": "execute_result"
    },
    {
     "data": {
      "image/png": "[encoded data removed]",
      "text/plain": [
       "<Figure size 640x480 with 1 Axes>"
      ]
     },
     "metadata": {},
     "output_type": "display_data"
    }
   ],
   "source": [
    "# - 시각화\n",
    "\n",
    "import matplotlib.pyplot as plt\n",
    "%matplotlib inline\n",
    "dim1 = 0\n",
    "dim2 = 1\n",
    "\n",
    "plt.plot(pos[sentiment == 1, dim1], pos[sentiment == 1, dim2], 'ro')  # 긍정적인 코멘트 (r 빨간색, o 원형)\n",
    "plt.plot(pos[sentiment == 0, dim1], pos[sentiment == 0, dim2], 'bo')  # 부정적인 코멘트 (파란색)\n",
    "\n"
   ]
  },
  {
   "cell_type": "code",
   "execution_count": 18,
   "id": "45e58129",
   "metadata": {},
   "outputs": [
    {
     "data": {
      "text/plain": [
       "[<matplotlib.lines.Line2D at 0x2106e56e590>]"
      ]
     },
     "execution_count": 18,
     "metadata": {},
     "output_type": "execute_result"
    },
    {
     "data": {
      "image/png": "[encoded data removed]",
      "text/plain": [
       "<Figure size 640x480 with 1 Axes>"
      ]
     },
     "metadata": {},
     "output_type": "display_data"
    }
   ],
   "source": [
    "#- 데이터 정규화\n",
    "#  LSA로 만들어진 좌표는 문서의 길이에 영향을 받는다. 이 영향을 제거하기 위해 문서의 원점에서 거리를 1로 변환을 해줄 수 있다.\n",
    "\n",
    "from sklearn.preprocessing import Normalizer\n",
    "norm = Normalizer(copy=False)\n",
    "\n",
    "# 입력이 이미 numpy배열이거나 CSR매트릭스인 경우 False로 설정\n",
    "pos2 = norm.fit_transform(pos)\n",
    "dim1 = 0\n",
    "dim2 = 1\n",
    "\n",
    "plt.plot(pos2[sentiment == 1, dim1], pos2[sentiment == 1, dim2], 'ro')  # 긍정적인 코멘트 (빨간색)\n",
    "plt.plot(pos2[sentiment == 0, dim1], pos2[sentiment == 0, dim2], 'bo')  # 부정적인 코멘트 (파란색)\n"
   ]
  },
  {
   "cell_type": "code",
   "execution_count": 13,
   "id": "46bacc86",
   "metadata": {},
   "outputs": [
    {
     "data": {
      "text/plain": [
       "array([[ 0.11537978,  0.04113347,  0.03350674, ...,  0.04248874,\n",
       "         0.26400944,  0.03490911],\n",
       "       [ 0.14571546,  0.45918104,  0.27713176, ...,  0.10603526,\n",
       "        -0.07939655, -0.03350663],\n",
       "       [ 0.71722839, -0.01377056, -0.52279772, ...,  0.04367106,\n",
       "        -0.03818838, -0.0707227 ],\n",
       "       ...,\n",
       "       [ 0.06567552,  0.03790232,  0.02686308, ..., -0.081351  ,\n",
       "        -0.01611881,  0.29544652],\n",
       "       [ 0.05099115,  0.01124415,  0.06775929, ..., -0.48875387,\n",
       "        -0.43990891, -0.09114275],\n",
       "       [ 0.06664041,  0.00809107,  0.03818555, ..., -0.15583723,\n",
       "        -0.08884873, -0.13780487]])"
      ]
     },
     "execution_count": 13,
     "metadata": {},
     "output_type": "execute_result"
    }
   ],
   "source": [
    "# - 파이프라인 만들어 스텝 줄이기\n",
    "#   LSA와 노멀라이징처럼 2단계의 변환이 필요한 경우 파이프라인으로 만들어두면 한 번에 처리를 할 수 있다.\n",
    "#   사이킷런의 Pipeline 클래스는 연속된 변환을 순차적으로 처리할 수 있는 기능을 제공\n",
    "\n",
    "from sklearn.pipeline import make_pipeline\n",
    "lsa = make_pipeline(svd, norm)\n",
    "lsa.transform(tdm)\n"
   ]
  },
  {
   "cell_type": "code",
   "execution_count": null,
   "id": "71495523",
   "metadata": {},
   "outputs": [],
   "source": [
    "\n"
   ]
  }
 ],
 "metadata": {
  "kernelspec": {
   "display_name": "Python 3 (ipykernel)",
   "language": "python",
   "name": "python3"
  },
  "language_info": {
   "codemirror_mode": {
    "name": "ipython",
    "version": 3
   },
   "file_extension": ".py",
   "mimetype": "text/x-python",
   "name": "python",
   "nbconvert_exporter": "python",
   "pygments_lexer": "ipython3",
   "version": "3.11.3"
  }
 },
 "nbformat": 4,
 "nbformat_minor": 5
}
