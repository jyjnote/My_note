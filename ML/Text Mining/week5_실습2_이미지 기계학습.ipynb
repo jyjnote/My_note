{
 "cells": [
  {
   "cell_type": "code",
   "execution_count": 1,
   "id": "6d3c5e75",
   "metadata": {},
   "outputs": [],
   "source": [
    "# 데이터 증강(Data Argumentation)\n",
    "from keras.preprocessing.image import ImageDataGenerator\n",
    "\n",
    "img_gen = ImageDataGenerator(\n",
    "        rescale=1./255,          # 픽셀 값을 0~1 범위로 변환\n",
    "        rotation_range=40,       # 40도까지 회전\n",
    "        width_shift_range=0.2,   # 20%까지 좌우 이동\n",
    "        height_shift_range=0.2,  # 20%까지 상하 이동\n",
    "        shear_range=0.2,         # 20%까지 기울임\n",
    "        zoom_range=0.2,          # 20%까지 확대\n",
    "        horizontal_flip=True,   # 좌우 뒤집기\n",
    "    )\n"
   ]
  },
  {
   "cell_type": "code",
   "execution_count": 2,
   "id": "7b6a56d8",
   "metadata": {},
   "outputs": [
    {
     "name": "stdout",
     "output_type": "stream",
     "text": [
      "Found 2023 images belonging to 2 classes.\n"
     ]
    }
   ],
   "source": [
    "# 학습 데이터 이미지 로드 \n",
    "train = img_gen.flow_from_directory(\n",
    "    'test_set/test_set',     # 이미지 디렉토리\n",
    "    target_size=(100, 100), # 변환할 크기는 가로 100, 세로 100\n",
    "    color_mode='rgb',       # 컬러는 rgb, 흑백은 grayscale. 생략하면 컬러로 처리한다\n",
    "    class_mode='binary'     # 고양이 vs. 개로 binary 분류\n",
    ")    \n"
   ]
  },
  {
   "cell_type": "code",
   "execution_count": 3,
   "id": "150c0b54",
   "metadata": {},
   "outputs": [
    {
     "name": "stdout",
     "output_type": "stream",
     "text": [
      "Found 8005 images belonging to 2 classes.\n"
     ]
    }
   ],
   "source": [
    "# 검증 데이터 이미지 로드 \n",
    "valid = ImageDataGenerator(rescale=1.0/255).flow_from_directory(\n",
    "    'training_set/training_set',\n",
    "    target_size=(100, 100),\n",
    "    class_mode='binary',\n",
    "    shuffle=False)\n"
   ]
  },
  {
   "cell_type": "code",
   "execution_count": 4,
   "id": "f2a4705e",
   "metadata": {},
   "outputs": [],
   "source": [
    "# - 로지스틱 회귀 모형과 동일한 케라스 모형 만들기\n",
    "from keras import Sequential\n",
    "from keras.layers import Dense, Flatten\n",
    "\n",
    "model = Sequential()\n"
   ]
  },
  {
   "cell_type": "code",
   "execution_count": 5,
   "id": "9a6c3a6c",
   "metadata": {},
   "outputs": [
    {
     "name": "stdout",
     "output_type": "stream",
     "text": [
      "Model: \"sequential\"\n",
      "_________________________________________________________________\n",
      " Layer (type)                Output Shape              Param #   \n",
      "=================================================================\n",
      " flatten (Flatten)           (None, 30000)             0         \n",
      "                                                                 \n",
      " dense (Dense)               (None, 1)                 30001     \n",
      "                                                                 \n",
      "=================================================================\n",
      "Total params: 30,001\n",
      "Trainable params: 30,001\n",
      "Non-trainable params: 0\n",
      "_________________________________________________________________\n"
     ]
    }
   ],
   "source": [
    "# 입력 , 출력 레이어 추가 \n",
    "model.add(Flatten(input_shape=(100, 100, 3)))  # 이미지 크기 (100.100)  3 (RGB)\n",
    "model.add(Dense(1, activation='sigmoid'))\n",
    "\n",
    "model.summary()"
   ]
  },
  {
   "cell_type": "code",
   "execution_count": 6,
   "id": "464c58fe",
   "metadata": {},
   "outputs": [
    {
     "name": "stderr",
     "output_type": "stream",
     "text": [
      "C:\\Users\\user\\AppData\\Local\\anaconda3\\lib\\site-packages\\keras\\optimizers\\legacy\\adam.py:117: UserWarning: The `lr` argument is deprecated, use `learning_rate` instead.\n",
      "  super().__init__(name, **kwargs)\n"
     ]
    }
   ],
   "source": [
    "#모형 설정\n",
    "from keras.optimizers import Adam\n",
    "model.compile(loss='binary_crossentropy', metrics=['accuracy'], optimizer=Adam(lr=0.001))\n"
   ]
  },
  {
   "cell_type": "code",
   "execution_count": null,
   "id": "879b6bf2",
   "metadata": {},
   "outputs": [
    {
     "name": "stderr",
     "output_type": "stream",
     "text": [
      "C:\\Users\\Public\\Documents\\ESTsoft\\CreatorTemp\\ipykernel_14204\\4215728384.py:2: UserWarning: `Model.fit_generator` is deprecated and will be removed in a future version. Please use `Model.fit`, which supports generators.\n",
      "  model.fit_generator(train, validation_data=valid, epochs=30)\n"
     ]
    },
    {
     "name": "stdout",
     "output_type": "stream",
     "text": [
      "Epoch 1/30\n",
      "64/64 [==============================] - 52s 821ms/step - loss: 1.2081 - accuracy: 0.5146 - val_loss: 0.7015 - val_accuracy: 0.5600\n",
      "Epoch 2/30\n",
      "64/64 [==============================] - 14s 219ms/step - loss: 0.7645 - accuracy: 0.5175 - val_loss: 1.0479 - val_accuracy: 0.5048\n",
      "Epoch 3/30\n",
      "64/64 [==============================] - 14s 217ms/step - loss: 0.8346 - accuracy: 0.5255 - val_loss: 0.8308 - val_accuracy: 0.5193\n",
      "Epoch 4/30\n",
      "64/64 [==============================] - 14s 219ms/step - loss: 0.9689 - accuracy: 0.5304 - val_loss: 1.0557 - val_accuracy: 0.5068\n",
      "Epoch 5/30\n",
      "64/64 [==============================] - 14s 219ms/step - loss: 0.8714 - accuracy: 0.5334 - val_loss: 0.9588 - val_accuracy: 0.5123\n",
      "Epoch 6/30\n",
      "64/64 [==============================] - 14s 219ms/step - loss: 0.9137 - accuracy: 0.5230 - val_loss: 0.8846 - val_accuracy: 0.5270\n",
      "Epoch 7/30\n",
      "64/64 [==============================] - 14s 221ms/step - loss: 0.8330 - accuracy: 0.5344 - val_loss: 0.8821 - val_accuracy: 0.5118\n",
      "Epoch 8/30\n",
      "64/64 [==============================] - 15s 233ms/step - loss: 0.8388 - accuracy: 0.5363 - val_loss: 0.9894 - val_accuracy: 0.5077\n",
      "Epoch 9/30\n",
      "64/64 [==============================] - 14s 226ms/step - loss: 0.8698 - accuracy: 0.5220 - val_loss: 0.7326 - val_accuracy: 0.5583\n",
      "Epoch 10/30\n",
      "64/64 [==============================] - 14s 217ms/step - loss: 0.8241 - accuracy: 0.5299 - val_loss: 0.8777 - val_accuracy: 0.5264\n",
      "Epoch 11/30\n",
      "64/64 [==============================] - 13s 211ms/step - loss: 0.8235 - accuracy: 0.5334 - val_loss: 0.8335 - val_accuracy: 0.5462\n",
      "Epoch 12/30\n",
      "64/64 [==============================] - ETA: 0s - loss: 0.9123 - accuracy: 0.5205"
     ]
    }
   ],
   "source": [
    "#모델 학습 \n",
    "model.fit_generator(train, validation_data=valid, epochs=30)\n"
   ]
  },
  {
   "cell_type": "code",
   "execution_count": null,
   "id": "41a4324d",
   "metadata": {},
   "outputs": [],
   "source": [
    "#3. LIME으로 설명\n",
    "#LIME으로 이미지에 대한 설명을 만든다. 먼저 이미지를 (100, 100) 사이즈로 불러온다.\n",
    "#   ----  Version 업그레이드에 따른 변경 \n",
    "\n",
    "import tensorflow as tf\n",
    "from tensorflow.keras.preprocessing.image import ImageDataGenerator\n",
    "\n",
    "# 이미지 로드\n",
    "img = tf.keras.preprocessing.image.load_img('test_set/test_set/cats/cat.4998.jpg', target_size=(100, 100))\n",
    "img\n"
   ]
  },
  {
   "cell_type": "code",
   "execution_count": 35,
   "id": "4feef9af",
   "metadata": {},
   "outputs": [
    {
     "data": {
      "text/plain": [
       "(100, 100, 3)"
      ]
     },
     "execution_count": 35,
     "metadata": {},
     "output_type": "execute_result"
    }
   ],
   "source": [
    "# 이미지를 넘파이 어레이로 바꾸고 255로 나누어 픽셀값을 0~1 범위로 바꾼다.\n",
    "import numpy\n",
    "img_array = numpy.array(img) / 255\n",
    "img_array.shape\n"
   ]
  },
  {
   "cell_type": "code",
   "execution_count": 36,
   "id": "173532fe",
   "metadata": {},
   "outputs": [
    {
     "name": "stdout",
     "output_type": "stream",
     "text": [
      "1/1 [==============================] - 0s 61ms/step\n"
     ]
    },
    {
     "data": {
      "text/plain": [
       "array([[0.4762861]], dtype=float32)"
      ]
     },
     "execution_count": 36,
     "metadata": {},
     "output_type": "execute_result"
    }
   ],
   "source": [
    "#이 이미지는 강아지일 확률이 매우 낮으므로 고양이일 확률이 높다.\n",
    "#하위 폴더의 알파벳 순(디폴트) {'cats': 0, 'dogs': 1}\n",
    "\n",
    "model.predict(numpy.array([img_array]))\n"
   ]
  },
  {
   "cell_type": "code",
   "execution_count": 38,
   "id": "0ce2e589",
   "metadata": {},
   "outputs": [
    {
     "name": "stderr",
     "output_type": "stream",
     "text": [
      "C:\\Users\\Public\\Documents\\ESTsoft\\CreatorTemp\\ipykernel_52528\\2450581391.py:2: UserWarning: `Model.evaluate_generator` is deprecated and will be removed in a future version. Please use `Model.evaluate`, which supports generators.\n",
      "  scores = model.evaluate_generator(valid, steps=None)\n"
     ]
    },
    {
     "name": "stdout",
     "output_type": "stream",
     "text": [
      "accuracy: 57.38%\n"
     ]
    }
   ],
   "source": [
    "# 검증(steps -> 샘플 테스트 수 지정)\n",
    "scores = model.evaluate_generator(valid, steps=None)\n",
    "print(\"%s: %.2f%%\" %(model.metrics_names[1], scores[1]*100))\n"
   ]
  },
  {
   "cell_type": "code",
   "execution_count": null,
   "id": "c594a514",
   "metadata": {},
   "outputs": [],
   "source": []
  },
  {
   "cell_type": "code",
   "execution_count": 39,
   "id": "5ef68fd9",
   "metadata": {},
   "outputs": [],
   "source": [
    "#LIME을 이용해서 이 이미지가 고양이로 분류되는 이유를 알아보자.\n",
    "\n",
    "from lime.lime_image import LimeImageExplainer\n",
    "explainer = LimeImageExplainer()\n"
   ]
  },
  {
   "cell_type": "code",
   "execution_count": 40,
   "id": "927812f6",
   "metadata": {},
   "outputs": [
    {
     "data": {
      "application/vnd.jupyter.widget-view+json": {
       "model_id": "de95efdeafda471e8faa10a463db89ba",
       "version_major": 2,
       "version_minor": 0
      },
      "text/plain": [
       "  0%|          | 0/30 [00:00<?, ?it/s]"
      ]
     },
     "metadata": {},
     "output_type": "display_data"
    },
    {
     "name": "stdout",
     "output_type": "stream",
     "text": [
      "1/1 [==============================] - 0s 17ms/step\n",
      "1/1 [==============================] - 0s 17ms/step\n",
      "1/1 [==============================] - 0s 16ms/step\n"
     ]
    }
   ],
   "source": [
    "# 이 이미지의 일부를 지운 30개의 샘플을 만들어서 고양이로 분류되는 이유를 찾아본다.\n",
    "explanation = explainer.explain_instance(img_array, model.predict, num_samples=30)\n"
   ]
  },
  {
   "cell_type": "code",
   "execution_count": 41,
   "id": "d1470d07",
   "metadata": {},
   "outputs": [],
   "source": [
    "#고양이로 인식하게 만드는 부분만 보이도록 마스크를 만든다.\n",
    "temp, mask = explanation.get_image_and_mask(label=0, hide_rest=True)\n"
   ]
  },
  {
   "cell_type": "code",
   "execution_count": 42,
   "id": "2cbdac86",
   "metadata": {},
   "outputs": [
    {
     "data": {
      "text/plain": [
       "<matplotlib.image.AxesImage at 0x167d8e4e7d0>"
      ]
     },
     "execution_count": 42,
     "metadata": {},
     "output_type": "execute_result"
    },
    {
     "data": {
      "image/png": "[encoded data removed]",
      "text/plain": [
       "<Figure size 640x480 with 1 Axes>"
      ]
     },
     "metadata": {},
     "output_type": "display_data"
    }
   ],
   "source": [
    "#마스크를 시각화한다.\n",
    "from skimage.segmentation import mark_boundaries\n",
    "import matplotlib.pyplot as plt\n",
    "%matplotlib inline\n",
    "plt.imshow(mark_boundaries(temp, mask))\n"
   ]
  },
  {
   "cell_type": "code",
   "execution_count": null,
   "id": "b2d42080",
   "metadata": {},
   "outputs": [],
   "source": []
  }
 ],
 "metadata": {
  "kernelspec": {
   "display_name": "Python 3 (ipykernel)",
   "language": "python",
   "name": "python3"
  },
  "language_info": {
   "codemirror_mode": {
    "name": "ipython",
    "version": 3
   },
   "file_extension": ".py",
   "mimetype": "text/x-python",
   "name": "python",
   "nbconvert_exporter": "python",
   "pygments_lexer": "ipython3",
   "version": "3.11.3"
  }
 },
 "nbformat": 4,
 "nbformat_minor": 5
}
