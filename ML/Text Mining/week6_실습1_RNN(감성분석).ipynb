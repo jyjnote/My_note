{
 "cells": [
  {
   "cell_type": "code",
   "execution_count": 1,
   "id": "fa6fa96a",
   "metadata": {},
   "outputs": [
    {
     "data": {
      "text/html": [
       "<div>\n",
       "<style scoped>\n",
       "    .dataframe tbody tr th:only-of-type {\n",
       "        vertical-align: middle;\n",
       "    }\n",
       "\n",
       "    .dataframe tbody tr th {\n",
       "        vertical-align: top;\n",
       "    }\n",
       "\n",
       "    .dataframe thead th {\n",
       "        text-align: right;\n",
       "    }\n",
       "</style>\n",
       "<table border=\"1\" class=\"dataframe\">\n",
       "  <thead>\n",
       "    <tr style=\"text-align: right;\">\n",
       "      <th></th>\n",
       "      <th>0</th>\n",
       "      <th>1</th>\n",
       "    </tr>\n",
       "  </thead>\n",
       "  <tbody>\n",
       "    <tr>\n",
       "      <th>0</th>\n",
       "      <td>So there is no way for me to plug it in here i...</td>\n",
       "      <td>0</td>\n",
       "    </tr>\n",
       "    <tr>\n",
       "      <th>1</th>\n",
       "      <td>Good case, Excellent value.</td>\n",
       "      <td>1</td>\n",
       "    </tr>\n",
       "    <tr>\n",
       "      <th>2</th>\n",
       "      <td>Great for the jawbone.</td>\n",
       "      <td>1</td>\n",
       "    </tr>\n",
       "    <tr>\n",
       "      <th>3</th>\n",
       "      <td>Tied to charger for conversations lasting more...</td>\n",
       "      <td>0</td>\n",
       "    </tr>\n",
       "    <tr>\n",
       "      <th>4</th>\n",
       "      <td>The mic is great.</td>\n",
       "      <td>1</td>\n",
       "    </tr>\n",
       "  </tbody>\n",
       "</table>\n",
       "</div>"
      ],
      "text/plain": [
       "                                                   0  1\n",
       "0  So there is no way for me to plug it in here i...  0\n",
       "1                        Good case, Excellent value.  1\n",
       "2                             Great for the jawbone.  1\n",
       "3  Tied to charger for conversations lasting more...  0\n",
       "4                                  The mic is great.  1"
      ]
     },
     "execution_count": 1,
     "metadata": {},
     "output_type": "execute_result"
    }
   ],
   "source": [
    "import keras\n",
    "import pandas as pd\n",
    "df = pd.read_csv(r'C:\\Users\\hopio\\Desktop\\공부자료\\kmooc 크롤링\\sentiment labelled sentences\\amazon_cells_labelled.txt', sep='\\t', header=None)\n",
    "df.head()\n",
    "\n"
   ]
  },
  {
   "cell_type": "code",
   "execution_count": 3,
   "id": "537a04c9",
   "metadata": {},
   "outputs": [
    {
     "data": {
      "text/plain": [
       "(155, 'plug')"
      ]
     },
     "execution_count": 3,
     "metadata": {},
     "output_type": "execute_result"
    }
   ],
   "source": [
    "from keras.preprocessing.text import Tokenizer\n",
    "\n",
    "\n",
    "tok = Tokenizer()\n",
    "\n",
    "tok.fit_on_texts(df[0])\n",
    "tok.word_index['plug'],tok.index_word[155]"
   ]
  },
  {
   "cell_type": "code",
   "execution_count": 5,
   "id": "cad32786",
   "metadata": {
    "scrolled": true
   },
   "outputs": [
    {
     "data": {
      "text/plain": [
       "[33,\n",
       " 117,\n",
       " 5,\n",
       " 53,\n",
       " 214,\n",
       " 11,\n",
       " 47,\n",
       " 8,\n",
       " 155,\n",
       " 4,\n",
       " 19,\n",
       " 337,\n",
       " 19,\n",
       " 1,\n",
       " 546,\n",
       " 416,\n",
       " 2,\n",
       " 241,\n",
       " 190,\n",
       " 6,\n",
       " 812]"
      ]
     },
     "execution_count": 5,
     "metadata": {},
     "output_type": "execute_result"
    }
   ],
   "source": [
    "seq = tok.texts_to_sequences(df[0])\n",
    "seq[0]"
   ]
  },
  {
   "cell_type": "code",
   "execution_count": 8,
   "id": "7349fa0f",
   "metadata": {},
   "outputs": [
    {
     "data": {
      "text/plain": [
       "'so there is no way for me to plug it in here in the us unless i go by a converter'"
      ]
     },
     "execution_count": 8,
     "metadata": {},
     "output_type": "execute_result"
    }
   ],
   "source": [
    "text = tok.sequences_to_texts(seq)\n",
    "text[0] #=' '.join(tok.index_word[i] for i in seq[0])"
   ]
  },
  {
   "cell_type": "code",
   "execution_count": 31,
   "id": "0592d5ef",
   "metadata": {},
   "outputs": [
    {
     "data": {
      "text/plain": [
       "array([  0,   0,   0,   0,   0,   0,   0,   0,   0,  33, 117,   5,  53,\n",
       "       214,  11,  47,   8, 155,   4,  19, 337,  19,   1, 546, 416,   2,\n",
       "       241, 190,   6, 812])"
      ]
     },
     "execution_count": 31,
     "metadata": {},
     "output_type": "execute_result"
    }
   ],
   "source": [
    "#  correct import\n",
    "from keras.utils import pad_sequences\n",
    "\n",
    "' '.join(tok.index_word[i] for i in seq[0])\n",
    "\n",
    "MAXLEN = max(len(s) for s in seq)\n",
    "pad = pad_sequences(seq, MAXLEN)\n",
    "pad[0]\n"
   ]
  },
  {
   "cell_type": "code",
   "execution_count": 32,
   "id": "0f60e9f6",
   "metadata": {},
   "outputs": [
    {
     "name": "stdout",
     "output_type": "stream",
     "text": [
      "Model: \"sequential_6\"\n",
      "_________________________________________________________________\n",
      " Layer (type)                Output Shape              Param #   \n",
      "=================================================================\n",
      " embedding_8 (Embedding)     (None, 30, 8)             15032     \n",
      "                                                                 \n",
      " lstm_5 (LSTM)               (None, 16)                1600      \n",
      "                                                                 \n",
      " dense_6 (Dense)             (None, 1)                 17        \n",
      "                                                                 \n",
      "=================================================================\n",
      "Total params: 16,649\n",
      "Trainable params: 16,649\n",
      "Non-trainable params: 0\n",
      "_________________________________________________________________\n"
     ]
    }
   ],
   "source": [
    "from sklearn.model_selection import train_test_split\n",
    "X_train, X_test, y_train, y_test = train_test_split(pad, df[1], test_size=.2, random_state=1234)\n",
    "\n",
    "\n",
    "NUM_WORDS = len(tok.index_word) + 1\n",
    "from keras.models import Sequential\n",
    "from keras.layers import Dense, Embedding, LSTM\n",
    "\n",
    "rnn = Sequential()\n",
    "rnn.add(Embedding(input_dim=NUM_WORDS, output_dim=8, input_length=MAXLEN, mask_zero=True))\n",
    "rnn.add(LSTM(16, return_sequences=False))\n",
    "rnn.add(Dense(1, activation='sigmoid'))\n",
    "rnn.summary()\n"
   ]
  },
  {
   "cell_type": "code",
   "execution_count": 33,
   "id": "00f82148",
   "metadata": {},
   "outputs": [
    {
     "name": "stdout",
     "output_type": "stream",
     "text": [
      "Epoch 1/10\n",
      "25/25 [==============================] - 2s 5ms/step - loss: 0.6931 - accuracy: 0.4825\n",
      "Epoch 2/10\n",
      "25/25 [==============================] - 0s 5ms/step - loss: 0.6879 - accuracy: 0.7113\n",
      "Epoch 3/10\n",
      "25/25 [==============================] - 0s 5ms/step - loss: 0.6677 - accuracy: 0.7887\n",
      "Epoch 4/10\n",
      "25/25 [==============================] - 0s 5ms/step - loss: 0.5656 - accuracy: 0.8537\n",
      "Epoch 5/10\n",
      "25/25 [==============================] - 0s 5ms/step - loss: 0.4249 - accuracy: 0.8975\n",
      "Epoch 6/10\n",
      "25/25 [==============================] - 0s 5ms/step - loss: 0.3201 - accuracy: 0.9413\n",
      "Epoch 7/10\n",
      "25/25 [==============================] - 0s 5ms/step - loss: 0.2413 - accuracy: 0.9625\n",
      "Epoch 8/10\n",
      "25/25 [==============================] - 0s 5ms/step - loss: 0.2122 - accuracy: 0.9650\n",
      "Epoch 9/10\n",
      "25/25 [==============================] - 0s 5ms/step - loss: 0.1661 - accuracy: 0.9750\n",
      "Epoch 10/10\n",
      "25/25 [==============================] - 0s 5ms/step - loss: 0.1312 - accuracy: 0.9837\n"
     ]
    },
    {
     "data": {
      "text/plain": [
       "<keras.callbacks.History at 0x1d5b1490b20>"
      ]
     },
     "execution_count": 33,
     "metadata": {},
     "output_type": "execute_result"
    }
   ],
   "source": [
    "from keras.optimizers import Adam\n",
    "rnn.compile(optimizer=Adam(), loss='binary_crossentropy', metrics=['accuracy'])\n",
    "rnn.fit(X_train, y_train, epochs=10)"
   ]
  },
  {
   "cell_type": "code",
   "execution_count": 34,
   "id": "ea9a43b1",
   "metadata": {},
   "outputs": [
    {
     "name": "stdout",
     "output_type": "stream",
     "text": [
      "7/7 [==============================] - 1s 2ms/step\n"
     ]
    },
    {
     "data": {
      "text/plain": [
       "0.79"
      ]
     },
     "execution_count": 34,
     "metadata": {},
     "output_type": "execute_result"
    }
   ],
   "source": [
    "y_rnn = (rnn.predict(X_test) > 0.5)*1\n",
    "\n",
    "from sklearn.metrics import accuracy_score\n",
    "accuracy_score(y_test, y_rnn)"
   ]
  },
  {
   "cell_type": "code",
   "execution_count": 35,
   "id": "3006b550",
   "metadata": {},
   "outputs": [
    {
     "name": "stdout",
     "output_type": "stream",
     "text": [
      "Epoch 1/10\n",
      "25/25 [==============================] - 2s 5ms/step - loss: 0.6930 - accuracy: 0.5000\n",
      "Epoch 2/10\n",
      "25/25 [==============================] - 0s 5ms/step - loss: 0.6876 - accuracy: 0.5612\n",
      "Epoch 3/10\n",
      "25/25 [==============================] - 0s 5ms/step - loss: 0.6676 - accuracy: 0.8300\n",
      "Epoch 4/10\n",
      "25/25 [==============================] - 0s 5ms/step - loss: 0.5835 - accuracy: 0.8562\n",
      "Epoch 5/10\n",
      "25/25 [==============================] - 0s 6ms/step - loss: 0.4256 - accuracy: 0.9087\n",
      "Epoch 6/10\n",
      "25/25 [==============================] - 0s 6ms/step - loss: 0.3139 - accuracy: 0.9400\n",
      "Epoch 7/10\n",
      "25/25 [==============================] - 0s 5ms/step - loss: 0.2460 - accuracy: 0.9575\n",
      "Epoch 8/10\n",
      "25/25 [==============================] - 0s 7ms/step - loss: 0.2003 - accuracy: 0.9700\n",
      "Epoch 9/10\n",
      "25/25 [==============================] - 0s 5ms/step - loss: 0.1736 - accuracy: 0.9750\n",
      "Epoch 10/10\n",
      "25/25 [==============================] - 0s 5ms/step - loss: 0.1615 - accuracy: 0.9725\n"
     ]
    },
    {
     "data": {
      "text/plain": [
       "<keras.callbacks.History at 0x1d5c70af340>"
      ]
     },
     "execution_count": 35,
     "metadata": {},
     "output_type": "execute_result"
    }
   ],
   "source": [
    "# - 역방향 \n",
    "# 단어처리 순서를 앞에서 뒤로 하는 것이 아니라 역방향으로 뒤에서 앞으로도 할 수 있다. 순환신경망 레이어에 go_backwards=True를 추가해주면 된다.\n",
    "rnn_goback = Sequential()\n",
    "rnn_goback.add(Embedding(input_dim=NUM_WORDS, output_dim=8, input_length=MAXLEN, mask_zero=True))\n",
    "rnn_goback.add(LSTM(16, return_sequences=False, go_backwards=True))\n",
    "rnn_goback.add(Dense(1, activation='sigmoid'))\n",
    "\n",
    "rnn_goback.compile(optimizer=Adam(), loss='binary_crossentropy', metrics=['accuracy'])\n",
    "rnn_goback.fit(X_train, y_train, epochs=10)\n",
    "\n",
    "\n"
   ]
  },
  {
   "cell_type": "code",
   "execution_count": 37,
   "id": "72465cbc",
   "metadata": {},
   "outputs": [
    {
     "name": "stdout",
     "output_type": "stream",
     "text": [
      "7/7 [==============================] - 0s 3ms/step\n"
     ]
    },
    {
     "data": {
      "text/plain": [
       "0.725"
      ]
     },
     "execution_count": 37,
     "metadata": {},
     "output_type": "execute_result"
    }
   ],
   "source": [
    "y_rnn_goback = (rnn_goback.predict(X_test) > 0.5)*1\n",
    "\n",
    "from sklearn.metrics import accuracy_score\n",
    "accuracy_score(y_rnn_goback, y_rnn)"
   ]
  },
  {
   "cell_type": "code",
   "execution_count": 38,
   "id": "0d775921",
   "metadata": {},
   "outputs": [
    {
     "name": "stdout",
     "output_type": "stream",
     "text": [
      "Epoch 1/10\n",
      "25/25 [==============================] - 4s 5ms/step - loss: 0.6931 - accuracy: 0.5013\n",
      "Epoch 2/10\n",
      "25/25 [==============================] - 0s 5ms/step - loss: 0.6897 - accuracy: 0.5425\n",
      "Epoch 3/10\n",
      "25/25 [==============================] - 0s 5ms/step - loss: 0.6775 - accuracy: 0.7950\n",
      "Epoch 4/10\n",
      "25/25 [==============================] - 0s 5ms/step - loss: 0.6116 - accuracy: 0.8350\n",
      "Epoch 5/10\n",
      "25/25 [==============================] - 0s 6ms/step - loss: 0.3938 - accuracy: 0.9075\n",
      "Epoch 6/10\n",
      "25/25 [==============================] - 0s 5ms/step - loss: 0.2409 - accuracy: 0.9600\n",
      "Epoch 7/10\n",
      "25/25 [==============================] - 0s 5ms/step - loss: 0.1659 - accuracy: 0.9750\n",
      "Epoch 8/10\n",
      "25/25 [==============================] - 0s 5ms/step - loss: 0.1274 - accuracy: 0.9787\n",
      "Epoch 9/10\n",
      "25/25 [==============================] - 0s 5ms/step - loss: 0.1016 - accuracy: 0.9875\n",
      "Epoch 10/10\n",
      "25/25 [==============================] - 0s 5ms/step - loss: 0.0882 - accuracy: 0.9875\n"
     ]
    },
    {
     "data": {
      "text/plain": [
       "<keras.callbacks.History at 0x1d5b0228700>"
      ]
     },
     "execution_count": 38,
     "metadata": {},
     "output_type": "execute_result"
    }
   ],
   "source": [
    " # - 양방향\n",
    "# 순방향 RNN과 양방향 RNN을 합치면 양방향 RNN이 된다. Bidirectional을 사용한다.\n",
    "from keras.layers import Bidirectional\n",
    "rnn_bidirec = Sequential()\n",
    "rnn_bidirec.add(Embedding(input_dim=NUM_WORDS, output_dim=8, input_length=MAXLEN, mask_zero=True))\n",
    "rnn_bidirec.add(Bidirectional(LSTM(16, return_sequences=False)))\n",
    "rnn_bidirec.add(Dense(1, activation='sigmoid'))\n",
    "\n",
    "\n",
    "rnn_bidirec.compile(optimizer=Adam(), loss='binary_crossentropy', metrics=['accuracy'])\n",
    "rnn_bidirec.fit(X_train, y_train, epochs=10)\n",
    "\n",
    "\n"
   ]
  },
  {
   "cell_type": "code",
   "execution_count": 39,
   "id": "13078d35",
   "metadata": {},
   "outputs": [
    {
     "name": "stdout",
     "output_type": "stream",
     "text": [
      "7/7 [==============================] - 2s 3ms/step\n"
     ]
    },
    {
     "data": {
      "text/plain": [
       "0.87"
      ]
     },
     "execution_count": 39,
     "metadata": {},
     "output_type": "execute_result"
    }
   ],
   "source": [
    "y_rnn_bidirec = (rnn_bidirec.predict(X_test) > 0.5)*1\n",
    "\n",
    "from sklearn.metrics import accuracy_score\n",
    "accuracy_score(y_rnn_bidirec, y_rnn)\n"
   ]
  },
  {
   "cell_type": "code",
   "execution_count": 40,
   "id": "ea736fa3",
   "metadata": {},
   "outputs": [
    {
     "name": "stdout",
     "output_type": "stream",
     "text": [
      "Model: \"sequential_9\"\n",
      "_________________________________________________________________\n",
      " Layer (type)                Output Shape              Param #   \n",
      "=================================================================\n",
      " embedding_11 (Embedding)    (None, 30, 8)             15032     \n",
      "                                                                 \n",
      " conv1d_2 (Conv1D)           (None, 28, 16)            400       \n",
      "                                                                 \n",
      " global_max_pooling1d_2 (Glo  (None, 16)               0         \n",
      " balMaxPooling1D)                                                \n",
      "                                                                 \n",
      " dense_9 (Dense)             (None, 1)                 17        \n",
      "                                                                 \n",
      "=================================================================\n",
      "Total params: 15,449\n",
      "Trainable params: 15,449\n",
      "Non-trainable params: 0\n",
      "_________________________________________________________________\n",
      "Epoch 1/10\n",
      "25/25 [==============================] - 0s 1ms/step - loss: 0.6938 - accuracy: 0.4900\n",
      "Epoch 2/10\n",
      "25/25 [==============================] - 0s 1ms/step - loss: 0.6881 - accuracy: 0.7038\n",
      "Epoch 3/10\n",
      "25/25 [==============================] - 0s 1ms/step - loss: 0.6817 - accuracy: 0.7525\n",
      "Epoch 4/10\n",
      "25/25 [==============================] - 0s 1ms/step - loss: 0.6727 - accuracy: 0.8025\n",
      "Epoch 5/10\n",
      "25/25 [==============================] - 0s 1ms/step - loss: 0.6587 - accuracy: 0.8612\n",
      "Epoch 6/10\n",
      "25/25 [==============================] - 0s 1ms/step - loss: 0.6378 - accuracy: 0.9000\n",
      "Epoch 7/10\n",
      "25/25 [==============================] - 0s 1ms/step - loss: 0.6066 - accuracy: 0.9100\n",
      "Epoch 8/10\n",
      "25/25 [==============================] - 0s 1ms/step - loss: 0.5658 - accuracy: 0.9075\n",
      "Epoch 9/10\n",
      "25/25 [==============================] - 0s 1ms/step - loss: 0.5149 - accuracy: 0.9200\n",
      "Epoch 10/10\n",
      "25/25 [==============================] - 0s 1ms/step - loss: 0.4589 - accuracy: 0.9250\n",
      "7/7 [==============================] - 0s 1ms/step - loss: 0.5277 - accuracy: 0.7700\n",
      "Test Accuracy: 0.7699999809265137\n"
     ]
    }
   ],
   "source": [
    "# CNN 모델 추가\n",
    "\n",
    "from keras.layers import Conv1D, GlobalMaxPooling1D\n",
    "\n",
    "\n",
    "cnn = Sequential()\n",
    "cnn.add(Embedding(input_dim=NUM_WORDS, output_dim=8, input_length=MAXLEN))\n",
    "cnn.add(Conv1D(filters=16, kernel_size=3, activation='relu'))\n",
    "cnn.add(GlobalMaxPooling1D())\n",
    "cnn.add(Dense(1, activation='sigmoid'))\n",
    "\n",
    "cnn.summary()\n",
    "\n",
    "# 모델 컴파일 및 학습\n",
    "cnn.compile(optimizer='adam', loss='binary_crossentropy', metrics=['accuracy'])\n",
    "cnn.fit(X_train, y_train, epochs=10)\n",
    "\n",
    "# 테스트 데이터 평가\n",
    "accuracy = cnn.evaluate(X_test, y_test)[1]\n",
    "print(\"Test Accuracy:\", accuracy)"
   ]
  },
  {
   "cell_type": "code",
   "execution_count": 41,
   "id": "3416ea2c",
   "metadata": {},
   "outputs": [
    {
     "name": "stdout",
     "output_type": "stream",
     "text": [
      "Model: \"model_1\"\n",
      "__________________________________________________________________________________________________\n",
      " Layer (type)                   Output Shape         Param #     Connected to                     \n",
      "==================================================================================================\n",
      " input_4 (InputLayer)           [(None, 30)]         0           []                               \n",
      "                                                                                                  \n",
      " input_3 (InputLayer)           [(None, 30)]         0           []                               \n",
      "                                                                                                  \n",
      " embedding_13 (Embedding)       (None, 30, 8)        15032       ['input_4[0][0]']                \n",
      "                                                                                                  \n",
      " embedding_12 (Embedding)       (None, 30, 8)        15032       ['input_3[0][0]']                \n",
      "                                                                                                  \n",
      " conv1d_3 (Conv1D)              (None, 28, 16)       400         ['embedding_13[0][0]']           \n",
      "                                                                                                  \n",
      " lstm_8 (LSTM)                  (None, 16)           1600        ['embedding_12[0][0]']           \n",
      "                                                                                                  \n",
      " global_max_pooling1d_3 (Global  (None, 16)          0           ['conv1d_3[0][0]']               \n",
      " MaxPooling1D)                                                                                    \n",
      "                                                                                                  \n",
      " concatenate_1 (Concatenate)    (None, 32)           0           ['lstm_8[0][0]',                 \n",
      "                                                                  'global_max_pooling1d_3[0][0]'] \n",
      "                                                                                                  \n",
      " dense_10 (Dense)               (None, 1)            33          ['concatenate_1[0][0]']          \n",
      "                                                                                                  \n",
      "==================================================================================================\n",
      "Total params: 32,097\n",
      "Trainable params: 32,097\n",
      "Non-trainable params: 0\n",
      "__________________________________________________________________________________________________\n",
      "Epoch 1/10\n",
      "25/25 [==============================] - 2s 4ms/step - loss: 0.6914 - accuracy: 0.5300\n",
      "Epoch 2/10\n",
      "25/25 [==============================] - 0s 4ms/step - loss: 0.6791 - accuracy: 0.7150\n",
      "Epoch 3/10\n",
      "25/25 [==============================] - 0s 4ms/step - loss: 0.6575 - accuracy: 0.7312\n",
      "Epoch 4/10\n",
      "25/25 [==============================] - 0s 4ms/step - loss: 0.6095 - accuracy: 0.7437\n",
      "Epoch 5/10\n",
      "25/25 [==============================] - 0s 4ms/step - loss: 0.5349 - accuracy: 0.8537\n",
      "Epoch 6/10\n",
      "25/25 [==============================] - 0s 4ms/step - loss: 0.4036 - accuracy: 0.8838\n",
      "Epoch 7/10\n",
      "25/25 [==============================] - 0s 4ms/step - loss: 0.2707 - accuracy: 0.9375\n",
      "Epoch 8/10\n",
      "25/25 [==============================] - 0s 4ms/step - loss: 0.2022 - accuracy: 0.9663\n",
      "Epoch 9/10\n",
      "25/25 [==============================] - 0s 5ms/step - loss: 0.1366 - accuracy: 0.9825\n",
      "Epoch 10/10\n",
      "25/25 [==============================] - 0s 4ms/step - loss: 0.1054 - accuracy: 0.9862\n",
      "7/7 [==============================] - 0s 2ms/step - loss: 0.4887 - accuracy: 0.8000\n",
      "Test Accuracy: 0.800000011920929\n"
     ]
    }
   ],
   "source": [
    "# 앙상블 모델 = LSTM 모델 + CNN 모델\n",
    "\n",
    "from keras.models import Model\n",
    "from keras.layers import Input, concatenate\n",
    "\n",
    "\n",
    "lstm_input = Input(shape=(MAXLEN,))\n",
    "lstm_embedding = Embedding(input_dim=NUM_WORDS, output_dim=8, input_length=MAXLEN)(lstm_input)\n",
    "lstm_output = LSTM(16, return_sequences=False)(lstm_embedding)\n",
    "\n",
    "# CNN 모델\n",
    "cnn_input = Input(shape=(MAXLEN,))\n",
    "cnn_embedding = Embedding(input_dim=NUM_WORDS, output_dim=8, input_length=MAXLEN)(cnn_input)\n",
    "cnn_conv = Conv1D(filters=16, kernel_size=3, activation='relu')(cnn_embedding)\n",
    "cnn_pool = GlobalMaxPooling1D()(cnn_conv)\n",
    "\n",
    "# LSTM과 CNN 모델 병합\n",
    "merged = concatenate([lstm_output, cnn_pool])\n",
    "output = Dense(1, activation='sigmoid')(merged)\n",
    "\n",
    "# 앙상블 모델 생성\n",
    "ensemble_model = Model(inputs=[lstm_input, cnn_input], outputs=output)\n",
    "ensemble_model.compile(optimizer='adam', loss='binary_crossentropy', metrics=['accuracy'])\n",
    "\n",
    "ensemble_model.summary()\n",
    "\n",
    "# 학습 및 평가\n",
    "ensemble_model.fit([X_train, X_train], y_train, epochs=10)\n",
    "accuracy = ensemble_model.evaluate([X_test, X_test], y_test)[1]\n",
    "print(\"Test Accuracy:\", accuracy)\n"
   ]
  },
  {
   "cell_type": "code",
   "execution_count": null,
   "id": "2b7aef7d",
   "metadata": {},
   "outputs": [],
   "source": []
  }
 ],
 "metadata": {
  "kernelspec": {
   "display_name": "Python 3 (ipykernel)",
   "language": "python",
   "name": "python3"
  },
  "language_info": {
   "codemirror_mode": {
    "name": "ipython",
    "version": 3
   },
   "file_extension": ".py",
   "mimetype": "text/x-python",
   "name": "python",
   "nbconvert_exporter": "python",
   "pygments_lexer": "ipython3",
   "version": "3.11.3"
  }
 },
 "nbformat": 4,
 "nbformat_minor": 5
}
