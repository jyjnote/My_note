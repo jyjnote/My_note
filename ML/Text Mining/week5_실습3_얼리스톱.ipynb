{
 "cells": [
  {
   "cell_type": "code",
   "execution_count": 1,
   "id": "793674d0",
   "metadata": {},
   "outputs": [],
   "source": [
    "# 데이터 증강(Data Argumentation)\n",
    "from keras.preprocessing.image import ImageDataGenerator\n",
    "\n",
    "img_gen = ImageDataGenerator(\n",
    "        rescale=1./255,          # 픽셀 값을 0~1 범위로 변환\n",
    "        rotation_range=40,       # 40도까지 회전\n",
    "        width_shift_range=0.2,   # 20%까지 좌우 이동\n",
    "        height_shift_range=0.2,  # 20%까지 상하 이동\n",
    "        shear_range=0.2,         # 20%까지 기울임\n",
    "        zoom_range=0.2,          # 20%까지 확대\n",
    "        horizontal_flip=True,   # 좌우 뒤집기\n",
    "    )\n",
    "\n"
   ]
  },
  {
   "cell_type": "code",
   "execution_count": 2,
   "id": "ba0d2f8a",
   "metadata": {},
   "outputs": [
    {
     "name": "stdout",
     "output_type": "stream",
     "text": [
      "Found 8005 images belonging to 2 classes.\n",
      "Found 2023 images belonging to 2 classes.\n"
     ]
    }
   ],
   "source": [
    "# 데이터 증강(Data Argumentation)\n",
    "from keras.preprocessing.image import ImageDataGenerator\n",
    "\n",
    "# 학습 데이터 이미지 로드 \n",
    "train = img_gen.flow_from_directory(\n",
    "    'training_set/training_set',     # 이미지 디렉토리\n",
    "    target_size=(100, 100), # 변환할 크기는 가로 100, 세로 100\n",
    "    color_mode='rgb',       # 컬러는 rgb, 흑백은 grayscale. 생략하면 컬러로 처리한다\n",
    "    class_mode='binary'     # 고양이 vs. 개로 binary 분류\n",
    ")    \n",
    "\n",
    "\n",
    "# 검증 데이터 이미지 로드 \n",
    "valid = ImageDataGenerator(rescale=1.0/255).flow_from_directory(\n",
    "    'test_set/test_set',\n",
    "    target_size=(100, 100),\n",
    "    class_mode='binary',\n",
    "    shuffle=False)\n"
   ]
  },
  {
   "cell_type": "code",
   "execution_count": 3,
   "id": "51653edc",
   "metadata": {},
   "outputs": [
    {
     "name": "stdout",
     "output_type": "stream",
     "text": [
      "Model: \"sequential\"\n",
      "_________________________________________________________________\n",
      " Layer (type)                Output Shape              Param #   \n",
      "=================================================================\n",
      " flatten (Flatten)           (None, 30000)             0         \n",
      "                                                                 \n",
      " dense (Dense)               (None, 1)                 30001     \n",
      "                                                                 \n",
      "=================================================================\n",
      "Total params: 30,001\n",
      "Trainable params: 30,001\n",
      "Non-trainable params: 0\n",
      "_________________________________________________________________\n"
     ]
    }
   ],
   "source": [
    "# - 이전 시간 소스 복사해서 모델 생성\n",
    "from keras import Sequential\n",
    "from keras.layers import Dense, Flatten\n",
    "\n",
    "m1 = Sequential()\n",
    "m1.add(Flatten(input_shape=(100, 100, 3)))\n",
    "m1.add(Dense(1, activation='sigmoid'))\n",
    "m1.summary()\n"
   ]
  },
  {
   "cell_type": "code",
   "execution_count": null,
   "id": "567cb953",
   "metadata": {},
   "outputs": [
    {
     "name": "stderr",
     "output_type": "stream",
     "text": [
      "C:\\Users\\Public\\Documents\\ESTsoft\\CreatorTemp\\ipykernel_57352\\3656149965.py:5: UserWarning: `Model.fit_generator` is deprecated and will be removed in a future version. Please use `Model.fit`, which supports generators.\n",
      "  history1 = m1.fit_generator(train, validation_data=valid, epochs=5)\n"
     ]
    },
    {
     "name": "stdout",
     "output_type": "stream",
     "text": [
      "Epoch 1/5\n",
      "251/251 [==============================] - 37s 146ms/step - loss: 0.8936 - accuracy: 0.5171 - val_loss: 0.7955 - val_accuracy: 0.5329\n",
      "Epoch 2/5\n",
      "251/251 [==============================] - 24s 97ms/step - loss: 0.9115 - accuracy: 0.5243 - val_loss: 0.6903 - val_accuracy: 0.5779\n",
      "Epoch 3/5\n",
      "251/251 [==============================] - 24s 97ms/step - loss: 0.8368 - accuracy: 0.5334 - val_loss: 0.7069 - val_accuracy: 0.5610\n",
      "Epoch 4/5\n",
      "249/251 [============================>.] - ETA: 0s - loss: 0.8695 - accuracy: 0.5354"
     ]
    }
   ],
   "source": [
    "#  - 학습 시키기\n",
    "from keras.optimizers import Adam, RMSprop\n",
    "\n",
    "m1.compile(loss='binary_crossentropy', metrics=['accuracy'], optimizer=Adam())\n",
    "history1 = m1.fit_generator(train, validation_data=valid, epochs=5)\n"
   ]
  },
  {
   "cell_type": "code",
   "execution_count": null,
   "id": "ce4e5b18",
   "metadata": {},
   "outputs": [],
   "source": [
    "# - 그래프 그려 보기(정확도, 손실)\n",
    "#Keras에서는 모델 학습을 위해 fit() 함수를 사용합니다. 이 때, 리턴값으로 학습 이력(History) 정보를 리턴합니다\n",
    "#•\tloss : 훈련 손실값\n",
    "#•\tacc : 훈련 정확도\n",
    "#•\tval_loss : 검증 손실값\n",
    "#•\tval_acc : 검증 정확도\n",
    "\n",
    "%matplotlib inline\n",
    "import matplotlib.pyplot as plt\n",
    "\n",
    "# TensorFlow 2.5 변경 반영\n",
    "acc = history1.history['accuracy']\n",
    "val_acc = history1.history['val_accuracy']\n",
    "epochs = range(1, len(acc) + 1)\n",
    "\n",
    "plt.plot(epochs, acc, 'r', label='Training acc')\n",
    "\n",
    "plt.plot(epochs, val_acc, 'b', label='Validation acc')\n"
   ]
  },
  {
   "cell_type": "code",
   "execution_count": 23,
   "id": "4cf7283b",
   "metadata": {},
   "outputs": [],
   "source": [
    "# 2. 얼리 스톱핑\n",
    "#  - 앞의 소스로 model2와 history2만들기\n",
    "\n",
    "from keras.callbacks import EarlyStopping\n",
    "m3 = Sequential()\n",
    "m3.add(Flatten(input_shape=(100, 100, 3)))\n",
    "m3.add(Dense(1, activation='sigmoid'))\n",
    "\n",
    "m3.compile(loss='binary_crossentropy', metrics=['accuracy'], optimizer=Adam())\n"
   ]
  },
  {
   "cell_type": "code",
   "execution_count": 24,
   "id": "1dab3257",
   "metadata": {},
   "outputs": [
    {
     "name": "stdout",
     "output_type": "stream",
     "text": [
      "Epoch 1/30\n"
     ]
    },
    {
     "name": "stderr",
     "output_type": "stream",
     "text": [
      "C:\\Users\\Public\\Documents\\ESTsoft\\CreatorTemp\\ipykernel_53712\\2155411224.py:1: UserWarning: `Model.fit_generator` is deprecated and will be removed in a future version. Please use `Model.fit`, which supports generators.\n",
      "  history3 = m3.fit_generator(train,\n"
     ]
    },
    {
     "name": "stdout",
     "output_type": "stream",
     "text": [
      "251/251 [==============================] - 24s 96ms/step - loss: 0.9091 - accuracy: 0.5132 - val_loss: 0.8975 - val_accuracy: 0.5121\n",
      "Epoch 2/30\n",
      "251/251 [==============================] - 24s 96ms/step - loss: 0.9811 - accuracy: 0.5293 - val_loss: 0.9552 - val_accuracy: 0.5151\n",
      "Epoch 3/30\n",
      "251/251 [==============================] - 24s 96ms/step - loss: 0.8659 - accuracy: 0.5373 - val_loss: 0.7239 - val_accuracy: 0.5650\n",
      "Epoch 4/30\n",
      "251/251 [==============================] - 25s 99ms/step - loss: 0.8916 - accuracy: 0.5345 - val_loss: 0.7049 - val_accuracy: 0.5581\n",
      "Epoch 5/30\n",
      "251/251 [==============================] - 25s 98ms/step - loss: 0.9056 - accuracy: 0.5337 - val_loss: 1.2991 - val_accuracy: 0.5007\n",
      "Epoch 6/30\n",
      "251/251 [==============================] - 25s 99ms/step - loss: 0.8372 - accuracy: 0.5417 - val_loss: 0.9898 - val_accuracy: 0.5190\n"
     ]
    }
   ],
   "source": [
    "history3 = m3.fit_generator(train,\n",
    "                            validation_data=valid,\n",
    "                            epochs=30,\n",
    "                            callbacks=[\n",
    "                                EarlyStopping(monitor = \"val_loss\", patience=2)\n",
    "                            ])\n"
   ]
  },
  {
   "cell_type": "code",
   "execution_count": 18,
   "id": "a5fafc53",
   "metadata": {},
   "outputs": [
    {
     "data": {
      "text/plain": [
       "[<matplotlib.lines.Line2D at 0x14b8f6bdd50>]"
      ]
     },
     "execution_count": 18,
     "metadata": {},
     "output_type": "execute_result"
    },
    {
     "data": {
      "image/png": "[encoded data removed]",
      "text/plain": [
       "<Figure size 640x480 with 1 Axes>"
      ]
     },
     "metadata": {},
     "output_type": "display_data"
    }
   ],
   "source": [
    "#  - 그래프 그려 보기\n",
    "acc = history3.history['accuracy']\n",
    "val_acc = history3.history['val_accuracy']\n",
    "epochs = range(1, len(acc) + 1)\n",
    "\n",
    "plt.plot(epochs, acc, 'r', label='Training acc')\n",
    "plt.plot(epochs, val_acc, 'b', label='Validation acc')\n"
   ]
  },
  {
   "cell_type": "code",
   "execution_count": null,
   "id": "991c7c27",
   "metadata": {},
   "outputs": [],
   "source": []
  }
 ],
 "metadata": {
  "kernelspec": {
   "display_name": "Python 3 (ipykernel)",
   "language": "python",
   "name": "python3"
  },
  "language_info": {
   "codemirror_mode": {
    "name": "ipython",
    "version": 3
   },
   "file_extension": ".py",
   "mimetype": "text/x-python",
   "name": "python",
   "nbconvert_exporter": "python",
   "pygments_lexer": "ipython3",
   "version": "3.11.3"
  }
 },
 "nbformat": 4,
 "nbformat_minor": 5
}
