{
 "cells": [
  {
   "cell_type": "markdown",
   "id": "x3iL08PxxTmd",
   "metadata": {
    "id": "x3iL08PxxTmd"
   },
   "source": [
    "KoNLPy 설치 (https://ingu627.github.io/tips/install_konlpy/)\n",
    "1. java 설치\n",
    "- https://java.com/ko/download/manual.jsp\n",
    "- Python이 64비트면 Java도 64비트여야 한다. 32비트인 경우도 같다\n",
    "\n",
    "2. 환경변수 설정\n",
    "- java 설치 후 환경 변수 설정 필요\n",
    "  - C:\\Program Files\\Java\\jre1.8.0_241 설치 경로 확인 \n",
    "- 제어판/시스템 및 보안/고급 시스템 설정/고급/환경 변수\n",
    "- 새로만들기(N) 클릭\n",
    "- 변수명:JAVA_HOME, 값: C:\\Program Files\\Java\\jre1.8.0_241 입력\n",
    "\n",
    "3. Jpype 설치\n",
    "  - 이제 JAVA와 Python을 연결해주는 역할을 하는 JPype를 설치해야 합니다.\n",
    "- 설치 주소 : https://www.lfd.uci.edu/~gohlke/pythonlibs/#jpype\n",
    "- JPype1‑1.3.0‑cp38‑cp38‑win_amd64.whl   (Python3.8/window64 bit)\n",
    "- pip install JPype1‑1.3.0‑cp38‑cp38‑win_amd64.whl\n",
    "\n",
    "4. KoNLPy 설치\n",
    " - pip install konlpy\n"
   ]
  },
  {
   "cell_type": "code",
   "execution_count": 6,
   "id": "0a8e7127",
   "metadata": {},
   "outputs": [
    {
     "name": "stdout",
     "output_type": "stream",
     "text": [
      "Requirement already satisfied: konlpy in c:\\users\\jaeyeon\\anaconda3\\lib\\site-packages (0.6.0)\n",
      "Requirement already satisfied: JPype1>=0.7.0 in c:\\users\\jaeyeon\\anaconda3\\lib\\site-packages (from konlpy) (1.4.1)\n",
      "Requirement already satisfied: lxml>=4.1.0 in c:\\users\\jaeyeon\\anaconda3\\lib\\site-packages (from konlpy) (4.9.2)\n",
      "Requirement already satisfied: numpy>=1.6 in c:\\users\\jaeyeon\\anaconda3\\lib\\site-packages (from konlpy) (1.24.3)\n",
      "Requirement already satisfied: packaging in c:\\users\\jaeyeon\\anaconda3\\lib\\site-packages (from JPype1>=0.7.0->konlpy) (23.2)\n"
     ]
    }
   ],
   "source": [
    "!pip install konlpy"
   ]
  },
  {
   "cell_type": "code",
   "execution_count": null,
   "id": "9ca8b20c",
   "metadata": {},
   "outputs": [],
   "source": [
    "!pip install --upgrade --force-reinstall JPype1"
   ]
  },
  {
   "cell_type": "code",
   "execution_count": null,
   "id": "8b9a87b3",
   "metadata": {},
   "outputs": [],
   "source": [
    "!pip install blosc2 cython"
   ]
  },
  {
   "cell_type": "code",
   "execution_count": 4,
   "id": "61c60a76",
   "metadata": {},
   "outputs": [
    {
     "name": "stdout",
     "output_type": "stream",
     "text": [
      "Requirement already satisfied: tables in c:\\users\\jaeyeon\\anaconda3\\lib\\site-packages (3.9.0)\n",
      "Requirement already satisfied: numpy>=1.19.0 in c:\\users\\jaeyeon\\anaconda3\\lib\\site-packages (from tables) (1.24.3)\n",
      "Requirement already satisfied: numexpr>=2.6.2 in c:\\users\\jaeyeon\\anaconda3\\lib\\site-packages (from tables) (2.8.4)\n",
      "Requirement already satisfied: packaging in c:\\users\\jaeyeon\\anaconda3\\lib\\site-packages (from tables) (23.2)\n",
      "Requirement already satisfied: py-cpuinfo in c:\\users\\jaeyeon\\anaconda3\\lib\\site-packages (from tables) (8.0.0)\n",
      "Requirement already satisfied: blosc2>=2.2.8 in c:\\users\\jaeyeon\\anaconda3\\lib\\site-packages (from tables) (2.2.9)\n",
      "Requirement already satisfied: ndindex>=1.4 in c:\\users\\jaeyeon\\anaconda3\\lib\\site-packages (from blosc2>=2.2.8->tables) (1.7)\n",
      "Requirement already satisfied: msgpack in c:\\users\\jaeyeon\\anaconda3\\lib\\site-packages (from blosc2>=2.2.8->tables) (1.0.3)\n"
     ]
    }
   ],
   "source": [
    "!pip install --upgrade tables\n"
   ]
  },
  {
   "cell_type": "code",
   "execution_count": 1,
   "id": "bbd0f66d",
   "metadata": {
    "id": "bbd0f66d",
    "outputId": "f75136c1-282c-4800-9039-9ad6a9f953b0"
   },
   "outputs": [
    {
     "data": {
      "text/plain": [
       "[('한국어', 'NNP'),\n",
       " ('로', 'JKB'),\n",
       " ('텍스트', 'NNG'),\n",
       " ('를', 'JKO'),\n",
       " ('분석', 'NNG'),\n",
       " ('하', 'XSV'),\n",
       " ('아', 'EC'),\n",
       " ('보', 'VX'),\n",
       " ('ㅂ시다', 'EF'),\n",
       " ('.', 'SF')]"
      ]
     },
     "execution_count": 1,
     "metadata": {},
     "output_type": "execute_result"
    }
   ],
   "source": [
    "# 형태소 분석 \n",
    "# pos는 part of speech의 약자로 한국어로는 품사를 의미한다.\n",
    "\n",
    "from konlpy.tag import Komoran\n",
    "tagger = Komoran()  # 형태소 분석기\n",
    "tagger.pos('한국어로 텍스트를 분석해 봅시다.')  # 형태소 분석\n",
    "[('한국어', 'NNP'),\n",
    " ('로', 'JKB'),\n",
    " ('텍스트', 'NNG'),\n",
    " ('를', 'JKO'),\n",
    " ('분석', 'NNG'),\n",
    " ('하', 'XSV'),\n",
    " ('아', 'EC'),\n",
    " ('보', 'VX'),\n",
    " ('ㅂ시다', 'EF'),\n",
    " ('.', 'SF')]\n"
   ]
  },
  {
   "cell_type": "code",
   "execution_count": 97,
   "id": "28049260",
   "metadata": {},
   "outputs": [
    {
     "data": {
      "text/plain": [
       "[('한국어', 'NNP'),\n",
       " ('로', 'JKB'),\n",
       " ('텍스트', 'NNP'),\n",
       " ('를', 'JKO'),\n",
       " ('분석', 'NNG'),\n",
       " ('하', 'XSV'),\n",
       " ('아', 'EC'),\n",
       " ('보', 'VX'),\n",
       " ('ㅂ시다', 'EF'),\n",
       " ('.', 'SF')]"
      ]
     },
     "execution_count": 97,
     "metadata": {},
     "output_type": "execute_result"
    }
   ],
   "source": [
    "tagger.pos('한국어로 텍스트를 분석해 봅시다.')"
   ]
  },
  {
   "cell_type": "code",
   "execution_count": 6,
   "id": "2c1861e4",
   "metadata": {},
   "outputs": [
    {
     "name": "stderr",
     "output_type": "stream",
     "text": [
      "C:\\Users\\jaeyeon\\anaconda3\\Lib\\site-packages\\konlpy\\tag\\_okt.py:17: UserWarning: \"Twitter\" has changed to \"Okt\" since KoNLPy v0.4.5.\n",
      "  warn('\"Twitter\" has changed to \"Okt\" since KoNLPy v0.4.5.')\n"
     ]
    },
    {
     "data": {
      "text/plain": [
       "[('한국어', 'Noun'),\n",
       " ('로', 'Josa'),\n",
       " ('텍스트', 'Noun'),\n",
       " ('를', 'Josa'),\n",
       " ('분석', 'Noun'),\n",
       " ('해', 'Verb'),\n",
       " ('봅시다', 'Verb'),\n",
       " ('.', 'Punctuation')]"
      ]
     },
     "execution_count": 6,
     "metadata": {},
     "output_type": "execute_result"
    }
   ],
   "source": [
    "from konlpy.tag import Twitter\n",
    "tagger = Twitter()  # 형태소 분석기\n",
    "tagger.pos('한국어로 텍스트를 분석해 봅시다.')  # 형태소 분석"
   ]
  },
  {
   "cell_type": "code",
   "execution_count": 99,
   "id": "83a3d6ee",
   "metadata": {},
   "outputs": [
    {
     "data": {
      "text/plain": [
       "['당신', '은', '누구', '의', '자랑', '인가', '?']"
      ]
     },
     "execution_count": 99,
     "metadata": {},
     "output_type": "execute_result"
    }
   ],
   "source": [
    "tagger.morphs('당신은 누구의 자랑인가?')"
   ]
  },
  {
   "cell_type": "markdown",
   "id": "2PuYnhHYxpBJ",
   "metadata": {
    "id": "2PuYnhHYxpBJ"
   },
   "source": [
    "많은 경우 명사만을 뽑아 텍스트 분석을 실시한다.\n",
    "코모란의 경우 .nouns 메소드로 명사만을 추출할 수 있다.\n",
    "\n",
    "tagger.nouns('한국어로 텍스트를 분석해 봅시다.')  # 명사 추출\n",
    "['한국어', '텍스트', '분석']\n",
    "만약 형태소 단위로 문자열을 끊고 싶다면, .morphs()를 사용하면 된다.\n",
    "\n",
    "tagger.morphs()에 이전에 사용했던 문장을 넘겨주자.\n"
   ]
  },
  {
   "cell_type": "code",
   "execution_count": 100,
   "id": "0ee9b202",
   "metadata": {
    "id": "0ee9b202",
    "outputId": "eab4003b-e445-4dd2-dbc0-3d61f76bda13"
   },
   "outputs": [
    {
     "data": {
      "text/plain": [
       "['한국어', '텍스트', '분석']"
      ]
     },
     "execution_count": 100,
     "metadata": {},
     "output_type": "execute_result"
    }
   ],
   "source": [
    "tagger.nouns('한국어로 텍스트를 분석해 봅시다.')  # 명사 추출"
   ]
  },
  {
   "cell_type": "code",
   "execution_count": 101,
   "id": "5860ec8c",
   "metadata": {
    "id": "5860ec8c",
    "outputId": "9b202ef1-f884-4031-8ea3-379b3be8934f"
   },
   "outputs": [
    {
     "data": {
      "text/plain": [
       "['한국어', '로', '텍스트', '를', '분석', '해', '봅시다', '.']"
      ]
     },
     "execution_count": 101,
     "metadata": {},
     "output_type": "execute_result"
    }
   ],
   "source": [
    "tagger.morphs(' 한국어로 텍스트를 분석해 봅시다.')"
   ]
  },
  {
   "cell_type": "markdown",
   "id": "Hf9RrT9Jx4b-",
   "metadata": {
    "id": "Hf9RrT9Jx4b-"
   },
   "source": [
    "아마존 제품 리뷰 TDM\n",
    "1. 데이터 다운로드\n",
    "- Amazon 사용자들이 올린 제품 리뷰를 TDM으로 만들어보자. UCI 머신러닝 리포지토리에서에서 Sentiment Labelled Sentences 데이터를 다운받아 'amazon_cells_labelled.txt'를 사용한다.\n",
    "- https://archive.ics.uci.edu/ml/datasets/Sentiment+Labelled+Sentences\n",
    "\n",
    "2. 데이터 불러 오기\n",
    " - 아마존 제품 리뷰 자료는 한줄 댓글과 함께 해당 제품에 대한 긍/부정 점수가 1과 0으로 기록되어 있다. 따라서 긍/부정 감정사전을 만드는데 용이하다.\n",
    "- 자료는 탭으로 구분이 이뤄져있으며, 열마다 제목이 없기 때문에 파일을 읽을 때 sep=\"\\t\" 옵션과 header=None 옵션을 넘겨줘야 한다\n"
   ]
  },
  {
   "cell_type": "code",
   "execution_count": 102,
   "id": "2ad6fc2e",
   "metadata": {
    "id": "2ad6fc2e"
   },
   "outputs": [],
   "source": [
    "import pandas as pd\n",
    "df = pd.read_csv(r'C:\\Users\\Desktop\\sentiment labelled sentences\\amazon_cells_labelled.txt', sep=\"\\t\", header=None)"
   ]
  },
  {
   "cell_type": "code",
   "execution_count": 103,
   "id": "7c99e8d3",
   "metadata": {},
   "outputs": [
    {
     "data": {
      "text/html": [
       "<div>\n",
       "<style scoped>\n",
       "    .dataframe tbody tr th:only-of-type {\n",
       "        vertical-align: middle;\n",
       "    }\n",
       "\n",
       "    .dataframe tbody tr th {\n",
       "        vertical-align: top;\n",
       "    }\n",
       "\n",
       "    .dataframe thead th {\n",
       "        text-align: right;\n",
       "    }\n",
       "</style>\n",
       "<table border=\"1\" class=\"dataframe\">\n",
       "  <thead>\n",
       "    <tr style=\"text-align: right;\">\n",
       "      <th></th>\n",
       "      <th>0</th>\n",
       "      <th>1</th>\n",
       "    </tr>\n",
       "  </thead>\n",
       "  <tbody>\n",
       "    <tr>\n",
       "      <th>0</th>\n",
       "      <td>So there is no way for me to plug it in here i...</td>\n",
       "      <td>0</td>\n",
       "    </tr>\n",
       "    <tr>\n",
       "      <th>1</th>\n",
       "      <td>Good case, Excellent value.</td>\n",
       "      <td>1</td>\n",
       "    </tr>\n",
       "    <tr>\n",
       "      <th>2</th>\n",
       "      <td>Great for the jawbone.</td>\n",
       "      <td>1</td>\n",
       "    </tr>\n",
       "    <tr>\n",
       "      <th>3</th>\n",
       "      <td>Tied to charger for conversations lasting more...</td>\n",
       "      <td>0</td>\n",
       "    </tr>\n",
       "    <tr>\n",
       "      <th>4</th>\n",
       "      <td>The mic is great.</td>\n",
       "      <td>1</td>\n",
       "    </tr>\n",
       "  </tbody>\n",
       "</table>\n",
       "</div>"
      ],
      "text/plain": [
       "                                                   0  1\n",
       "0  So there is no way for me to plug it in here i...  0\n",
       "1                        Good case, Excellent value.  1\n",
       "2                             Great for the jawbone.  1\n",
       "3  Tied to charger for conversations lasting more...  0\n",
       "4                                  The mic is great.  1"
      ]
     },
     "execution_count": 103,
     "metadata": {},
     "output_type": "execute_result"
    }
   ],
   "source": [
    "df.head(5)"
   ]
  },
  {
   "cell_type": "code",
   "execution_count": 104,
   "id": "4cb37df2",
   "metadata": {
    "id": "4cb37df2"
   },
   "outputs": [
    {
     "data": {
      "text/plain": [
       "(0      So there is no way for me to plug it in here i...\n",
       " 1                            Good case, Excellent value.\n",
       " 2                                 Great for the jawbone.\n",
       " 3      Tied to charger for conversations lasting more...\n",
       " 4                                      The mic is great.\n",
       "                              ...                        \n",
       " 995    The screen does get smudged easily because it ...\n",
       " 996    What a piece of junk.. I lose more calls on th...\n",
       " 997                         Item Does Not Match Picture.\n",
       " 998    The only thing that disappoint me is the infra...\n",
       " 999    You can not answer calls with the unit, never ...\n",
       " Name: 0, Length: 1000, dtype: object,\n",
       " 0      0\n",
       " 1      1\n",
       " 2      1\n",
       " 3      0\n",
       " 4      1\n",
       "       ..\n",
       " 995    0\n",
       " 996    0\n",
       " 997    0\n",
       " 998    0\n",
       " 999    0\n",
       " Name: 1, Length: 1000, dtype: int64)"
      ]
     },
     "execution_count": 104,
     "metadata": {},
     "output_type": "execute_result"
    }
   ],
   "source": [
    "content = df[0]\n",
    "sentiment = df[1]\n",
    "content,sentiment"
   ]
  },
  {
   "cell_type": "code",
   "execution_count": 105,
   "id": "2b29d56c",
   "metadata": {
    "id": "2b29d56c",
    "outputId": "29d0d6e1-9cfd-4fec-a322-59a4652618ac"
   },
   "outputs": [
    {
     "data": {
      "text/plain": [
       "(1000, 1000)"
      ]
     },
     "execution_count": 105,
     "metadata": {},
     "output_type": "execute_result"
    }
   ],
   "source": [
    "#3. TDM 만들기\n",
    "\n",
    "from sklearn.feature_extraction.text import TfidfVectorizer\n",
    "tfidf = TfidfVectorizer(stop_words='english',\n",
    "                        lowercase=True,\n",
    "                        max_features=1000)\n",
    "tdm = tfidf.fit_transform(content)\n",
    "tdm.shape"
   ]
  },
  {
   "cell_type": "code",
   "execution_count": 106,
   "id": "120fd631",
   "metadata": {},
   "outputs": [
    {
     "name": "stdout",
     "output_type": "stream",
     "text": [
      "  (0, 884)\t0.6336922128405843\n",
      "  (0, 485)\t0.5269561029030132\n",
      "  (0, 942)\t0.5663492253004965\n",
      "  (1, 912)\t0.6392095406476104\n",
      "  (1, 255)\t0.47823718132718357\n",
      "  (1, 146)\t0.4710276120116065\n",
      "  (1, 306)\t0.3752776975307017\n",
      "  (2, 355)\t0.8909828883166824\n",
      "  (2, 310)\t0.4540368847647319\n",
      "  (3, 518)\t0.3180236844892277\n",
      "  (3, 407)\t0.3548643091675774\n",
      "  (3, 20)\t0.4294194741822417\n",
      "  (3, 368)\t0.40528919670525015\n",
      "  (3, 185)\t0.3881684923718809\n",
      "  (3, 155)\t0.2986569556075369\n",
      "  (3, 818)\t0.4294194741822417\n",
      "  (4, 405)\t0.8844341363224174\n",
      "  (4, 310)\t0.4666650388743726\n",
      "  (5, 922)\t0.4177530356423377\n",
      "  (5, 205)\t0.492450330030864\n",
      "  (5, 631)\t0.4177530356423377\n",
      "  (5, 379)\t0.478197306613838\n",
      "  (5, 485)\t0.4240103899941458\n",
      "  (6, 681)\t0.6946954649786787\n",
      "  (6, 183)\t0.719303976728933\n",
      "  :\t:\n",
      "  (993, 220)\t1.0\n",
      "  (994, 363)\t1.0\n",
      "  (995, 842)\t0.4536703935039088\n",
      "  (995, 747)\t0.4536703935039088\n",
      "  (995, 245)\t0.3845968106507796\n",
      "  (995, 266)\t0.3960600022507811\n",
      "  (995, 667)\t0.34648694051732204\n",
      "  (995, 225)\t0.29240308948395255\n",
      "  (995, 237)\t0.27934807907261894\n",
      "  (996, 391)\t0.5703544481497214\n",
      "  (996, 358)\t0.47834486002519133\n",
      "  (996, 465)\t0.44134104168413946\n",
      "  (996, 140)\t0.44134104168413946\n",
      "  (996, 459)\t0.23731449221154696\n",
      "  (997, 403)\t0.5860547208748583\n",
      "  (997, 353)\t0.4414438492004609\n",
      "  (997, 225)\t0.4178699513273365\n",
      "  (997, 463)\t0.5357722425817357\n",
      "  (998, 494)\t0.6422754190234741\n",
      "  (998, 593)\t0.6061841725628859\n",
      "  (998, 809)\t0.4690661307880481\n",
      "  (999, 73)\t0.5963034327143681\n",
      "  (999, 881)\t0.500107754010921\n",
      "  (999, 983)\t0.42591743811454696\n",
      "  (999, 140)\t0.461420400958989\n"
     ]
    }
   ],
   "source": [
    "print(tdm)"
   ]
  },
  {
   "cell_type": "code",
   "execution_count": 107,
   "id": "19c71391",
   "metadata": {},
   "outputs": [
    {
     "data": {
      "text/plain": [
       "array(['10', '100', '11', '12', '13', '15', '15g', '18', '20', '2000',\n",
       "       '2005', '2160', '24', '2mp', '325', '350', '375', '3o', '42', '44',\n",
       "       '45', '4s', '50', '5020', '510', '5320', '680', '700w', '8125',\n",
       "       '8525', '8530', 'abhor', 'ability', 'able', 'abound', 'absolutel',\n",
       "       'absolutely', 'ac', 'accept', 'acceptable', 'access', 'accessory',\n",
       "       'accessoryone', 'accidentally', 'accompanied', 'actually', 'ad',\n",
       "       'adapter', 'adapters', 'add', 'addition', 'additional', 'address',\n",
       "       'adhesive', 'adorable', 'advertised', 'advise', 'aggravating',\n",
       "       'ago', 'alarm', 'allot', 'allow', 'allowing', 'allows', 'alot',\n",
       "       'aluminum', 'amazed', 'amazing', 'amazon', 'amp', 'ample',\n",
       "       'angeles', 'angle', 'answer', 'ant', 'antena', 'anti', 'apart',\n",
       "       'apartment', 'apparently', 'appealing', 'appearance', 'appears',\n",
       "       'applifies', 'appointments', 'area', 'arguing', 'armband',\n",
       "       'arrival', 'arrived', 'asia', 'ask', 'aspect', 'assumed',\n",
       "       'atleast', 'att', 'audio', 'auto', 'avoid', 'away', 'awesome',\n",
       "       'awful', 'background', 'bad', 'bar', 'barely', 'bargain', 'bars',\n",
       "       'basically', 'batteries', 'battery', 'beautiful', 'beep', 'belt',\n",
       "       'best', 'better', 'beware', 'big', 'bit', 'black', 'blackberry',\n",
       "       'blue', 'bluetooth', 'book', 'bother', 'bought', 'brand', 'break',\n",
       "       'breaking', 'breaks', 'broke', 'broken', 'bt', 'button', 'buttons',\n",
       "       'buy', 'buyer', 'buying', 'buzzing', 'cable', 'calls', 'came',\n",
       "       'camera', 'car', 'care', 'careful', 'case', 'cases', 'catching',\n",
       "       'caused', 'cell', 'cellphone', 'certainly', 'charge', 'charged',\n",
       "       'charger', 'chargers', 'charging', 'charm', 'cheap', 'cheaper',\n",
       "       'chinese', 'choice', 'cingular', 'clarity', 'clear', 'clearly',\n",
       "       'clip', 'color', 'come', 'comes', 'comfort', 'comfortable',\n",
       "       'comfortably', 'coming', 'company', 'complaint', 'completely',\n",
       "       'computer', 'connected', 'connection', 'construction', 'consumer',\n",
       "       'contacts', 'conversation', 'conversations', 'cool', 'costs',\n",
       "       'couldn', 'couple', 'cover', 'coverage', 'crap', 'crisp',\n",
       "       'cumbersome', 'current', 'customer', 'cut', 'd807', 'data', 'date',\n",
       "       'day', 'days', 'dead', 'deal', 'decent', 'decision', 'defective',\n",
       "       'definitely', 'described', 'description', 'design', 'despite',\n",
       "       'device', 'dialing', 'did', 'didn', 'died', 'different',\n",
       "       'difficult', 'disappointed', 'disappointing', 'disappointment',\n",
       "       'display', 'docking', 'does', 'doesn', 'don', 'dont', 'download',\n",
       "       'drain', 'driving', 'drop', 'dropped', 'dropping', 'drops',\n",
       "       'dying', 'ear', 'earbud', 'eargels', 'earpiece', 'earpieces',\n",
       "       'ears', 'ease', 'easier', 'easily', 'easy', 'echo', 'effect',\n",
       "       'embarrassing', 'end', 'ended', 'especially', 'essentially',\n",
       "       'exactly', 'excellent', 'exchanged', 'excited', 'expect',\n",
       "       'expected', 'expensive', 'experience', 'experienced', 'extended',\n",
       "       'extra', 'extremely', 'face', 'failed', 'fails', 'fall', 'family',\n",
       "       'fantastic', 'far', 'fast', 'feature', 'features', 'feel', 'feels',\n",
       "       'feet', 'felt', 'figure', 'finally', 'fine', 'fit', 'fits',\n",
       "       'flash', 'flaw', 'flawlessly', 'flimsy', 'flip', 'forced',\n",
       "       'forever', 'forget', 'form', 'free', 'friendly', 'functionality',\n",
       "       'games', 'gels', 'gets', 'getting', 'given', 'glad', 'glasses',\n",
       "       'goes', 'going', 'good', 'got', 'gotten', 'graphics', 'great',\n",
       "       'hand', 'hands', 'handsfree', 'handy', 'happier', 'happy', 'hard',\n",
       "       'hate', 'having', 'headphones', 'headset', 'headsets', 'hear',\n",
       "       'helpful', 'high', 'highly', 'hold', 'holding', 'holds', 'holster',\n",
       "       'home', 'hoping', 'horrible', 'hour', 'hours', 'house', 'huge',\n",
       "       'igo', 'im', 'important', 'impressed', 'impressive', 'included',\n",
       "       'incredible', 'inside', 'install', 'instead', 'instructions',\n",
       "       'internet', 'iphone', 'ipod', 'issues', 'item', 'jabra', 'jawbone',\n",
       "       'job', 'joke', 'junk', 'just', 'kept', 'keyboard', 'keypad',\n",
       "       'kind', 'know', 'lacking', 'laptop', 'large', 'lasting', 'lasts',\n",
       "       'later', 'leather', 'left', 'let', 'lg', 'life', 'light',\n",
       "       'lightweight', 'like', 'line', 'listening', 'literally', 'little',\n",
       "       'll', 'lock', 'logitech', 'long', 'longer', 'look', 'looking',\n",
       "       'looks', 'lose', 'lost', 'lot', 'loud', 'love', 'loves', 'low',\n",
       "       'maintain', 'make', 'makes', 'making', 'market', 'match', 'mess',\n",
       "       'mic', 'microphone', 'minutes', 'mistake', 'mobile', 'model',\n",
       "       'money', 'month', 'months', 'moto', 'motorola', 'mp3', 'music',\n",
       "       'nearly', 'need', 'needed', 'network', 'new', 'nice', 'noise',\n",
       "       'nokia', 'normal', 'notice', 'noticed', 'number', 'numerous',\n",
       "       'obviously', 'oh', 'ok', 'old', 'operate', 'order', 'ordered',\n",
       "       'original', 'outlet', 'overall', 'override', 'owned', 'packaged',\n",
       "       'pair', 'paired', 'pairing', 'palm', 'particular', 'party', 'pay',\n",
       "       'pc', 'pda', 'people', 'perfectly', 'performance', 'periods',\n",
       "       'person', 'petroleum', 'phone', 'phones', 'photo', 'pics',\n",
       "       'picture', 'pictures', 'piece', 'pitiful', 'pixel', 'place',\n",
       "       'placed', 'places', 'plan', 'planning', 'plans', 'plantronics',\n",
       "       'plantronincs', 'plastic', 'play', 'player', 'players', 'plays',\n",
       "       'pleasantly', 'pleased', 'pleather', 'plenty', 'plug', 'plugged',\n",
       "       'plugs', 'plus', 'pocket', 'pockets', 'point', 'poor', 'poorly',\n",
       "       'port', 'portable', 'portraits', 'possesed', 'possibility',\n",
       "       'posted', 'potentially', 'power', 'practical', 'practically',\n",
       "       'practice', 'preferably', 'premium', 'prettier', 'pretty',\n",
       "       'prevents', 'previous', 'price', 'priced', 'pricing', 'prime',\n",
       "       'print', 'probably', 'problem', 'problems', 'procedure',\n",
       "       'procedures', 'produce', 'product', 'products', 'program',\n",
       "       'promised', 'prompt', 'promptly', 'properly', 'pros', 'protected',\n",
       "       'protection', 'protective', 'protector', 'protects', 'provide',\n",
       "       'provided', 'provides', 'ps3', 'psyched', 'puff', 'pull',\n",
       "       'purcashed', 'purchase', 'purchased', 'purchases', 'purchasing',\n",
       "       'purpose', 'push', 'pushed', 'quality', 'quick', 'quickly',\n",
       "       'quiet', 'quit', 'quite', 'qwerty', 'r450', 'randomly', 'range',\n",
       "       'rare', 'rate', 'rated', 'rating', 'razor', 'razr', 'reach',\n",
       "       'reaching', 'read', 'reading', 'ready', 'real', 'realize',\n",
       "       'really', 'reason', 'reasonable', 'reasonably', 'reboots',\n",
       "       'reccomendation', 'reccommend', 'receipt', 'receive', 'received',\n",
       "       'receiving', 'recently', 'reception', 'recessed', 'recharge',\n",
       "       'recieve', 'recognition', 'recognizes', 'recommend', 'recommended',\n",
       "       'red', 'refund', 'refurb', 'refuse', 'refused', 'regarding',\n",
       "       'regret', 'regretted', 'relative', 'relatively', 'reliability',\n",
       "       'remorse', 'removing', 'renders', 'reoccure', 'replace',\n",
       "       'replaced', 'replacement', 'replacementr', 'requirements',\n",
       "       'research', 'resistant', 'resolution', 'respect', 'rest',\n",
       "       'restart', 'restocking', 'restored', 'rests', 'results', 'return',\n",
       "       'returned', 'returning', 'reverse', 'reversible', 'review',\n",
       "       'reviews', 'ride', 'right', 'riingtones', 'ring', 'ringer',\n",
       "       'ringing', 'ringtones', 'rip', 'ripped', 'risk', 'roam',\n",
       "       'rocketed', 'rocks', 'roles', 'room', 'rotating', 'row', 'rubber',\n",
       "       'run', 'runs', 's11', 's710a', 'saggy', 'said', 'samsung', 'sanyo',\n",
       "       'satisfied', 'satisifed', 'save', 'saved', 'say', 'saying', 'says',\n",
       "       'scary', 'sch', 'scratch', 'scratched', 'screen', 'screens',\n",
       "       'seamlessly', 'searched', 'seat', 'seconds', 'secure', 'securely',\n",
       "       'securly', 'seeen', 'seen', 'self', 'seller', 'send', 'sending',\n",
       "       'sensitive', 'sensor', 'sent', 'seperated', 'series', 'seriously',\n",
       "       'service', 'set', 'setting', 'setup', 'severe', 'sex', 'shape',\n",
       "       'share', 'sharp', 'shield', 'shifting', 'shine', 'shiny',\n",
       "       'shipment', 'shipped', 'shipping', 'shooters', 'short', 'shots',\n",
       "       'shouldn', 'shouldve', 'shouting', 'shows', 'sides', 'sight',\n",
       "       'signal', 'signals', 'significantly', 'signs', 'sim', 'simple',\n",
       "       'simpler', 'simply', 'sins', 'sister', 'sitting', 'situations',\n",
       "       'size', 'sizes', 'sketchy', 'skip', 'skype', 'sleek', 'slid',\n",
       "       'slide', 'slider', 'sliding', 'slim', 'slipping', 'slow', 'slowly',\n",
       "       'small', 'smallest', 'smartphone', 'smell', 'smoke', 'smoking',\n",
       "       'smoother', 'smoothly', 'smudged', 'snap', 'snug', 'soft',\n",
       "       'software', 'sold', 'solid', 'somewhat', 'songs', 'sony', 'sound',\n",
       "       'sounded', 'sounds', 'speaker', 'spring', 'sprint', 'star',\n",
       "       'stars', 'started', 'starts', 'stated', 'static', 'station',\n",
       "       'stay', 'storage', 'store', 'strong', 'stuck', 'study', 'stuff',\n",
       "       'stupid', 'sturdiness', 'sturdy', 'styles', 'styling', 'stylish',\n",
       "       'submerged', 'sucked', 'sucks', 'sudden', 'suddenly', 'sunglasses',\n",
       "       'super', 'superb', 'superfast', 'supertooth', 'support',\n",
       "       'supposedly', 'suprised', 'sure', 'switch', 'takes', 'talk',\n",
       "       'tech', 'technology', 'tell', 'terrible', 'thank', 'thanks',\n",
       "       'thats', 'theory', 'thereplacement', 'thing', 'things', 'think',\n",
       "       'thorn', 'thought', 'threw', 'thumbs', 'tick', 'ticking', 'tied',\n",
       "       'tight', 'time', 'timeframe', 'timely', 'times', 'tinny', 'tiny',\n",
       "       'tips', 'tmobile', 'toactivate', 'toast', 'today', 'toilet',\n",
       "       'told', 'tone', 'tones', 'took', 'tool', 'tools', 'tooth', 'total',\n",
       "       'totally', 'touch', 'touches', 'tracfone', 'tracfonewebsite',\n",
       "       'tracking', 'transceiver', 'transfer', 'transformed',\n",
       "       'transmission', 'transmit', 'transmitters', 'trash', 'travled',\n",
       "       'tremendous', 'treo', 'tricky', 'tried', 'tries', 'trouble',\n",
       "       'truly', 'trunk', 'trust', 'try', 'trying', 'tungsten', 'turn',\n",
       "       'turned', 'turns', 'tv', 'type', 'ugly', 'unacceptable',\n",
       "       'unacceptible', 'unbearable', 'uncomfortable', 'understand',\n",
       "       'understanding', 'unfortunately', 'unhappy', 'unintelligible',\n",
       "       'unit', 'units', 'unknown', 'unless', 'unlike', 'unreliable',\n",
       "       'unsatisfactory', 'unusable', 'upbeat', 'update', 'upgrade',\n",
       "       'upload', 'upstairs', 'usable', 'usage', 'usb', 'use', 'used',\n",
       "       'useful', 'usefulness', 'useless', 'user', 'using', 'usually',\n",
       "       'utter', 'utterly', 'v1', 'v265', 'v325i', 'v3c', 'v3i', 'value',\n",
       "       've', 'vehicle', 'verizon', 'video', 'videos', 'virgin', 'visor',\n",
       "       'voice', 'voltage', 'volume', 'vx', 'vx9900', 'w810i', 'waaay',\n",
       "       'waiting', 'wake', 'walked', 'walkman', 'wall', 'wallet', 'want',\n",
       "       'wanted', 'warning', 'warranty', 'wasn', 'waste', 'wasted',\n",
       "       'wasting', 'waterproof', 'way', 'weak', 'wear', 'wearing', 'web',\n",
       "       'website', 'websites', 'week', 'weeks', 'weight', 'weird', 'went',\n",
       "       'whatsoever', 'whine', 'whistles', 'white', 'whoa', 'wi', 'wife',\n",
       "       'wild', 'wind', 'window', 'windows', 'winner', 'wiping', 'wire',\n",
       "       'wired', 'wirefly', 'wireless', 'wise', 'wish', 'wit', 'wobbly',\n",
       "       'won', 'wonder', 'wonderfully', 'wont', 'wood', 'wooden', 'word',\n",
       "       'work', 'worked', 'working', 'works', 'world', 'worn', 'worst',\n",
       "       'worth', 'worthless', 'worthwhile', 'wouldn', 'wow', 'wrong',\n",
       "       'wrongly', 'year', 'years', 'yell', 'yes'], dtype=object)"
      ]
     },
     "execution_count": 107,
     "metadata": {},
     "output_type": "execute_result"
    }
   ],
   "source": [
    "tfidf.get_feature_names_out()"
   ]
  },
  {
   "cell_type": "code",
   "execution_count": 108,
   "id": "b1e8b6b8",
   "metadata": {
    "id": "b1e8b6b8",
    "outputId": "1b3fcb19-bef2-4bed-9d36-b68029c9273c"
   },
   "outputs": [
    {
     "data": {
      "text/plain": [
       "array(['worthless', 'worthwhile', 'wouldn', 'wow', 'wrong', 'wrongly',\n",
       "       'year', 'years', 'yell', 'yes'], dtype=object)"
      ]
     },
     "execution_count": 108,
     "metadata": {},
     "output_type": "execute_result"
    }
   ],
   "source": [
    "# tdm의 정보 확인 가능\n",
    "#  - tfidf 뒤에 .get_feature_names_out() 메써드를 부르면 TDM에 사용된 feature 단어 목록을 볼 수 있다. \n",
    "#  - 마지막 10개의 단어만 살펴보자\n",
    "\n",
    "tfidf.get_feature_names_out()[-10:]"
   ]
  },
  {
   "cell_type": "code",
   "execution_count": 109,
   "id": "6c3a8871",
   "metadata": {},
   "outputs": [
    {
     "data": {
      "text/plain": [
       "matrix([[ 1.76034794,  0.46521938,  0.51050599,  0.47327189,  0.81124278,\n",
       "          0.48895273,  0.51932284,  0.37958827,  0.70603291,  0.52515773,\n",
       "          0.46389436,  0.3966342 ,  0.33259944,  0.40192999,  0.40273484,\n",
       "          0.40513104,  0.40373467,  0.40097101,  0.49321969,  0.4257456 ,\n",
       "          0.42941947,  0.37253524,  1.17998944,  0.33259944,  1.25277118,\n",
       "          0.64296325,  0.63859278,  0.35543352,  0.48095155,  0.51694636,\n",
       "          0.5343188 ,  0.6246444 ,  0.81343481,  1.85628524,  0.72724445,\n",
       "          0.78408949,  2.47784589,  0.36594895,  1.08441939,  0.72724445,\n",
       "          0.98078323,  0.7131251 ,  0.79472748,  0.58547689,  0.77085026,\n",
       "          1.38812138,  0.45418589,  0.49845349,  0.48900131,  0.45432884,\n",
       "          0.42395857,  0.89124114,  0.30779093,  0.66002397,  1.23836425,\n",
       "          0.89717198,  1.61853182,  1.        ,  1.75957145,  0.42216143,\n",
       "          0.48274968,  0.461336  ,  0.48928136,  0.99275685,  0.51843768,\n",
       "          0.37052941,  0.89613276,  0.62797829,  4.33446993,  0.42395857,\n",
       "          0.36367166,  0.54550101,  0.44308226,  1.03120367,  0.62335594,\n",
       "          0.59237369,  0.48363366,  0.45900423,  0.49905345,  0.40373467,\n",
       "          0.90827012,  0.47465561,  1.23633009,  0.60669782,  0.44549963,\n",
       "          1.43618694,  0.41564246,  0.77460415,  0.40066961,  2.11630215,\n",
       "          0.73347277,  0.97048522,  0.46763025,  0.65177736,  0.58596047,\n",
       "          0.99751024,  4.36969214,  0.82664263,  2.26066215,  2.34915681,\n",
       "          2.84195004,  1.99112164,  1.20720727,  7.44600144,  0.99903284,\n",
       "          0.93552114,  2.61142142,  1.99774086,  1.21108474,  1.01655633,\n",
       "         17.18018405,  2.08298072,  0.85561322,  2.0814076 , 10.09190745,\n",
       "          7.71804878,  1.29831168,  3.35669114,  1.36283948,  2.21883405,\n",
       "          0.92797672,  1.91108334,  7.82588684,  0.70579826,  1.15202775,\n",
       "          6.96410245,  1.0340053 ,  1.65889125,  1.05289038,  1.0718223 ,\n",
       "          3.78913493,  0.86584023,  1.65128556,  1.00423605,  3.51976377,\n",
       "          9.67250065,  1.19167622,  2.14895645,  0.96958799,  2.37878966,\n",
       "          4.66808064,  2.28925545,  4.90431835,  6.27348259,  1.2525214 ,\n",
       "          1.24332793, 11.4597488 ,  2.6688948 ,  0.99723798,  0.79052112,\n",
       "          5.12946505,  0.80059105,  0.96032075,  5.89191196,  1.20026973,\n",
       "          7.4270322 ,  1.08904515,  2.29442178,  2.46030471,  3.56578687,\n",
       "          1.06962969,  1.2416736 ,  2.09233177,  1.71747836,  2.42609143,\n",
       "          4.78444962,  0.74013002,  2.0061904 ,  2.41038567,  1.00394221,\n",
       "          1.45320542,  1.60410916,  8.15659922,  1.57388488,  0.77973907,\n",
       "          3.32241743,  1.11740388,  3.51155542,  1.67216928,  0.82560998,\n",
       "          2.18905718,  1.82396175,  1.09164811,  1.52481407,  1.16741483,\n",
       "          1.316798  ,  4.6219133 ,  0.82921259,  3.96455539,  1.83864295,\n",
       "          0.72626271,  1.23066147,  3.14351775,  1.49466755,  1.2790055 ,\n",
       "          0.90012703,  4.65331634,  0.98356051,  0.79340215,  1.73162472,\n",
       "          0.98539963,  2.24872084,  3.55256925,  1.22553032,  2.8846188 ,\n",
       "          1.69817075,  1.81957558,  1.34751732,  2.58215422,  1.51481993,\n",
       "          1.76317443,  5.49978138,  1.15370947,  6.17316577,  0.83703529,\n",
       "          6.19072044,  3.79271182,  1.11988616,  2.44827953,  2.70878427,\n",
       "          7.87194182,  3.98611907,  3.69971179,  1.54006768,  0.91027044,\n",
       "         10.70410199,  8.09912975, 11.24029422,  2.146188  ,  0.58371219,\n",
       "          1.81738509,  0.89471848,  1.47110281,  2.64618454,  1.13466836,\n",
       "          1.4085053 ,  1.10863771, 12.32919643,  1.45356574,  1.04785022,\n",
       "          2.55274688,  1.26261701,  2.91648954,  1.21275745,  1.98999672,\n",
       "          2.70942204,  8.12526086,  1.05154655,  1.07231145,  0.77398234,\n",
       "          2.25796906,  0.79533482,  2.22611133,  1.16553116,  1.38990457,\n",
       "         13.97086839,  1.24764421,  1.00838115,  2.20697833,  2.25435231,\n",
       "          1.37975954,  1.46204963,  0.89783922,  0.85148982,  1.78977927,\n",
       "          1.82350584,  1.35871636,  1.22040636,  1.13018564,  1.23460063,\n",
       "          2.0205687 ,  2.35325957,  6.04802743,  2.34486033,  2.25594177,\n",
       "          1.89250051,  1.42797694,  1.9888252 ,  0.96006012,  1.06888103,\n",
       "          1.14564304,  1.38123429,  6.03558852,  5.27754062,  4.85747239,\n",
       "          0.65328195,  1.2003813 ,  0.93542486,  0.98949   ,  1.21898525,\n",
       "          1.08460239,  1.32472589,  1.10268841,  1.48099955,  2.32859803,\n",
       "          1.13700316,  1.13812388,  0.9861449 ,  1.05635782,  3.16520417,\n",
       "          1.28790326,  1.45867618,  1.88564583,  1.02306959,  1.65576875,\n",
       "          2.76946051, 29.23160782,  5.4632358 ,  1.32065354,  0.92336242,\n",
       "         40.65730746,  1.20475785,  2.96707932,  1.71255693,  1.03083765,\n",
       "          1.41819966,  9.17864374,  1.98345419,  2.28851933,  2.13031894,\n",
       "          2.46100223, 17.12338078,  3.00302962,  5.16554313,  2.40396531,\n",
       "          1.93334293,  5.25310087,  2.46503102,  1.28591106,  1.93347936,\n",
       "          1.4121662 ,  1.74992144,  1.41230451,  4.52811472,  0.8660442 ,\n",
       "          2.295098  ,  0.69995886,  0.92166295,  0.88567523,  1.25337825,\n",
       "          1.9766032 ,  5.68870295,  0.70343116,  1.16756784,  1.64414911,\n",
       "          1.00736996,  1.16899919,  1.24223698,  2.00813721,  3.16029823,\n",
       "          1.26997806,  0.85072806,  0.79011119,  9.30806935,  3.13441226,\n",
       "          2.22726152,  2.66776661,  1.26725652,  4.90265859,  8.54437469,\n",
       "          2.35524994,  1.67130843,  0.90687226,  2.38362006,  1.98283794,\n",
       "          2.39090313,  0.62134913,  1.18078176,  0.85142439,  1.6575516 ,\n",
       "          1.9469983 ,  1.8371392 ,  1.67156908,  0.81000244,  1.46298685,\n",
       "          6.22149649,  3.13453608,  2.24455715, 10.76347323,  2.14809589,\n",
       "          0.7302142 ,  0.92503254,  3.4686827 ,  1.8124953 ,  0.81243047,\n",
       "          1.13334089,  5.07232496,  1.24616176,  3.18025812,  2.79593054,\n",
       "          4.41430074,  0.9909269 ,  1.35556933,  3.63590263,  2.79191561,\n",
       "         11.14945795,  1.30142199,  4.08202996,  0.93550308,  5.2129894 ,\n",
       "          4.25169178,  0.72470778,  1.99542855,  1.36156154,  0.83809653,\n",
       "          2.46107339,  1.66995988,  2.28245791,  2.35166263,  2.49885912,\n",
       "          0.94004913,  9.2290198 ,  1.14613417,  3.84627652,  0.89887227,\n",
       "          4.74315989,  0.68788056,  0.97362062,  1.04315961,  2.33446143,\n",
       "          1.69220253,  1.63363135,  7.84188561,  9.1919977 ,  1.65770198,\n",
       "          3.26562093,  0.8187751 ,  1.05899668,  0.76003456,  0.84657362,\n",
       "          1.04210847,  2.06966891,  1.43624252,  0.58425126,  1.8183818 ,\n",
       "          0.77886238,  2.58863009,  1.49093646,  1.84152199,  1.10358853,\n",
       "          1.9672703 ,  0.96958799,  0.75773604,  1.5848885 ,  1.60030427,\n",
       "          0.77036096,  1.40220004,  1.21916247,  0.91024997,  0.99764088,\n",
       "          2.06016023,  1.40459413,  1.05118549,  4.24496066,  3.49291109,\n",
       "          2.5602955 ,  0.41277545,  0.81857974,  0.39197483, 46.66386386,\n",
       "          3.73612337,  0.45418589,  0.40192999,  2.50008057,  2.3138245 ,\n",
       "          6.2106876 ,  0.3623551 ,  0.62996687,  1.58933986,  1.01561332,\n",
       "          0.69306884,  2.0765225 ,  0.45526568,  0.45193836,  2.08891572,\n",
       "          0.64728459,  2.22036342,  0.93969237,  1.58320907,  0.38735743,\n",
       "          0.43244473,  0.45514305,  3.58271068,  0.64103809,  0.41277545,\n",
       "          4.89398172,  1.39493368,  0.318842  ,  1.38153844,  1.32581549,\n",
       "          0.51932284,  0.50817701,  8.51482764,  1.75251281,  0.64227542,\n",
       "          0.87158442,  0.54067835,  0.78408949,  0.5604351 ,  0.52279748,\n",
       "          0.62266275,  0.74829093,  0.36367166,  0.45432884,  0.52857145,\n",
       "          0.43429336,  0.318842  ,  0.48543399,  4.9741547 ,  0.42694032,\n",
       "          0.72618979, 14.55912534,  3.09259839,  0.45193836,  0.34111394,\n",
       "          0.57735027,  1.53528422,  6.63605909,  5.45679603,  0.52635635,\n",
       "          0.32336495,  0.42092437, 23.60877678,  0.42802479,  0.39936285,\n",
       "          0.50303063,  0.83628927,  0.56348374,  0.6236957 ,  0.847262  ,\n",
       "          0.37052941,  1.60623894,  0.50635085,  0.96084052,  0.69928589,\n",
       "          0.49845349,  1.38030202,  0.61451335,  1.        ,  0.44549963,\n",
       "          0.46927392,  0.84929887,  0.60336967,  7.87056497,  2.03872588,\n",
       "          1.        ,  0.96569584,  1.47201181,  0.80763256,  0.43348793,\n",
       "         17.94550154,  1.04357955,  2.41354034,  0.85154179,  0.37958827,\n",
       "          3.45273453,  0.46348934,  0.318842  ,  0.3528696 ,  1.83637391,\n",
       "          0.53215225,  0.30779093,  0.38164068,  0.57681408,  0.50305905,\n",
       "          2.86459688,  0.55378406,  0.44239761,  0.64227542,  1.07933277,\n",
       "          0.34111394,  3.54750895,  0.54659115, 10.56525213,  1.05497786,\n",
       "          0.71876475,  1.39315303,  0.30779093,  0.50350401,  1.        ,\n",
       "          0.42092437,  0.37416421,  2.89628696,  0.85282759,  0.46792317,\n",
       "          8.17712977,  0.37992921,  0.79773664,  0.53939426,  1.28940313,\n",
       "          0.62277163, 14.68940624,  0.36594895,  1.0996042 ,  1.62027912,\n",
       "          0.58193417,  0.62797829,  0.39446086,  0.89375156,  0.72724445,\n",
       "          0.63678693,  0.50350401,  0.38164068,  0.81124278,  1.        ,\n",
       "          0.42216143,  0.38164068,  0.44083124,  2.1898485 ,  0.74393611,\n",
       "          1.57629675,  0.53104396,  0.65336464,  0.75331814,  0.72724445,\n",
       "          0.81151153,  0.3623551 ,  0.58889856,  0.82367857,  0.51256031,\n",
       "          0.60143242,  0.61377316,  1.91831203,  2.88196106,  1.00514885,\n",
       "          1.69164452,  0.41506611,  0.69112043,  1.36911445,  1.12545949,\n",
       "          0.42870687,  5.07623576,  0.65534975,  0.91379204,  0.56782332,\n",
       "          0.87844252,  2.02759115,  0.66842721,  0.43429336,  0.58126476,\n",
       "          0.36241725,  0.49593754,  1.38350648,  0.44552214,  0.72138439,\n",
       "          0.58977291,  0.44239761,  0.39197483,  0.83220751,  0.70041256,\n",
       "          0.7131251 ,  0.46389436,  0.68042623,  1.87926444,  2.83787753,\n",
       "          0.60769498,  2.5170299 ,  1.        ,  0.88022699,  0.51843768,\n",
       "          3.00276241,  1.06926502,  1.26917797,  0.56281299,  0.318842  ,\n",
       "          0.50872219,  1.41249979,  3.47254213,  0.3528696 ,  0.64465804,\n",
       "          0.59666235,  0.44282968,  1.20025569,  1.01807447,  0.42694106,\n",
       "          0.54000078,  0.38221228,  0.60429667,  0.54067835,  2.26059914,\n",
       "          0.71075495,  3.04070299,  0.58316733,  0.42802479,  0.52903654,\n",
       "          0.49501571,  0.81923889,  1.20343433, 10.95677575,  1.9077512 ,\n",
       "          0.4866526 ,  1.48736574,  0.47187854,  0.58332482,  0.38781637,\n",
       "          0.39801559,  1.43089109,  0.74183986,  0.50872219,  0.51192553,\n",
       "          0.6382976 ,  0.6205963 ,  1.05435683,  2.59183664,  0.38950866,\n",
       "          0.44002945,  0.33930772,  0.39801559,  1.        ,  0.40085783,\n",
       "          0.46521938,  1.03932343,  0.38251801,  2.7277577 ,  0.33930772,\n",
       "          0.39633735,  0.46521938,  0.72237184,  2.92836546,  0.6454428 ,\n",
       "          1.64645645,  0.56810908,  0.72724445,  0.46957875,  0.75689099,\n",
       "          1.40031221,  0.9389438 ,  0.42002898,  0.34147845,  0.72720344,\n",
       "          0.61850902,  0.45255374,  0.42694032,  0.318842  ,  0.51932284,\n",
       "          0.91549805,  0.42694032,  1.70950871,  0.42417891,  3.58756944,\n",
       "          0.53033133,  0.52136256,  1.11169184,  0.46927392,  0.36520429,\n",
       "          0.42870687,  0.63631484,  0.45367039,  0.62266275,  0.40191722,\n",
       "          0.38781637,  3.61302385,  0.55432111,  0.6742369 ,  0.41277545,\n",
       "          0.34147845,  1.1730629 , 14.40396954,  0.60940924,  0.91429857,\n",
       "          1.22806517,  0.93240879,  1.91259641,  1.49363698,  1.34674638,\n",
       "          1.68324143,  0.93788507,  1.41109129,  1.44936589,  0.91027044,\n",
       "          2.92136282,  0.93101229,  2.21489647,  2.5548877 ,  0.62996687,\n",
       "          0.56810908,  1.32194196,  1.28448033,  0.53416454,  2.93776402,\n",
       "          0.39379129,  0.74183986,  0.29166241,  0.48895273,  0.59502605,\n",
       "          2.83065856,  0.50144568,  0.54460586,  1.25074573,  1.72899154,\n",
       "          1.28648737,  0.67259469,  0.49437344,  1.5030921 ,  0.40373467,\n",
       "          0.45514305,  2.20864882,  1.0896431 ,  0.96746194,  3.56311158,\n",
       "          0.81447063,  1.13052931,  1.00960621,  5.74060075,  1.37742496,\n",
       "          0.46901356,  1.03638362,  0.61281135,  0.33897854,  6.20785243,\n",
       "          0.8549629 ,  4.26660612,  0.6246444 ,  1.40317367,  0.54600147,\n",
       "          0.75331814,  0.48192889,  0.79935386,  0.42941947,  0.38781637,\n",
       "         10.81832648,  0.87806039,  0.6205963 ,  1.75329607,  1.51548145,\n",
       "          0.60340993,  0.9597198 ,  0.56582397,  0.45549173,  0.29166241,\n",
       "          0.47818697,  0.51341994,  0.77560396,  0.53644329,  1.09387155,\n",
       "          0.93798911,  1.89122745,  0.73070875,  0.90708942,  1.        ,\n",
       "          0.29212563,  0.58547689,  0.45367039,  0.3966342 ,  0.45549173,\n",
       "          0.80756418,  0.35543352,  0.39936285,  0.49634726,  0.5348119 ,\n",
       "          0.72540441,  0.83402656,  0.80756418,  0.44890818,  0.95036009,\n",
       "          1.2742515 ,  0.63687769,  2.81667089,  0.76193676,  1.61360187,\n",
       "          0.75331814,  0.40336907,  0.41793582,  1.7214249 ,  1.90618927,\n",
       "          0.44715048,  2.32663449,  1.29179519,  0.798417  ,  0.49435357,\n",
       "          0.58254437,  0.84254013,  1.01657867,  0.59743228,  0.39197483,\n",
       "          1.20675792,  0.70225296,  0.58277279,  1.58283581,  1.22068218,\n",
       "          0.29212563,  3.67131938,  0.50391536,  0.49593754,  1.41784397,\n",
       "          0.64943714,  2.98104644,  0.64227542,  1.57345107,  0.67167095,\n",
       "          0.52635635,  0.39446086,  0.61395659,  0.37921605,  0.34857683,\n",
       "          0.461336  ,  1.53684267, 14.77398882,  6.82644369,  0.34857683,\n",
       "          0.42811179,  3.64745976,  1.13700316,  5.00801636,  0.9414577 ,\n",
       "          0.58610522,  0.44561267,  0.51932284,  0.67259469,  0.47813284,\n",
       "          0.4257456 ,  0.50305905,  2.95859212, 10.06692511,  0.46957875,\n",
       "          3.32090379,  1.08416859,  0.66986285,  0.47367586,  0.43636448,\n",
       "          3.61538402,  0.53616604,  5.62994171,  0.37052941,  0.51951482,\n",
       "          1.05865007,  0.71752986,  0.94879533,  0.48767704,  0.32336495,\n",
       "          0.6035501 ,  0.74829093,  0.58254437,  3.16713436,  2.88498164,\n",
       "          1.42852174,  0.81333116,  1.31156789,  9.08759116,  1.23605424,\n",
       "          0.65172089,  0.73070875,  3.17233881,  2.080663  ,  3.8916418 ,\n",
       "          1.53281248,  0.39633735,  0.94925687,  0.57681408,  1.98543835,\n",
       "          2.86517132,  0.62703196,  0.5284602 ,  2.72580155,  0.89689334,\n",
       "          0.52193898,  0.42692225,  0.69159345,  0.49435357,  0.36555098,\n",
       "          1.56678856,  0.57735027,  1.32325829,  0.54600147,  0.43429336,\n",
       "          1.        ,  0.32336495,  0.45255374,  0.87204666,  0.52857145,\n",
       "          1.70942685,  1.12843509,  0.59667365,  0.5659434 ,  0.37416421,\n",
       "          1.19723209,  0.53112893,  0.57735027,  0.58596047,  0.47989471,\n",
       "          0.5385001 ,  0.29212563, 13.6801718 ,  8.55193158,  4.9260911 ,\n",
       "         21.66438924,  0.34857683,  0.40273484,  7.10886821,  2.86234268,\n",
       "          1.69126844,  1.40405499,  1.011931  ,  0.94568473,  1.96936297,\n",
       "          0.39670108,  3.2741968 ,  3.97277944,  0.53995406,  0.6382976 ]])"
      ]
     },
     "execution_count": 109,
     "metadata": {},
     "output_type": "execute_result"
    }
   ],
   "source": [
    "# from sklearn.externals import joblib\n",
    "\n",
    "with open('amazon.pkl', 'rb') as f:\n",
    "    data = joblib.load(f)\n",
    "    locals().update(data)\n",
    "Count = tdm.sum(axis=0)\n",
    "Count"
   ]
  },
  {
   "cell_type": "code",
   "execution_count": 110,
   "id": "e46e70a7",
   "metadata": {
    "colab": {
     "base_uri": "https://localhost:8080/",
     "height": 248
    },
    "executionInfo": {
     "elapsed": 284,
     "status": "error",
     "timestamp": 1684110174709,
     "user": {
      "displayName": "장준익",
      "userId": "13167252182387801552"
     },
     "user_tz": -540
    },
    "id": "e46e70a7",
    "outputId": "64bc3678-4b7f-4868-ba4b-078b35c5c950"
   },
   "outputs": [],
   "source": [
    "#4. 저장\n",
    "# 향후에 감정분석에서 사용하기 위해 tfidf, tdm, 그리고 df 의 'sentiment' 열을 피클로 저장해두자. \n",
    "# joblib은 pickle과 비슷하게 파이썬의 값들을 저장해주는 라이브러리다. pickle에 비해서 수치 데이터를 더 효율적으로 저장한다.\n",
    "\n",
    "\n",
    "import joblib\n",
    "with open('amazon.pkl', 'wb') as f:\n",
    "    joblib.dump(\n",
    "        {'vectorizer': tfidf, 'tdm': tdm, 'sentiment': sentiment},\n",
    "        f\n",
    "    )"
   ]
  },
  {
   "cell_type": "markdown",
   "id": "Sw4BqD9Wyn3O",
   "metadata": {
    "id": "Sw4BqD9Wyn3O"
   },
   "source": [
    "뉴스 TDM 생성\n",
    "1. 데이터 다운로드\n",
    "- 개방 공공 데이터 활용(전파누리 최신 뉴스)\n",
    "- https://www.data.go.kr/data/15076857/fileData.do\n",
    "\n",
    "2. 데이터 불러오기\n"
   ]
  },
  {
   "cell_type": "code",
   "execution_count": 2,
   "id": "44ef0e76",
   "metadata": {
    "id": "44ef0e76",
    "outputId": "4c3d84d1-e2a8-423d-c265-72a2edb8e1ea"
   },
   "outputs": [
    {
     "data": {
      "text/plain": [
       "0       <p><span>한국나노기술원(원장 서광석)은 국방&middot;의료&middot;...\n",
       "1       <p><span>광주정보문화산업진흥원 컨소시엄은 의료&middot;헬스케어 AI융합...\n",
       "2       <p><span>유영상 SK텔레콤 대표&middot;구현모 KT 대표&middot;...\n",
       "3       <p><span>과학기술정보통신부와 정보통신산업진흥원(NIPA)이 주관하는 '인공지...\n",
       "4       <p><span>과학기술정보통신부와 정보통신산업진흥원(NIPA)이 주관하는 'AI융...\n",
       "                              ...                        \n",
       "1394    <p><span>웹&nbsp;</span><span><a>크롤링</a></span>...\n",
       "1395    <p><span><a>캄테크</a></span><span>는 조용함을 뜻하는 캄(c...\n",
       "1396    <p><span>1967년 1월 16일. 정부는 한국 최초의 과학기술진흥법을 이날 ...\n",
       "1397    <p><span>통합 발주된 공공정보화 사업에서 상용 소프트웨어(SW) 개발사가 받...\n",
       "1398    <p><span>북유럽 화가 가운데 기억나는 사람이 있을까. 대부분 노르웨이 화가 ...\n",
       "Name: 내용, Length: 1399, dtype: object"
      ]
     },
     "execution_count": 2,
     "metadata": {},
     "output_type": "execute_result"
    }
   ],
   "source": [
    "import pandas as pd\n",
    "\n",
    "df2 = pd.read_csv(r\"C:\\Users\\jaeyeon\\Desktop\\한국방송통신전파진흥원_전파누리_최신뉴스_20230725.csv\",\n",
    "                 encoding='cp949',\n",
    "                 engine='python' )\n",
    "\n",
    "df2.shape\n",
    "df2.head()\n",
    "df2['내용']\n"
   ]
  },
  {
   "cell_type": "code",
   "execution_count": 3,
   "id": "50e2671e",
   "metadata": {},
   "outputs": [
    {
     "data": {
      "text/html": [
       "<div>\n",
       "<style scoped>\n",
       "    .dataframe tbody tr th:only-of-type {\n",
       "        vertical-align: middle;\n",
       "    }\n",
       "\n",
       "    .dataframe tbody tr th {\n",
       "        vertical-align: top;\n",
       "    }\n",
       "\n",
       "    .dataframe thead th {\n",
       "        text-align: right;\n",
       "    }\n",
       "</style>\n",
       "<table border=\"1\" class=\"dataframe\">\n",
       "  <thead>\n",
       "    <tr style=\"text-align: right;\">\n",
       "      <th></th>\n",
       "      <th>제목</th>\n",
       "      <th>내용</th>\n",
       "      <th>조회수</th>\n",
       "      <th>출저</th>\n",
       "    </tr>\n",
       "  </thead>\n",
       "  <tbody>\n",
       "    <tr>\n",
       "      <th>0</th>\n",
       "      <td>나노기술원, 중적외선 양자폭포레이저 에피웨이퍼 소재 국산화 플랫폼 구축     작은...</td>\n",
       "      <td>&lt;p&gt;&lt;span&gt;한국나노기술원(원장 서광석)은 국방&amp;middot;의료&amp;middot;...</td>\n",
       "      <td>0</td>\n",
       "      <td>전자신문</td>\n",
       "    </tr>\n",
       "    <tr>\n",
       "      <th>1</th>\n",
       "      <td>[AI 융합, 지역특화산업 디지털대전환 엔진]〈6〉 광주 의료·헬스케어 산업, AI...</td>\n",
       "      <td>&lt;p&gt;&lt;span&gt;광주정보문화산업진흥원 컨소시엄은 의료&amp;middot;헬스케어 AI융합...</td>\n",
       "      <td>1</td>\n",
       "      <td>전자신문</td>\n",
       "    </tr>\n",
       "    <tr>\n",
       "      <th>2</th>\n",
       "      <td>이통 3사 CEO 무선국·탄소배출 등 규제 개선 건의...주파수 할당은 인식차   ...</td>\n",
       "      <td>&lt;p&gt;&lt;span&gt;유영상 SK텔레콤 대표&amp;middot;구현모 KT 대표&amp;middot;...</td>\n",
       "      <td>0</td>\n",
       "      <td>전자신문</td>\n",
       "    </tr>\n",
       "    <tr>\n",
       "      <th>3</th>\n",
       "      <td>[AI 융합, 지역특화산업 디지털대전환 엔진]〈3〉 유디엠텍·인터엑스·제이에스시스템...</td>\n",
       "      <td>&lt;p&gt;&lt;span&gt;과학기술정보통신부와 정보통신산업진흥원(NIPA)이 주관하는 '인공지...</td>\n",
       "      <td>0</td>\n",
       "      <td>전자신문</td>\n",
       "    </tr>\n",
       "    <tr>\n",
       "      <th>4</th>\n",
       "      <td>[AI 융합, 지역특화산업의 디지털대전환 엔진]〈1〉동서정보기술·에스피파트너스, 차...</td>\n",
       "      <td>&lt;p&gt;&lt;span&gt;과학기술정보통신부와 정보통신산업진흥원(NIPA)이 주관하는 'AI융...</td>\n",
       "      <td>0</td>\n",
       "      <td>전자신문</td>\n",
       "    </tr>\n",
       "    <tr>\n",
       "      <th>...</th>\n",
       "      <td>...</td>\n",
       "      <td>...</td>\n",
       "      <td>...</td>\n",
       "      <td>...</td>\n",
       "    </tr>\n",
       "    <tr>\n",
       "      <th>1394</th>\n",
       "      <td>[ICT 시사용어]크롤링</td>\n",
       "      <td>&lt;p&gt;&lt;span&gt;웹&amp;nbsp;&lt;/span&gt;&lt;span&gt;&lt;a&gt;크롤링&lt;/a&gt;&lt;/span&gt;...</td>\n",
       "      <td>1</td>\n",
       "      <td>전자신문</td>\n",
       "    </tr>\n",
       "    <tr>\n",
       "      <th>1395</th>\n",
       "      <td>[ICT시사용어]캄테크</td>\n",
       "      <td>&lt;p&gt;&lt;span&gt;&lt;a&gt;캄테크&lt;/a&gt;&lt;/span&gt;&lt;span&gt;는 조용함을 뜻하는 캄(c...</td>\n",
       "      <td>1</td>\n",
       "      <td>전자신문</td>\n",
       "    </tr>\n",
       "    <tr>\n",
       "      <th>1396</th>\n",
       "      <td>과학기술진흥법 첫 제정</td>\n",
       "      <td>&lt;p&gt;&lt;span&gt;1967년 1월 16일. 정부는 한국 최초의 과학기술진흥법을 이날 ...</td>\n",
       "      <td>7</td>\n",
       "      <td>전자신문</td>\n",
       "    </tr>\n",
       "    <tr>\n",
       "      <th>1397</th>\n",
       "      <td>[관망경]유지관리요율</td>\n",
       "      <td>&lt;p&gt;&lt;span&gt;통합 발주된 공공정보화 사업에서 상용 소프트웨어(SW) 개발사가 받...</td>\n",
       "      <td>0</td>\n",
       "      <td>전자신문</td>\n",
       "    </tr>\n",
       "    <tr>\n",
       "      <th>1398</th>\n",
       "      <td>AI와 문화국가론</td>\n",
       "      <td>&lt;p&gt;&lt;span&gt;북유럽 화가 가운데 기억나는 사람이 있을까. 대부분 노르웨이 화가 ...</td>\n",
       "      <td>0</td>\n",
       "      <td>전자신문</td>\n",
       "    </tr>\n",
       "  </tbody>\n",
       "</table>\n",
       "<p>1399 rows × 4 columns</p>\n",
       "</div>"
      ],
      "text/plain": [
       "                                                     제목  \\\n",
       "0     나노기술원, 중적외선 양자폭포레이저 에피웨이퍼 소재 국산화 플랫폼 구축     작은...   \n",
       "1     [AI 융합, 지역특화산업 디지털대전환 엔진]〈6〉 광주 의료·헬스케어 산업, AI...   \n",
       "2     이통 3사 CEO 무선국·탄소배출 등 규제 개선 건의...주파수 할당은 인식차   ...   \n",
       "3     [AI 융합, 지역특화산업 디지털대전환 엔진]〈3〉 유디엠텍·인터엑스·제이에스시스템...   \n",
       "4     [AI 융합, 지역특화산업의 디지털대전환 엔진]〈1〉동서정보기술·에스피파트너스, 차...   \n",
       "...                                                 ...   \n",
       "1394                                      [ICT 시사용어]크롤링   \n",
       "1395                                       [ICT시사용어]캄테크   \n",
       "1396                                       과학기술진흥법 첫 제정   \n",
       "1397                                        [관망경]유지관리요율   \n",
       "1398                                          AI와 문화국가론   \n",
       "\n",
       "                                                     내용  조회수    출저  \n",
       "0     <p><span>한국나노기술원(원장 서광석)은 국방&middot;의료&middot;...    0  전자신문  \n",
       "1     <p><span>광주정보문화산업진흥원 컨소시엄은 의료&middot;헬스케어 AI융합...    1  전자신문  \n",
       "2     <p><span>유영상 SK텔레콤 대표&middot;구현모 KT 대표&middot;...    0  전자신문  \n",
       "3     <p><span>과학기술정보통신부와 정보통신산업진흥원(NIPA)이 주관하는 '인공지...    0  전자신문  \n",
       "4     <p><span>과학기술정보통신부와 정보통신산업진흥원(NIPA)이 주관하는 'AI융...    0  전자신문  \n",
       "...                                                 ...  ...   ...  \n",
       "1394  <p><span>웹&nbsp;</span><span><a>크롤링</a></span>...    1  전자신문  \n",
       "1395  <p><span><a>캄테크</a></span><span>는 조용함을 뜻하는 캄(c...    1  전자신문  \n",
       "1396  <p><span>1967년 1월 16일. 정부는 한국 최초의 과학기술진흥법을 이날 ...    7  전자신문  \n",
       "1397  <p><span>통합 발주된 공공정보화 사업에서 상용 소프트웨어(SW) 개발사가 받...    0  전자신문  \n",
       "1398  <p><span>북유럽 화가 가운데 기억나는 사람이 있을까. 대부분 노르웨이 화가 ...    0  전자신문  \n",
       "\n",
       "[1399 rows x 4 columns]"
      ]
     },
     "execution_count": 3,
     "metadata": {},
     "output_type": "execute_result"
    }
   ],
   "source": [
    "df2"
   ]
  },
  {
   "cell_type": "code",
   "execution_count": null,
   "id": "205d5afe",
   "metadata": {},
   "outputs": [],
   "source": [
    "#last_row = df2.tail(1)\n",
    "last_row = df2.tail(1).iloc[0]\n",
    "taggers=[]\n",
    "for i in range(last_row):\n",
    "   taggers=taggers.append(tagger.nouns(str(df2['내용'].iloc[i])))"
   ]
  },
  {
   "cell_type": "code",
   "execution_count": 8,
   "id": "af863478",
   "metadata": {},
   "outputs": [],
   "source": [
    "# 기존 코드에서 taggers 리스트를 초기화해야 함\n",
    "taggers = []\n",
    "\n",
    "last_row_length = len(df2.tail(1).iloc[0])\n",
    "for i in range(last_row_length):\n",
    "    taggers.append(tagger.nouns(str(df2['내용'].iloc[i])))\n"
   ]
  },
  {
   "cell_type": "code",
   "execution_count": 9,
   "id": "36a2c6e0",
   "metadata": {},
   "outputs": [],
   "source": [
    "last_row = df2.tail(1)  # 마지막 행을 선택하여 데이터프레임으로 저장\n",
    "\n",
    "taggers = []  # 결과를 저장할 리스트 초기화\n",
    "\n",
    "# 데이터프레임의 마지막 행을 반복하여 처리\n",
    "for i, row in last_row.iterrows():\n",
    "    taggers.append(tagger.nouns(str(row['내용'])))\n",
    "\n",
    "# taggers 리스트에는 마지막 행에 대한 형태소 분석 결과가 저장됩니다.\n"
   ]
  },
  {
   "cell_type": "code",
   "execution_count": 10,
   "id": "79ad4b28",
   "metadata": {},
   "outputs": [
    {
     "data": {
      "text/plain": [
       "[['북유럽',\n",
       "  '화가',\n",
       "  '가운데',\n",
       "  '사람',\n",
       "  '대부분',\n",
       "  '노르웨이',\n",
       "  '화가',\n",
       "  '에드',\n",
       "  '뭉크',\n",
       "  '핏빛',\n",
       "  '하늘',\n",
       "  '밑',\n",
       "  '다리',\n",
       "  '난관',\n",
       "  '서서',\n",
       "  '공포',\n",
       "  '얼굴',\n",
       "  '작품',\n",
       "  '절규',\n",
       "  '로',\n",
       "  '부모',\n",
       "  '형제',\n",
       "  '죽음',\n",
       "  '정신병',\n",
       "  '고통',\n",
       "  '고독',\n",
       "  '질투',\n",
       "  '불안',\n",
       "  '공포',\n",
       "  '그림',\n",
       "  '세',\n",
       "  '작품',\n",
       "  '성은',\n",
       "  '기본',\n",
       "  '말',\n",
       "  '것',\n",
       "  '사무실',\n",
       "  '거실',\n",
       "  '그림',\n",
       "  '세계',\n",
       "  '명성',\n",
       "  '이유',\n",
       "  '뭘',\n",
       "  '직전',\n",
       "  '모든',\n",
       "  '작품',\n",
       "  '수도',\n",
       "  '오슬로',\n",
       "  '시',\n",
       "  '기증',\n",
       "  '노르웨이',\n",
       "  '미술관',\n",
       "  '건립',\n",
       "  '개인',\n",
       "  '정리',\n",
       "  '마케팅',\n",
       "  '적극',\n",
       "  '결과',\n",
       "  '대성공',\n",
       "  '뭉크',\n",
       "  '창작',\n",
       "  '북유럽',\n",
       "  '문화',\n",
       "  '승화',\n",
       "  '순간']]"
      ]
     },
     "execution_count": 10,
     "metadata": {},
     "output_type": "execute_result"
    }
   ],
   "source": [
    "taggers"
   ]
  },
  {
   "cell_type": "code",
   "execution_count": 11,
   "id": "1b81297e",
   "metadata": {
    "id": "1b81297e"
   },
   "outputs": [],
   "source": [
    "from sklearn.feature_extraction.text import CountVectorizer\n",
    "cv = CountVectorizer()"
   ]
  },
  {
   "cell_type": "code",
   "execution_count": 12,
   "id": "d02c8284",
   "metadata": {
    "id": "d02c8284",
    "outputId": "43230bde-7018-46ce-cd05-788794e50512"
   },
   "outputs": [
    {
     "data": {
      "text/plain": [
       "['아침', '버스']"
      ]
     },
     "execution_count": 12,
     "metadata": {},
     "output_type": "execute_result"
    }
   ],
   "source": [
    "# 혹은 직접 만든 함수를 사용할수도 있다. \n",
    "# 예시로 단어의 길이가 2 이상인 단어만 추출하는 함수를 만들어보자.\n",
    "\n",
    "def get_nouns(text):\n",
    "    nouns = tagger.nouns(text)\n",
    "    nouns = [word for word in nouns if len(word) > 1]\n",
    "    return nouns\n",
    "\n",
    "get_nouns('아침에 해를 보며 버스를 탔다')\n",
    "#"
   ]
  },
  {
   "cell_type": "markdown",
   "id": "bvs58VsWzDTY",
   "metadata": {
    "id": "bvs58VsWzDTY"
   },
   "source": [
    "CountVectorizer 안에 많은 옵션을 지정해 설정할 수 있다.\n",
    "\n",
    "•\tmax_features=: TDM에 사용할 최대(max) 단어(feature) 수를 지정할 수 있다.\n",
    "•\tstop_words=: 영어의 경우 'a', 'the' 와 같은 불필요한 단어를 제거할 수 있다.\n",
    "•\ttokenizer=: token(feature)를 만들 때 적용하고 싶은 함수를 지정할 수 있다. \n",
    "\n",
    "한국어의 경우 형태소 분석 함수를 지정한다.\n"
   ]
  },
  {
   "cell_type": "code",
   "execution_count": 13,
   "id": "8f5bb3c1",
   "metadata": {
    "id": "8f5bb3c1"
   },
   "outputs": [],
   "source": [
    "# 4. countvectorizer\n",
    "# Scikit-learn에서 제공하는 TDM 만드는 모듈인 CountVectorizer를 불러온다. \n",
    "# CountVectorizer는 토큰이 문서별로 몇 번 등장했는지 행렬로 정리해주는 모듈이다.\n",
    "\n",
    "cv = CountVectorizer(max_features=1000, tokenizer=get_nouns)"
   ]
  },
  {
   "cell_type": "markdown",
   "id": "xMj7J81uzaTB",
   "metadata": {
    "id": "xMj7J81uzaTB"
   },
   "source": [
    "5. TDM생성\n",
    "TDM은 cv 뒤에 .fit_transform() 메써드로 만들 수 있다. 형태소 분석을 같이 하기 때문에 시간이 오래 걸릴 수 있다.\n",
    "•\t.fit(): 단어 문서 행렬의 형태를 정하는 메소드로, 각 열에 들어갈 단어를 결정한다. 이 정보는 cv의 내부에 저장된다.\n",
    "•\t.transform(): .fit()으로 정한 단어에 데이터를 끼워 맞춘다.\n",
    "•\tfit_transform은 fit과 transform 두 개의 메소드를 합친 것이다.\n"
   ]
  },
  {
   "cell_type": "code",
   "execution_count": 14,
   "id": "9864e9f1",
   "metadata": {},
   "outputs": [
    {
     "data": {
      "text/html": [
       "<style>#sk-container-id-1 {color: black;}#sk-container-id-1 pre{padding: 0;}#sk-container-id-1 div.sk-toggleable {background-color: white;}#sk-container-id-1 label.sk-toggleable__label {cursor: pointer;display: block;width: 100%;margin-bottom: 0;padding: 0.3em;box-sizing: border-box;text-align: center;}#sk-container-id-1 label.sk-toggleable__label-arrow:before {content: \"▸\";float: left;margin-right: 0.25em;color: #696969;}#sk-container-id-1 label.sk-toggleable__label-arrow:hover:before {color: black;}#sk-container-id-1 div.sk-estimator:hover label.sk-toggleable__label-arrow:before {color: black;}#sk-container-id-1 div.sk-toggleable__content {max-height: 0;max-width: 0;overflow: hidden;text-align: left;background-color: #f0f8ff;}#sk-container-id-1 div.sk-toggleable__content pre {margin: 0.2em;color: black;border-radius: 0.25em;background-color: #f0f8ff;}#sk-container-id-1 input.sk-toggleable__control:checked~div.sk-toggleable__content {max-height: 200px;max-width: 100%;overflow: auto;}#sk-container-id-1 input.sk-toggleable__control:checked~label.sk-toggleable__label-arrow:before {content: \"▾\";}#sk-container-id-1 div.sk-estimator input.sk-toggleable__control:checked~label.sk-toggleable__label {background-color: #d4ebff;}#sk-container-id-1 div.sk-label input.sk-toggleable__control:checked~label.sk-toggleable__label {background-color: #d4ebff;}#sk-container-id-1 input.sk-hidden--visually {border: 0;clip: rect(1px 1px 1px 1px);clip: rect(1px, 1px, 1px, 1px);height: 1px;margin: -1px;overflow: hidden;padding: 0;position: absolute;width: 1px;}#sk-container-id-1 div.sk-estimator {font-family: monospace;background-color: #f0f8ff;border: 1px dotted black;border-radius: 0.25em;box-sizing: border-box;margin-bottom: 0.5em;}#sk-container-id-1 div.sk-estimator:hover {background-color: #d4ebff;}#sk-container-id-1 div.sk-parallel-item::after {content: \"\";width: 100%;border-bottom: 1px solid gray;flex-grow: 1;}#sk-container-id-1 div.sk-label:hover label.sk-toggleable__label {background-color: #d4ebff;}#sk-container-id-1 div.sk-serial::before {content: \"\";position: absolute;border-left: 1px solid gray;box-sizing: border-box;top: 0;bottom: 0;left: 50%;z-index: 0;}#sk-container-id-1 div.sk-serial {display: flex;flex-direction: column;align-items: center;background-color: white;padding-right: 0.2em;padding-left: 0.2em;position: relative;}#sk-container-id-1 div.sk-item {position: relative;z-index: 1;}#sk-container-id-1 div.sk-parallel {display: flex;align-items: stretch;justify-content: center;background-color: white;position: relative;}#sk-container-id-1 div.sk-item::before, #sk-container-id-1 div.sk-parallel-item::before {content: \"\";position: absolute;border-left: 1px solid gray;box-sizing: border-box;top: 0;bottom: 0;left: 50%;z-index: -1;}#sk-container-id-1 div.sk-parallel-item {display: flex;flex-direction: column;z-index: 1;position: relative;background-color: white;}#sk-container-id-1 div.sk-parallel-item:first-child::after {align-self: flex-end;width: 50%;}#sk-container-id-1 div.sk-parallel-item:last-child::after {align-self: flex-start;width: 50%;}#sk-container-id-1 div.sk-parallel-item:only-child::after {width: 0;}#sk-container-id-1 div.sk-dashed-wrapped {border: 1px dashed gray;margin: 0 0.4em 0.5em 0.4em;box-sizing: border-box;padding-bottom: 0.4em;background-color: white;}#sk-container-id-1 div.sk-label label {font-family: monospace;font-weight: bold;display: inline-block;line-height: 1.2em;}#sk-container-id-1 div.sk-label-container {text-align: center;}#sk-container-id-1 div.sk-container {/* jupyter's `normalize.less` sets `[hidden] { display: none; }` but bootstrap.min.css set `[hidden] { display: none !important; }` so we also need the `!important` here to be able to override the default hidden behavior on the sphinx rendered scikit-learn.org. See: https://github.com/scikit-learn/scikit-learn/issues/21755 */display: inline-block !important;position: relative;}#sk-container-id-1 div.sk-text-repr-fallback {display: none;}</style><div id=\"sk-container-id-1\" class=\"sk-top-container\"><div class=\"sk-text-repr-fallback\"><pre>CountVectorizer(max_features=1000,\n",
       "                tokenizer=&lt;function get_nouns at 0x00000153C9ABE7A0&gt;)</pre><b>In a Jupyter environment, please rerun this cell to show the HTML representation or trust the notebook. <br />On GitHub, the HTML representation is unable to render, please try loading this page with nbviewer.org.</b></div><div class=\"sk-container\" hidden><div class=\"sk-item\"><div class=\"sk-estimator sk-toggleable\"><input class=\"sk-toggleable__control sk-hidden--visually\" id=\"sk-estimator-id-1\" type=\"checkbox\" checked><label for=\"sk-estimator-id-1\" class=\"sk-toggleable__label sk-toggleable__label-arrow\">CountVectorizer</label><div class=\"sk-toggleable__content\"><pre>CountVectorizer(max_features=1000,\n",
       "                tokenizer=&lt;function get_nouns at 0x00000153C9ABE7A0&gt;)</pre></div></div></div></div></div>"
      ],
      "text/plain": [
       "CountVectorizer(max_features=1000,\n",
       "                tokenizer=<function get_nouns at 0x00000153C9ABE7A0>)"
      ]
     },
     "execution_count": 14,
     "metadata": {},
     "output_type": "execute_result"
    }
   ],
   "source": [
    "cv"
   ]
  },
  {
   "cell_type": "code",
   "execution_count": 15,
   "id": "709ccddb",
   "metadata": {
    "id": "709ccddb",
    "outputId": "2d20065e-c982-434a-b97d-75ab5b64ddc2"
   },
   "outputs": [
    {
     "name": "stderr",
     "output_type": "stream",
     "text": [
      "C:\\Users\\jaeyeon\\anaconda3\\Lib\\site-packages\\sklearn\\feature_extraction\\text.py:525: UserWarning: The parameter 'token_pattern' will not be used since 'tokenizer' is not None'\n",
      "  warnings.warn(\n"
     ]
    },
    {
     "data": {
      "text/plain": [
       "array(['가격', '가구', '가능성', '가동', '가망', '가상', '가상현실', '가상화', '가속', '가운데'],\n",
       "      dtype=object)"
      ]
     },
     "execution_count": 15,
     "metadata": {},
     "output_type": "execute_result"
    }
   ],
   "source": [
    "tdm = cv.fit_transform(df2['내용'])\n",
    "cv.get_feature_names_out()[:10]  # 첫 10 단어\n"
   ]
  },
  {
   "cell_type": "code",
   "execution_count": 16,
   "id": "a6acaa44",
   "metadata": {},
   "outputs": [
    {
     "name": "stdout",
     "output_type": "stream",
     "text": [
      "  (0, 932)\t1\n",
      "  (0, 581)\t1\n",
      "  (0, 131)\t1\n",
      "  (0, 609)\t1\n",
      "  (0, 881)\t1\n",
      "  (0, 987)\t1\n",
      "  (0, 506)\t1\n",
      "  (0, 294)\t1\n",
      "  (0, 429)\t1\n",
      "  (0, 132)\t1\n",
      "  (0, 921)\t1\n",
      "  (0, 124)\t1\n",
      "  (1, 609)\t2\n",
      "  (1, 108)\t1\n",
      "  (1, 714)\t1\n",
      "  (1, 281)\t1\n",
      "  (1, 385)\t2\n",
      "  (1, 801)\t1\n",
      "  (1, 857)\t1\n",
      "  (1, 605)\t1\n",
      "  (1, 376)\t1\n",
      "  (1, 888)\t1\n",
      "  (1, 218)\t1\n",
      "  (1, 212)\t1\n",
      "  (1, 159)\t1\n",
      "  :\t:\n",
      "  (3, 157)\t1\n",
      "  (3, 153)\t1\n",
      "  (3, 351)\t1\n",
      "  (3, 397)\t1\n",
      "  (4, 385)\t3\n",
      "  (4, 801)\t1\n",
      "  (4, 605)\t1\n",
      "  (4, 376)\t1\n",
      "  (4, 159)\t1\n",
      "  (4, 60)\t1\n",
      "  (4, 97)\t1\n",
      "  (4, 719)\t1\n",
      "  (4, 788)\t1\n",
      "  (4, 718)\t1\n",
      "  (4, 751)\t1\n",
      "  (4, 786)\t1\n",
      "  (4, 82)\t1\n",
      "  (4, 160)\t1\n",
      "  (4, 815)\t1\n",
      "  (4, 157)\t1\n",
      "  (4, 351)\t1\n",
      "  (4, 715)\t1\n",
      "  (4, 901)\t1\n",
      "  (4, 659)\t1\n",
      "  (4, 956)\t1\n"
     ]
    }
   ],
   "source": [
    "print(tdm[0:5])"
   ]
  },
  {
   "cell_type": "code",
   "execution_count": 17,
   "id": "5bf269e5",
   "metadata": {},
   "outputs": [
    {
     "data": {
      "text/plain": [
       "array(['가격', '가구', '가능성', '가동', '가망', '가상', '가상현실', '가상화', '가속', '가운데',\n",
       "       '가이드라인', '가입', '가입자', '가장', '가지', '가치', '가칭', '각각', '각국', '간담',\n",
       "       '간섭', '갈등', '감소', '감시', '감안', '강화', '개국', '개념', '개막', '개발', '개방',\n",
       "       '개선', '개시', '개월', '개인', '개인정보', '개정', '개정안', '개최', '개통', '개편',\n",
       "       '갤럭시', '거나', '거래', '거리', '건물', '건의', '검사', '검증', '검토', '게임', '격차',\n",
       "       '결과', '결정', '결합', '경기도', '경매', '경영', '경우', '경쟁', '경쟁력', '경제', '경찰',\n",
       "       '경험', '계기', '계약', '계획', '고객', '고도', '고도화', '고려', '고속', '고속도로',\n",
       "       '고시', '고정', '골자', '공간', '공개', '공고', '공공', '공공기관', '공공안전', '공급',\n",
       "       '공동', '공사', '공식', '공용', '공유', '공인', '공장', '공정', '공통', '과거', '과도',\n",
       "       '과정', '과제', '과학', '과학기술', '관계', '관계자', '관련', '관로', '관리', '관심',\n",
       "       '관제', '관측', '광대역', '광역시', '광주', '광케이블', '교류', '교수', '교육', '교체',\n",
       "       '교통', '교환', '구간', '구글', '구매', '구분', '구상', '구성', '구조', '구체', '구축',\n",
       "       '구현', '국가', '국내', '국내외', '국립', '국민', '국방', '국산', '국정', '국제',\n",
       "       '국토교통부', '국회', '규격', '규모', '규정', '규제', '그룹', '그린', '극복', '근거',\n",
       "       '글로벌', '금융', '금제', '금지', '급증', '기간', '기관', '기구', '기기', '기능', '기대',\n",
       "       '기록', '기반', '기본', '기술', '기업', '기여', '기존', '기준', '기지국', '기초', '기회',\n",
       "       '기획', '긴급', '나흘', '내년', '내달', '내외', '내용', '네트워크', '넷플릭스', '노력',\n",
       "       '노키아', '논란', '논의', '농어촌', '높이', '뉴딜', '다른', '다운로드', '다음', '다중',\n",
       "       '단계', '단독', '단말', '단말기', '단위', '단일', '단지', '단체', '달리', '달성', '담당',\n",
       "       '대가', '대규모', '대기업', '대부분', '대비', '대상', '대역', '대역폭', '대응', '대책',\n",
       "       '대체', '대통령', '대표', '대학', '대한', '대한민국', '대해', '대형', '대화', '대회',\n",
       "       '데이터', '도시', '도입', '도출', '독일', '돌입', '돌파', '동계올림픽', '동시', '동안',\n",
       "       '동의', '동향', '드론', '등급', '등록', '등장', '디바이스', '디지털', '때문', '또한',\n",
       "       '라며', '라우터', '라이선스', '로드맵', '로라', '로밍', '로봇', '로부터', '로서', '롱텀',\n",
       "       '리지', '린다', '릴리', '마련', '마루', '마지막', '만료', '만큼', '망라', '망중립성',\n",
       "       '맞춤', '매출', '메타', '면서', '면허', '모니터링', '모델', '모두', '모듈', '모드', '모든',\n",
       "       '모바일', '모색', '목적', '목표', '무궁화', '무료', '무선', '무선망', '무인', '문자',\n",
       "       '문재인', '문제', '문화', '물류', '미국', '미디어', '미래', '미래창조과학부', '미세먼지',\n",
       "       '민간', '민관', '밀리미터', '바르셀로나', '바탕', '박차', '반도체', '반영', '발굴', '발사',\n",
       "       '발생', '발의', '발전', '발주', '발표', '방문', '방법', '방송', '방송통신', '방식', '방안',\n",
       "       '방지', '방침', '방통위', '방향', '배제', '배치', '배터리', '백본망', '밴드', '버라이즌',\n",
       "       '버스', '번호', '범위', '법률', '법안', '베드', '벤처기업', '변경', '변화', '별도', '별로',\n",
       "       '보고', '보고서', '보급', '보도', '보안', '보유', '보통신', '보편', '보호', '복안', '본격',\n",
       "       '본부', '부가', '부과', '부담', '부문', '부분', '부산', '부상', '부여', '부처', '부품',\n",
       "       '북미', '분배', '분산', '분석', '분야', '분할', '불공정', '브라질', '브로드밴드', '블록',\n",
       "       '비대', '비롯', '비용', '비율', '비즈니스', '빅데이터', '사가', '사고', '사람', '사례',\n",
       "       '사물', '사물인터넷', '사물통신', '사실', '사업', '사업자', '사용', '사용자', '사의', '사장',\n",
       "       '사전', '사항', '사회', '산업', '산업혁명', '산정', '삼성', '상반기', '상승', '상용',\n",
       "       '상태', '상하이', '상호', '상황', '새해', '생산', '생태계', '생활', '서버', '서비스',\n",
       "       '서울', '서울시', '선도', '선박', '선언', '선점', '선정', '선제', '선택', '설계', '설립',\n",
       "       '설명', '설비', '설치', '성공', '성과', '성능', '성장', '세계', '세대', '세부', '세종',\n",
       "       '센서', '센터', '소개', '소방', '소비자', '소재', '소프트웨어', '소형', '속도', '솔루션',\n",
       "       '송수', '송출', '수가', '수단', '수도권', '수렴', '수립', '수신', '수요', '수익', '수주',\n",
       "       '수준', '수집', '수출', '수행', '스마트', '스마트폰', '스몰', '스위스', '스카이라이프',\n",
       "       '스타트업', '스페이스', '스페인', '스펙트럼', '스프린트', '슬라이싱', '승인', '시간', '시기',\n",
       "       '시내버스', '시대', '시범', '시설', '시스템', '시연', '시작', '시장', '시장조사', '시점',\n",
       "       '시티', '시행', '시험', '신고', '신규', '신뢰', '신설', '신청', '신청서', '신호', '실감',\n",
       "       '실시', '실시간', '실적', '실제', '실증', '실태', '실행', '실현', '심사', '심의', '아시아',\n",
       "       '아이디어', '아파트', '안내', '안보', '안전', '안정', '안테나', '알뜰폰', '암호', '앞서',\n",
       "       '양성', '양자', '양자암호', '양자컴퓨터', '양해각서', '얼라이언스', '업계', '업그레이드', '업무',\n",
       "       '업자', '업체', '에너지', '에릭슨', '에벌루션', '에지', '여개', '여러', '여명', '여부',\n",
       "       '역대', '역량', '역사', '역차별', '역할', '연결', '연구', '연구개발', '연구기관', '연구소',\n",
       "       '연구원', '연내', '연동', '연말', '연방', '연장', '연합', '영국', '영상', '영업', '영역',\n",
       "       '영향', '예고', '예방', '예산', '예상', '예정', '예측', '오픈', '오후', '온라인', '올해',\n",
       "       '와이브로', '와이파이', '완료', '완성', '완화', '외부', '외산', '요구', '요구사항', '요금',\n",
       "       '요소', '요청', '용도', '용량', '우려', '우리', '우리나라', '우선', '우수', '우주', '운영',\n",
       "       '운용', '워크숍', '워킹', '원격', '원장', '원천', '원칙', '월드', '웨이브', '위기', '위반',\n",
       "       '위성', '위원', '위원장', '위원회', '위치', '위해', '유도', '유럽', '유럽연합', '유선',\n",
       "       '유영민', '유지', '유지관리', '유통', '유플러스', '유형', '육성', '융합', '음성', '의견',\n",
       "       '의결', '의료', '의무', '의미', '의원', '의제', '의지', '이동', '이동통신', '이번', '이상',\n",
       "       '이슈', '이외', '이용', '이용대', '이용자', '이유', '이음', '이익', '이전', '이통', '이틀',\n",
       "       '이하', '이행', '이후', '인공', '인구', '인도', '인력', '인식', '인재', '인정', '인증',\n",
       "       '인지', '인천', '인체', '인터넷', '인터페이스', '인프라', '인하', '일반', '일본', '일부',\n",
       "       '일상', '일자리', '일정', '일환', '입법', '입장', '입찰', '자동', '자동차', '자동화',\n",
       "       '자료', '자리', '자원', '자원부', '자율', '자정', '자체', '작업', '장관', '장비', '장소',\n",
       "       '장애', '장치', '재난', '재정', '저궤도', '저장', '적극', '적용', '적합', '전국', '전기',\n",
       "       '전기통신', '전기통신사업법', '전달', '전담', '전략', '전력', '전망', '전면', '전문', '전문가',\n",
       "       '전반', '전송', '전시회', '전용', '전자', '전자통신', '전자파', '전체', '전파', '전화',\n",
       "       '전환', '절감', '절반', '절차', '점검', '점유', '접목', '접속', '접수', '정도', '정밀',\n",
       "       '정보', '정보기술', '정보보호', '정보사회', '정보통', '정보통신부', '정보화', '정부', '정비',\n",
       "       '정상', '정의', '정책', '정통부', '제공', '제기', '제도', '제시', '제안', '제어', '제외',\n",
       "       '제작', '제정', '제조', '제조업', '제출', '제품', '제한', '조건', '조기', '조사', '조성',\n",
       "       '조정', '조직', '조치', '종료', '종합', '주간', '주관', '주도', '주목', '주변', '주요',\n",
       "       '주장', '주제', '주최', '주파', '주파수', '주행', '준비', '중간', '중계', '중계기', '중국',\n",
       "       '중단', '중립성', '중소', '중소기업', '중심', '중앙', '중이', '중인', '증가', '증강현실',\n",
       "       '지난', '지난달', '지난해', '지능', '지도', '지방자치단체', '지상파', '지속', '지수', '지역',\n",
       "       '지연', '지원', '지자체', '지적', '지정', '지침', '지표', '지하철', '직접', '진단', '진입',\n",
       "       '진출', '진행', '진화', '진흥', '집중', '집행', '차관', '차단', '차량', '차별', '차세대',\n",
       "       '차원', '차위', '차이', '차지', '차질', '착수', '참가', '참석', '참여', '참조', '채널',\n",
       "       '채택', '처리', '처음', '철도', '첨단', '체감', '체결', '체계', '체인', '체험', '초고',\n",
       "       '초기', '촉진', '총회', '최고', '최근', '최대', '최소', '최신', '최저', '최종', '최초',\n",
       "       '추가', '추진', '출력', '출범', '출시', '충족', '취소', '취약', '취지', '측정', '침해',\n",
       "       '카카오', '캐나다', '커넥티드카', '커버', '컨소시엄', '컴퓨터', '컴퓨팅', '케이블', '코드',\n",
       "       '코로나', '코리아', '코어', '코엑스', '콘텐츠', '콘퍼런스', '클라우드', '타워', '타진', '탄소',\n",
       "       '탐지', '탑재', '터널', '테라헤르츠', '테스트', '테크', '텔레콤', '통과', '통상', '통신',\n",
       "       '통신망', '통신비', '통신사', '통신업', '통한', '통합', '통해', '통화', '투입', '투자',\n",
       "       '투자가', '트래픽', '트윈', '특별', '특성', '특정', '특허', '특화망', '파악', '파트너',\n",
       "       '판단', '패러다임', '팩토리', '페이스북', '평가', '평균', '평창', '폐지', '포럼', '포석',\n",
       "       '포함', '폭증', '표준', '표준화', '품질', '프랑스', '프로그램', '프로젝트', '플랜', '플랫폼',\n",
       "       '플러스', '피해', '핀란드', '필수', '필요', '필요성', '하나', '하나로', '하반기', '학회',\n",
       "       '한국', '한정', '한편', '할당', '합동', '합의', '항목', '해결', '해당', '해상', '해소',\n",
       "       '해양', '해외', '핵심', '행보', '행사', '행위', '행정', '행정안전부', '행차', '향상',\n",
       "       '향후', '허가', '허용', '혁신', '현실', '현안', '현장', '현재', '현지', '현황', '협력',\n",
       "       '협상', '협약', '협업', '협의', '협회', '형태', '호선', '호텔', '홈페이지', '화가',\n",
       "       '화웨이', '화재', '화질', '확대', '확립', '확보', '확산', '확인', '확장', '확정', '환경',\n",
       "       '활동', '활성화', '활용', '회사', '회선', '회수', '회원', '회의', '회장', '획득', '효과',\n",
       "       '효율', '후보', '후속', '휴대폰'], dtype=object)"
      ]
     },
     "execution_count": 17,
     "metadata": {},
     "output_type": "execute_result"
    }
   ],
   "source": [
    "cv.get_feature_names_out()"
   ]
  },
  {
   "cell_type": "code",
   "execution_count": 18,
   "id": "dfbf22eb",
   "metadata": {
    "id": "dfbf22eb"
   },
   "outputs": [],
   "source": [
    "# 6. TF-IDF 변환\n",
    "from sklearn.feature_extraction.text import TfidfTransformer\n",
    "tfidf = TfidfTransformer()\n",
    "tdm2 = tfidf.fit_transform(tdm)\n"
   ]
  },
  {
   "cell_type": "code",
   "execution_count": 19,
   "id": "aa4bdfcc",
   "metadata": {},
   "outputs": [
    {
     "data": {
      "text/plain": [
       "((1399, 1000),\n",
       " array([1, 1, 1, 1, 1, 1, 1, 1, 1, 1, 1, 1, 1, 1, 1, 1, 1, 1, 1, 1, 2, 1,\n",
       "        2, 1, 1, 1, 1, 1, 1, 1, 1, 1, 1, 1, 3, 1, 1, 1, 1, 1, 1, 1, 1, 1,\n",
       "        1, 1, 1, 1, 2, 1, 1, 2, 1, 1, 1, 1, 1, 1, 1, 1, 1, 1, 1, 1, 1, 1,\n",
       "        1, 1, 1, 1, 1, 1, 1, 3, 1, 1, 1, 1, 1, 1, 1, 1, 1, 1, 1, 1],\n",
       "       dtype=int64))"
      ]
     },
     "execution_count": 19,
     "metadata": {},
     "output_type": "execute_result"
    }
   ],
   "source": [
    "tdm2.shape, tdm[0:5].data"
   ]
  },
  {
   "cell_type": "code",
   "execution_count": 20,
   "id": "337e2ceb",
   "metadata": {},
   "outputs": [
    {
     "data": {
      "text/plain": [
       "(<1x1000 sparse matrix of type '<class 'numpy.int64'>'\n",
       " \twith 12 stored elements in Compressed Sparse Row format>,\n",
       " array([124, 131, 132, 294, 429, 506, 581, 609, 881, 921, 932, 987]),\n",
       " array([1, 1, 1, 1, 1, 1, 1, 1, 1, 1, 1, 1], dtype=int64))"
      ]
     },
     "execution_count": 20,
     "metadata": {},
     "output_type": "execute_result"
    }
   ],
   "source": [
    "tdm[0],tdm[0].indices,tdm[0].data"
   ]
  },
  {
   "cell_type": "code",
   "execution_count": 21,
   "id": "6e317b7a",
   "metadata": {},
   "outputs": [
    {
     "name": "stdout",
     "output_type": "stream",
     "text": [
      "  (0, 124)\t1\n",
      "  (0, 131)\t1\n",
      "  (0, 132)\t1\n",
      "  (0, 294)\t1\n",
      "  (0, 429)\t1\n",
      "  (0, 506)\t1\n",
      "  (0, 581)\t1\n",
      "  (0, 609)\t1\n",
      "  (0, 881)\t1\n",
      "  (0, 921)\t1\n",
      "  (0, 932)\t1\n",
      "  (0, 987)\t1\n",
      "  (0, 987)\t0.17558919089080982\n",
      "  (0, 932)\t0.18345147040821388\n",
      "  (0, 921)\t0.2714983052651931\n",
      "  (0, 881)\t0.15784943617220268\n",
      "  (0, 609)\t0.33396754766185366\n",
      "  (0, 581)\t0.3453405629173944\n",
      "  (0, 506)\t0.3064065136271022\n",
      "  (0, 429)\t0.3646876812352085\n",
      "  (0, 294)\t0.3542670338538256\n",
      "  (0, 132)\t0.31867708226814645\n",
      "  (0, 131)\t0.34964426124984893\n",
      "  (0, 124)\t0.1729115745025113\n"
     ]
    }
   ],
   "source": [
    "print(tdm[0])\n",
    "print(tdm2[0])"
   ]
  },
  {
   "cell_type": "code",
   "execution_count": 22,
   "id": "0d4ea81c",
   "metadata": {
    "id": "0d4ea81c",
    "outputId": "c7160147-9046-4cdd-f34f-634a6bb5a38b"
   },
   "outputs": [
    {
     "name": "stdout",
     "output_type": "stream",
     "text": [
      "구축 1\n",
      "국방 1\n",
      "국산 1\n",
      "반도체 1\n",
      "소재 1\n",
      "양자 1\n",
      "원장 1\n",
      "의료 1\n",
      "통신 1\n",
      "플랫폼 1\n",
      "한국 1\n",
      "활용 1\n",
      "구축 0.1729115745025113\n",
      "국방 0.34964426124984893\n",
      "국산 0.31867708226814645\n",
      "반도체 0.3542670338538256\n",
      "소재 0.3646876812352085\n",
      "양자 0.3064065136271022\n",
      "원장 0.3453405629173944\n",
      "의료 0.33396754766185366\n",
      "통신 0.15784943617220268\n",
      "플랫폼 0.2714983052651931\n",
      "한국 0.18345147040821388\n",
      "활용 0.17558919089080982\n"
     ]
    }
   ],
   "source": [
    "# - CountVectroizer와 TF-IDF 단어 비교 비교\n",
    "\n",
    "words = cv.get_feature_names_out()\n",
    "\n",
    "# 0번째 인덱스 슬라이스(문자열 가져오기 위해), data는 벡터 값\n",
    "for i, n in sorted(zip(tdm[0].indices, tdm[0].data)):\n",
    "    print(words[i], n)\n",
    "for i, n in sorted(zip(tdm2[0].indices, tdm2[0].data)):\n",
    "    print(words[i], n)\n"
   ]
  },
  {
   "cell_type": "code",
   "execution_count": 23,
   "id": "133c0104",
   "metadata": {
    "id": "133c0104"
   },
   "outputs": [],
   "source": [
    "#7. 저장\n",
    "\n",
    "import joblib\n",
    "with open('ai_news_count.pkl', 'wb') as f:\n",
    "    joblib.dump({'vectorizer': cv, 'tdm': tdm}, f)\n",
    "\n",
    "import joblib\n",
    "with open('ai_news_tfidf.pkl', 'wb') as f:\n",
    "    joblib.dump({'vectorizer': cv, 'tdm': tdm2}, f)"
   ]
  },
  {
   "cell_type": "code",
   "execution_count": 24,
   "id": "1408111d",
   "metadata": {
    "id": "1408111d"
   },
   "outputs": [
    {
     "name": "stdout",
     "output_type": "stream",
     "text": [
      "국제\n"
     ]
    }
   ],
   "source": [
    "print(words[134])"
   ]
  }
 ],
 "metadata": {
  "colab": {
   "provenance": []
  },
  "kernelspec": {
   "display_name": "Python 3 (ipykernel)",
   "language": "python",
   "name": "python3"
  },
  "language_info": {
   "codemirror_mode": {
    "name": "ipython",
    "version": 3
   },
   "file_extension": ".py",
   "mimetype": "text/x-python",
   "name": "python",
   "nbconvert_exporter": "python",
   "pygments_lexer": "ipython3",
   "version": "3.11.4"
  }
 },
 "nbformat": 4,
 "nbformat_minor": 5
}
