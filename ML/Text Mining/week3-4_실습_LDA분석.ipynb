{
 "cells": [
  {
   "cell_type": "code",
   "execution_count": 5,
   "id": "a954f607",
   "metadata": {},
   "outputs": [],
   "source": [
    "# 2. LDA 분석\n",
    "#    - genism 설치 필요할 수 있음 ‘!conda install gensim’\n",
    "#    - 데이터 로드(뉴스 데이터)\n",
    "\n",
    "import pandas as pd\n",
    "import joblib\n",
    "\n",
    "def get_nouns():\n",
    "    pass\n",
    "with open('ai_news_tfidf.pkl', 'rb') as f:\n",
    "    data = joblib.load(f)\n",
    "locals().update(data)\n"
   ]
  },
  {
   "cell_type": "code",
   "execution_count": 6,
   "id": "a27978a1",
   "metadata": {},
   "outputs": [
    {
     "name": "stdout",
     "output_type": "stream",
     "text": [
      ".com\n",
      "공통\n",
      "1000\n"
     ]
    }
   ],
   "source": [
    "# - 단어 가져 오기\n",
    "#   .get_feature_names() 을 통해 각 차원에 해당하는 단어 목록을 가져오자.\n",
    "\n",
    "words = vectorizer.get_feature_names_out()\n",
    "\n",
    "#단어 목록을 {단어 번호: 단어} 형태의 딕셔너리로 변환한다.\n",
    "word_dict = dict(enumerate(words))\n",
    "\n",
    "print(word_dict[0])\n",
    "print(word_dict[100])\n",
    "print(len(word_dict))\n"
   ]
  },
  {
   "cell_type": "code",
   "execution_count": 7,
   "id": "5a8e98bb",
   "metadata": {},
   "outputs": [
    {
     "data": {
      "text/plain": [
       "<gensim.matutils.Sparse2Corpus at 0x1a6b72c3750>"
      ]
     },
     "execution_count": 7,
     "metadata": {},
     "output_type": "execute_result"
    }
   ],
   "source": [
    "# - genism 형태로 변환\n",
    "#   tdm을 gensim 형식으로 변환한다.\n",
    "\n",
    "from gensim.matutils import Sparse2Corpus\n",
    "\n",
    "# Sparse2Corpus()에 tdm의 전치행렬을 넘겨준다.\n",
    "corpus = Sparse2Corpus(tdm.T)\n",
    "corpus\n"
   ]
  },
  {
   "cell_type": "code",
   "execution_count": 8,
   "id": "2015d02a",
   "metadata": {},
   "outputs": [
    {
     "data": {
      "text/plain": [
       "[('차량', 0.04986179),\n",
       " ('테스트', 0.048115797),\n",
       " ('인프라', 0.03951701),\n",
       " ('교통', 0.034158953),\n",
       " ('구축', 0.031599417),\n",
       " ('허가', 0.030005133),\n",
       " ('관제', 0.027992418),\n",
       " ('서울시', 0.024829064),\n",
       " ('기반', 0.02358667),\n",
       " ('구간', 0.023544502)]"
      ]
     },
     "execution_count": 8,
     "metadata": {},
     "output_type": "execute_result"
    }
   ],
   "source": [
    "\n",
    "# - 분석\n",
    "#   이제 LDA 분석을 위해 gensim.models에서 LdaModel을 불러오자.\n",
    "from gensim.models.ldamodel import LdaModel\n",
    "\n",
    "#LdaModel()은 계산에 랜덤한 부분이 있기 때문에 random_state를 고정시켜 계산 결과를 일정하게 만들어준다.\n",
    "lda = LdaModel(corpus=corpus,\n",
    "               num_topics=100,\n",
    "               passes=3,\n",
    "               iterations=100,\n",
    "               id2word=word_dict,\n",
    "               random_state=123)\n",
    "\n",
    "# - 토픽이 포함한 단어 확인\n",
    "lda.show_topic(0)\n",
    "lda.show_topic(2)\n",
    "\n",
    "\n"
   ]
  },
  {
   "cell_type": "code",
   "execution_count": 9,
   "id": "a8fead0a",
   "metadata": {},
   "outputs": [
    {
     "data": {
      "text/plain": [
       "[('자동차', 0.0009999998),\n",
       " ('자가', 0.0009999998),\n",
       " ('자문', 0.0009999998),\n",
       " ('자리', 0.0009999998),\n",
       " ('자료', 0.0009999998),\n",
       " ('자동화', 0.0009999998),\n",
       " ('자원부', 0.0009999998),\n",
       " ('자동', 0.0009999998),\n",
       " ('입법', 0.0009999998),\n",
       " ('입찰', 0.0009999998)]"
      ]
     },
     "execution_count": 9,
     "metadata": {},
     "output_type": "execute_result"
    }
   ],
   "source": [
    "lda.show_topic(3)"
   ]
  },
  {
   "cell_type": "code",
   "execution_count": 12,
   "id": "2fc4d89c",
   "metadata": {},
   "outputs": [
    {
     "name": "stdout",
     "output_type": "stream",
     "text": [
      "[(987, 0.1762873210468014), (926, 0.22509510104805375), (917, 0.27215277991885245), (878, 0.0991047166686797), (608, 0.32818449633429586), (582, 0.35048711478649247), (511, 0.2931921381374358), (432, 0.36556679848655604), (297, 0.3551210310603936), (142, 0.31944528622744156), (141, 0.3551210310603936), (134, 0.17306621812525108)]\n"
     ]
    }
   ],
   "source": [
    "\n",
    "# - 문서에 어떤 비율로 주제가 있는지 확인\n",
    "# - 문서의 인덱스와 빈도 생성\n",
    "row = tdm[0]\n",
    "doc = list(zip(row.indices, row.data))\n",
    "print(doc)\n"
   ]
  },
  {
   "cell_type": "code",
   "execution_count": 11,
   "id": "c1090d65",
   "metadata": {},
   "outputs": [
    {
     "data": {
      "text/plain": [
       "'활용'"
      ]
     },
     "execution_count": 11,
     "metadata": {},
     "output_type": "execute_result"
    }
   ],
   "source": [
    "words[987]"
   ]
  },
  {
   "cell_type": "code",
   "execution_count": 13,
   "id": "985c5e27",
   "metadata": {},
   "outputs": [
    {
     "name": "stdout",
     "output_type": "stream",
     "text": [
      "[('활용', 0.1762873210468014), ('한국', 0.22509510104805375), ('플랫폼', 0.27215277991885245), ('통신', 0.0991047166686797), ('의료', 0.32818449633429586), ('원장', 0.35048711478649247), ('양자', 0.2931921381374358), ('소재', 0.36556679848655604), ('반도체', 0.3551210310603936), ('국산', 0.31944528622744156), ('국방', 0.3551210310603936), ('구축', 0.17306621812525108)]\n"
     ]
    }
   ],
   "source": [
    "# - 인덱스를 단어로 변환\n",
    "doc_words = [(words[i], n) for i, n in doc]\n",
    "print(doc_words)\n"
   ]
  },
  {
   "cell_type": "code",
   "execution_count": 22,
   "id": "ac1fef5e",
   "metadata": {},
   "outputs": [
    {
     "data": {
      "text/plain": [
       "[('자율', 0.0009999998),\n",
       " ('자문', 0.0009999998),\n",
       " ('장관', 0.0009999998),\n",
       " ('작업', 0.0009999998),\n",
       " ('자치', 0.0009999998),\n",
       " ('자체', 0.0009999998),\n",
       " ('장소', 0.0009999998),\n",
       " ('자원', 0.0009999998),\n",
       " ('자동차', 0.0009999998),\n",
       " ('자료', 0.0009999998)]"
      ]
     },
     "execution_count": 22,
     "metadata": {},
     "output_type": "execute_result"
    }
   ],
   "source": [
    "\n",
    "# - 문서의 주제어 토픽 생성\n",
    "lda.get_document_topics(doc)\n",
    "\n",
    "# - 문서의 토픽 확인\n",
    "lda.show_topic(28)\n"
   ]
  },
  {
   "cell_type": "code",
   "execution_count": 23,
   "id": "f5f5c17e",
   "metadata": {},
   "outputs": [],
   "source": [
    "\n",
    "# - 모형 저장\n",
    "lda.save('lda_test.lda')\n",
    "\n",
    "# - 모형 호출\n",
    "lda2 = LdaModel.load('lda_test.lda')\n",
    "\n"
   ]
  },
  {
   "cell_type": "code",
   "execution_count": null,
   "id": "c74b429e",
   "metadata": {},
   "outputs": [],
   "source": []
  }
 ],
 "metadata": {
  "kernelspec": {
   "display_name": "Python 3 (ipykernel)",
   "language": "python",
   "name": "python3"
  },
  "language_info": {
   "codemirror_mode": {
    "name": "ipython",
    "version": 3
   },
   "file_extension": ".py",
   "mimetype": "text/x-python",
   "name": "python",
   "nbconvert_exporter": "python",
   "pygments_lexer": "ipython3",
   "version": "3.11.3"
  }
 },
 "nbformat": 4,
 "nbformat_minor": 5
}
