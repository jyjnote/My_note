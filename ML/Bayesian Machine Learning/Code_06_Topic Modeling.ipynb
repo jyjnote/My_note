{
 "cells": [
  {
   "cell_type": "markdown",
   "metadata": {},
   "source": [
    " # 베이지안 머신러닝"
   ]
  },
  {
   "cell_type": "markdown",
   "metadata": {},
   "source": [
    "###  박태영 교수\n",
    "### 연세대학교 응용통계학과"
   ]
  },
  {
   "cell_type": "markdown",
   "metadata": {},
   "source": [
    "### Outline\n",
    "\n",
    "### 6. 토픽 모델링\n",
    "    6.1 전처리 과정\n",
    "    6.2 단어 추출\n",
    "    6.3 토픽 추출\n",
    "    6.4 토픽 시각화 및 해석"
   ]
  },
  {
   "cell_type": "markdown",
   "metadata": {},
   "source": [
    "#### 6.1 전처리 과정\n",
    "\n",
    "- 필요한 모듈을 설치"
   ]
  },
  {
   "cell_type": "code",
   "execution_count": 1,
   "metadata": {},
   "outputs": [],
   "source": [
    "import numpy as np\n",
    "import pandas as pd\n",
    "import matplotlib.pyplot as plt"
   ]
  },
  {
   "cell_type": "markdown",
   "metadata": {},
   "source": [
    "- 네이버 쇼핑 데이터 (출처 : https://github.com/bab2min/corpus/tree/master/sentiment)\n",
    "    - 수집기간: 2020년 6월 - 2020년 7월\n",
    "    - 데이터 건수: 20만건\n",
    "    - 데이터 내용: 제품별 평점과 후기 (긍/부정으로 분류하기 애매한 평점 3점은 제외)"
   ]
  },
  {
   "cell_type": "code",
   "execution_count": 2,
   "metadata": {
    "ExecuteTime": {
     "end_time": "2021-02-03T16:05:52.403652Z",
     "start_time": "2021-02-03T16:05:51.743257Z"
    }
   },
   "outputs": [],
   "source": [
    "data = pd.read_table('Naver_shopping.txt',header=None)\n",
    "data.columns=['star','review']"
   ]
  },
  {
   "cell_type": "code",
   "execution_count": 3,
   "metadata": {
    "ExecuteTime": {
     "end_time": "2021-02-03T16:05:52.418673Z",
     "start_time": "2021-02-03T16:05:52.406670Z"
    }
   },
   "outputs": [],
   "source": [
    "data = data[:20000] # 분석시간 단축을 위해 2만건의 데이터만 선택"
   ]
  },
  {
   "cell_type": "markdown",
   "metadata": {},
   "source": [
    "- 데이터를 평점별로 분리\n",
    "- 같은 평점의 데이터는 점(`.`)으로 연결 후 하나의 문자열로 결합하여 문서 생성"
   ]
  },
  {
   "cell_type": "code",
   "execution_count": 4,
   "metadata": {
    "ExecuteTime": {
     "end_time": "2021-02-03T16:05:52.449500Z",
     "start_time": "2021-02-03T16:05:52.422672Z"
    }
   },
   "outputs": [],
   "source": [
    "doc1 = data[data.star==1].review.str.cat(sep='. ')\n",
    "doc2 = data[data.star==2].review.str.cat(sep='. ')\n",
    "doc3 = data[data.star==4].review.str.cat(sep='. ')\n",
    "doc4 = data[data.star==5].review.str.cat(sep='. ')"
   ]
  },
  {
   "cell_type": "markdown",
   "metadata": {},
   "source": [
    "- 문서의 모음 생성"
   ]
  },
  {
   "cell_type": "code",
   "execution_count": 5,
   "metadata": {
    "ExecuteTime": {
     "end_time": "2021-02-03T16:05:52.480515Z",
     "start_time": "2021-02-03T16:05:52.452511Z"
    }
   },
   "outputs": [
    {
     "data": {
      "text/html": [
       "<div>\n",
       "<style scoped>\n",
       "    .dataframe tbody tr th:only-of-type {\n",
       "        vertical-align: middle;\n",
       "    }\n",
       "\n",
       "    .dataframe tbody tr th {\n",
       "        vertical-align: top;\n",
       "    }\n",
       "\n",
       "    .dataframe thead th {\n",
       "        text-align: right;\n",
       "    }\n",
       "</style>\n",
       "<table border=\"1\" class=\"dataframe\">\n",
       "  <thead>\n",
       "    <tr style=\"text-align: right;\">\n",
       "      <th></th>\n",
       "      <th>review</th>\n",
       "      <th>doc</th>\n",
       "    </tr>\n",
       "  </thead>\n",
       "  <tbody>\n",
       "    <tr>\n",
       "      <th>0</th>\n",
       "      <td>주문을 11월6에 시켰는데 11월16일에 배송이 왔네요 ㅎㅎㅎ 여기 회사측과는 전화...</td>\n",
       "      <td>1</td>\n",
       "    </tr>\n",
       "    <tr>\n",
       "      <th>1</th>\n",
       "      <td>택배가 엉망이네용 저희집 밑에층에 말도없이 놔두고가고. 선물용으로 빨리 받아서 전달...</td>\n",
       "      <td>2</td>\n",
       "    </tr>\n",
       "    <tr>\n",
       "      <th>2</th>\n",
       "      <td>재구매 다 좋은데 하나가 이상하네요. 가성비 괜찮습니다 바퀴가 고정된다면 별다섯개짜...</td>\n",
       "      <td>3</td>\n",
       "    </tr>\n",
       "    <tr>\n",
       "      <th>3</th>\n",
       "      <td>배공빠르고 굿. 아주좋아요 바지 정말 좋아서2개 더 구매했어요 이가격에 대박입니다....</td>\n",
       "      <td>4</td>\n",
       "    </tr>\n",
       "  </tbody>\n",
       "</table>\n",
       "</div>"
      ],
      "text/plain": [
       "                                              review  doc\n",
       "0  주문을 11월6에 시켰는데 11월16일에 배송이 왔네요 ㅎㅎㅎ 여기 회사측과는 전화...    1\n",
       "1  택배가 엉망이네용 저희집 밑에층에 말도없이 놔두고가고. 선물용으로 빨리 받아서 전달...    2\n",
       "2  재구매 다 좋은데 하나가 이상하네요. 가성비 괜찮습니다 바퀴가 고정된다면 별다섯개짜...    3\n",
       "3  배공빠르고 굿. 아주좋아요 바지 정말 좋아서2개 더 구매했어요 이가격에 대박입니다....    4"
      ]
     },
     "execution_count": 5,
     "metadata": {},
     "output_type": "execute_result"
    }
   ],
   "source": [
    "data = pd.DataFrame([doc1,doc2,doc3,doc4],columns=['review'])\n",
    "data['doc'] = data.index+1\n",
    "data"
   ]
  },
  {
   "cell_type": "markdown",
   "metadata": {},
   "source": [
    "#### (1) 한글만 남기기\n",
    "\n",
    "- `ㄱ-ㅣ`: 자음과 모음 (ㅎㅎ, ㅋㅋ, ㅠㅠ 등)\n",
    "- `가-힣`: 단어 (밥, 토끼, 선물 등)"
   ]
  },
  {
   "cell_type": "code",
   "execution_count": 6,
   "metadata": {
    "ExecuteTime": {
     "end_time": "2021-02-03T16:05:52.636084Z",
     "start_time": "2021-02-03T16:05:52.530022Z"
    }
   },
   "outputs": [
    {
     "name": "stderr",
     "output_type": "stream",
     "text": [
      "C:\\Users\\jaeyeon\\AppData\\Local\\Temp\\ipykernel_14004\\1962974939.py:1: FutureWarning: The default value of regex will change from True to False in a future version.\n",
      "  data['review_filtered'] = data['review'].str.replace(\"[^ㄱ-ㅣ가-힣]\", \" \")\n"
     ]
    },
    {
     "data": {
      "text/html": [
       "<div>\n",
       "<style scoped>\n",
       "    .dataframe tbody tr th:only-of-type {\n",
       "        vertical-align: middle;\n",
       "    }\n",
       "\n",
       "    .dataframe tbody tr th {\n",
       "        vertical-align: top;\n",
       "    }\n",
       "\n",
       "    .dataframe thead th {\n",
       "        text-align: right;\n",
       "    }\n",
       "</style>\n",
       "<table border=\"1\" class=\"dataframe\">\n",
       "  <thead>\n",
       "    <tr style=\"text-align: right;\">\n",
       "      <th></th>\n",
       "      <th>review</th>\n",
       "      <th>doc</th>\n",
       "      <th>review_filtered</th>\n",
       "    </tr>\n",
       "  </thead>\n",
       "  <tbody>\n",
       "    <tr>\n",
       "      <th>0</th>\n",
       "      <td>주문을 11월6에 시켰는데 11월16일에 배송이 왔네요 ㅎㅎㅎ 여기 회사측과는 전화...</td>\n",
       "      <td>1</td>\n",
       "      <td>주문을   월 에 시켰는데   월  일에 배송이 왔네요 ㅎㅎㅎ 여기 회사측과는 전화...</td>\n",
       "    </tr>\n",
       "    <tr>\n",
       "      <th>1</th>\n",
       "      <td>택배가 엉망이네용 저희집 밑에층에 말도없이 놔두고가고. 선물용으로 빨리 받아서 전달...</td>\n",
       "      <td>2</td>\n",
       "      <td>택배가 엉망이네용 저희집 밑에층에 말도없이 놔두고가고  선물용으로 빨리 받아서 전달...</td>\n",
       "    </tr>\n",
       "    <tr>\n",
       "      <th>2</th>\n",
       "      <td>재구매 다 좋은데 하나가 이상하네요. 가성비 괜찮습니다 바퀴가 고정된다면 별다섯개짜...</td>\n",
       "      <td>3</td>\n",
       "      <td>재구매 다 좋은데 하나가 이상하네요  가성비 괜찮습니다 바퀴가 고정된다면 별다섯개짜...</td>\n",
       "    </tr>\n",
       "    <tr>\n",
       "      <th>3</th>\n",
       "      <td>배공빠르고 굿. 아주좋아요 바지 정말 좋아서2개 더 구매했어요 이가격에 대박입니다....</td>\n",
       "      <td>4</td>\n",
       "      <td>배공빠르고 굿  아주좋아요 바지 정말 좋아서 개 더 구매했어요 이가격에 대박입니다 ...</td>\n",
       "    </tr>\n",
       "  </tbody>\n",
       "</table>\n",
       "</div>"
      ],
      "text/plain": [
       "                                              review  doc  \\\n",
       "0  주문을 11월6에 시켰는데 11월16일에 배송이 왔네요 ㅎㅎㅎ 여기 회사측과는 전화...    1   \n",
       "1  택배가 엉망이네용 저희집 밑에층에 말도없이 놔두고가고. 선물용으로 빨리 받아서 전달...    2   \n",
       "2  재구매 다 좋은데 하나가 이상하네요. 가성비 괜찮습니다 바퀴가 고정된다면 별다섯개짜...    3   \n",
       "3  배공빠르고 굿. 아주좋아요 바지 정말 좋아서2개 더 구매했어요 이가격에 대박입니다....    4   \n",
       "\n",
       "                                     review_filtered  \n",
       "0  주문을   월 에 시켰는데   월  일에 배송이 왔네요 ㅎㅎㅎ 여기 회사측과는 전화...  \n",
       "1  택배가 엉망이네용 저희집 밑에층에 말도없이 놔두고가고  선물용으로 빨리 받아서 전달...  \n",
       "2  재구매 다 좋은데 하나가 이상하네요  가성비 괜찮습니다 바퀴가 고정된다면 별다섯개짜...  \n",
       "3  배공빠르고 굿  아주좋아요 바지 정말 좋아서 개 더 구매했어요 이가격에 대박입니다 ...  "
      ]
     },
     "execution_count": 6,
     "metadata": {},
     "output_type": "execute_result"
    }
   ],
   "source": [
    "data['review_filtered'] = data['review'].str.replace(\"[^ㄱ-ㅣ가-힣]\", \" \")\n",
    "data"
   ]
  },
  {
   "cell_type": "markdown",
   "metadata": {},
   "source": [
    "#### (2) 토큰화 하기\n",
    "\n",
    "- 불용어를 제거해주기 위해서, 의미를 가진 문자열로 \"토큰화\" 실행"
   ]
  },
  {
   "cell_type": "code",
   "execution_count": 7,
   "metadata": {
    "ExecuteTime": {
     "end_time": "2021-02-03T16:05:52.761099Z",
     "start_time": "2021-02-03T16:05:52.732085Z"
    },
    "scrolled": true
   },
   "outputs": [],
   "source": [
    "doc_tokens = data['review_filtered'].apply(lambda x: x.split())"
   ]
  },
  {
   "cell_type": "markdown",
   "metadata": {},
   "source": [
    "#### (2) 최소 3글자 이상의 단어만 남기기"
   ]
  },
  {
   "cell_type": "code",
   "execution_count": 8,
   "metadata": {
    "ExecuteTime": {
     "end_time": "2021-02-03T16:05:52.898336Z",
     "start_time": "2021-02-03T16:05:52.765093Z"
    }
   },
   "outputs": [],
   "source": [
    "doc_tokens = doc_tokens.apply(lambda x: ' '.join([w for w in x if len(w)>=3]))"
   ]
  },
  {
   "cell_type": "markdown",
   "metadata": {},
   "source": [
    "#### (3) 불용어 제거하기\n",
    "\n",
    "- 한글 불용어(`korean_stopwords.txt`) 불러오기"
   ]
  },
  {
   "cell_type": "code",
   "execution_count": 9,
   "metadata": {},
   "outputs": [],
   "source": [
    "stopwords = pd.read_csv('Korean_stopwords.txt',delimiter='\\t',header=None)\n",
    "stopwords = list(stopwords[0].values)"
   ]
  },
  {
   "cell_type": "markdown",
   "metadata": {},
   "source": [
    "- 불용어 제거하기"
   ]
  },
  {
   "cell_type": "code",
   "execution_count": 10,
   "metadata": {
    "ExecuteTime": {
     "end_time": "2021-02-03T16:05:52.898336Z",
     "start_time": "2021-02-03T16:05:52.765093Z"
    }
   },
   "outputs": [],
   "source": [
    "doc_tokens = doc_tokens.apply(lambda x: [item for item in x.split() if item not in stopwords])"
   ]
  },
  {
   "cell_type": "markdown",
   "metadata": {},
   "source": [
    "- 문서 합치기"
   ]
  },
  {
   "cell_type": "code",
   "execution_count": 11,
   "metadata": {},
   "outputs": [],
   "source": [
    "docs = doc_tokens.apply(lambda x: ' '.join(x))"
   ]
  },
  {
   "cell_type": "markdown",
   "metadata": {},
   "source": [
    "#### 6.2 단어 추출\n",
    "\n",
    "- 단어를 추출하는 방법\n",
    "\n",
    "  (1) 형태소별로 구분하기\n",
    "  \n",
    "    - 빠르지만, 필요없는 단어도 함께 포함됨\n",
    "    \n",
    "  (2) 명사만 추출하기\n",
    "  \n",
    "    - 빠르지만, 용언(동사 및 형용사)이 제외됨\n",
    "    \n",
    "  (3) 단어와 품사를 함께 추출하기\n",
    "  \n",
    "    - 명사와 용언을 함께 추출이 가능하나, 느림"
   ]
  },
  {
   "cell_type": "markdown",
   "metadata": {},
   "source": [
    "- 필요한 모듈 및 프로그램 설치\n",
    "\n",
    "  (1) 한국어 자연어 처리 라이브러리인 KoNLPy는 JAVA VM 환경에서 작동되므로 반드시 JDK를 설치해야 함 \n",
    "\n",
    "      https://www.oracle.com/java/technologies/javase-jdk15-downloads.html\n",
    "\n",
    "  (2) OS별로 KoNLPy 사이트를 참조하여 KoNLPy 설치\n",
    "\n",
    "      https://konlpy-ko.readthedocs.io/ko/v0.4.3/install/"
   ]
  },
  {
   "cell_type": "code",
   "execution_count": 12,
   "metadata": {
    "scrolled": true
   },
   "outputs": [
    {
     "name": "stdout",
     "output_type": "stream",
     "text": [
      "Collecting konlpy\n",
      "  Downloading konlpy-0.6.0-py2.py3-none-any.whl (19.4 MB)\n",
      "     ---------------------------------------- 0.0/19.4 MB ? eta -:--:--\n",
      "     - -------------------------------------- 0.6/19.4 MB 17.3 MB/s eta 0:00:02\n",
      "     ---- ----------------------------------- 2.2/19.4 MB 34.3 MB/s eta 0:00:01\n",
      "     --------- ------------------------------ 4.7/19.4 MB 42.7 MB/s eta 0:00:01\n",
      "     ------------- -------------------------- 6.7/19.4 MB 42.9 MB/s eta 0:00:01\n",
      "     --------------- ------------------------ 7.7/19.4 MB 44.7 MB/s eta 0:00:01\n",
      "     ----------------- ---------------------- 8.7/19.4 MB 36.8 MB/s eta 0:00:01\n",
      "     ------------------- -------------------- 9.5/19.4 MB 35.8 MB/s eta 0:00:01\n",
      "     ----------------------- --------------- 11.6/19.4 MB 40.9 MB/s eta 0:00:01\n",
      "     --------------------------- ----------- 13.6/19.4 MB 38.5 MB/s eta 0:00:01\n",
      "     -------------------------------- ------ 16.0/19.4 MB 38.5 MB/s eta 0:00:01\n",
      "     ------------------------------------ -- 18.4/19.4 MB 46.7 MB/s eta 0:00:01\n",
      "     --------------------------------------  19.4/19.4 MB 46.7 MB/s eta 0:00:01\n",
      "     --------------------------------------- 19.4/19.4 MB 38.4 MB/s eta 0:00:00\n",
      "Collecting JPype1>=0.7.0 (from konlpy)\n",
      "  Downloading JPype1-1.4.1-cp311-cp311-win_amd64.whl (345 kB)\n",
      "     ---------------------------------------- 0.0/345.1 kB ? eta -:--:--\n",
      "     ------------------------------------- 345.1/345.1 kB 22.3 MB/s eta 0:00:00\n",
      "Requirement already satisfied: lxml>=4.1.0 in c:\\users\\jaeyeon\\anaconda3\\lib\\site-packages (from konlpy) (4.9.2)\n",
      "Requirement already satisfied: numpy>=1.6 in c:\\users\\jaeyeon\\anaconda3\\lib\\site-packages (from konlpy) (1.24.3)\n",
      "Requirement already satisfied: packaging in c:\\users\\jaeyeon\\anaconda3\\lib\\site-packages (from JPype1>=0.7.0->konlpy) (23.0)\n",
      "Installing collected packages: JPype1, konlpy\n",
      "Successfully installed JPype1-1.4.1 konlpy-0.6.0\n"
     ]
    }
   ],
   "source": [
    "!pip3 install konlpy"
   ]
  },
  {
   "cell_type": "markdown",
   "metadata": {},
   "source": [
    "- KoNLPy 설치 후, 모듈이 작동하는 파이썬 환경 확인"
   ]
  },
  {
   "cell_type": "code",
   "execution_count": 13,
   "metadata": {},
   "outputs": [
    {
     "data": {
      "text/plain": [
       "'C:\\\\Users\\\\jaeyeon\\\\anaconda3\\\\python.exe'"
      ]
     },
     "execution_count": 13,
     "metadata": {},
     "output_type": "execute_result"
    }
   ],
   "source": [
    "import sys\n",
    "sys.executable"
   ]
  },
  {
   "cell_type": "code",
   "execution_count": 14,
   "metadata": {
    "ExecuteTime": {
     "end_time": "2021-02-03T16:05:53.421545Z",
     "start_time": "2021-02-03T16:05:52.915923Z"
    },
    "scrolled": false
   },
   "outputs": [],
   "source": [
    "from konlpy.tag import Okt"
   ]
  },
  {
   "cell_type": "markdown",
   "metadata": {},
   "source": [
    "- 위의 코드를 실행 시, 컴퓨터나 OS에 따라 다음과 같은 **오류**가 발생할 수 있음\n",
    "\n",
    "  (1) `No Module named 'jpype'`, 즉 파이썬이 JAVA 라이브러리 접근 시 필요한 `JPype`가 존재하지 않는다는 오류 \n",
    "\n",
    "      - Windows의 경우 아래의 KoNLPy 공식 사이트의 설명대로 JPype설치\n",
    "      \n",
    "      https://konlpy-ko.readthedocs.io/ko/v0.4.3/install/\n",
    "\n",
    "  (2) `No module named 'konlpy'`, 즉 `konlpy`모듈을 아무 문제없이 설치했음에도 불구하고 존재하지 않는다는 오류\n",
    "  \n",
    "      - OS에 여러 개의 파이썬이 설치되어 있는데, 주피터 노트북에서 KoNLPy가 설치된 파이썬을 인식하지 못하므로 등록과정 필요 \n",
    "      - 아래 3줄의 코드에서 #을 제거 후, 한 줄씩 코드 실행 \n",
    "      - 주피터 노트북 및 콘솔창을 모두 종료 후, 다시 실행"
   ]
  },
  {
   "cell_type": "code",
   "execution_count": 15,
   "metadata": {},
   "outputs": [],
   "source": [
    "# !pip install ipython # 주피터 노트북의 파이썬 커널 설치"
   ]
  },
  {
   "cell_type": "code",
   "execution_count": 16,
   "metadata": {},
   "outputs": [],
   "source": [
    "# !python -m pip install ipykernel # 가상 환경에서 주피터 노트북 설치"
   ]
  },
  {
   "cell_type": "code",
   "execution_count": 17,
   "metadata": {},
   "outputs": [],
   "source": [
    "# !python -m ipykernel install --user # 주피터 노트북에 파이썬 커널 등록"
   ]
  },
  {
   "cell_type": "code",
   "execution_count": 18,
   "metadata": {
    "ExecuteTime": {
     "end_time": "2021-02-03T16:05:59.377912Z",
     "start_time": "2021-02-03T16:05:53.424548Z"
    },
    "scrolled": true
   },
   "outputs": [
    {
     "ename": "JVMNotFoundException",
     "evalue": "No JVM shared library file (jvm.dll) found. Try setting up the JAVA_HOME environment variable properly.",
     "output_type": "error",
     "traceback": [
      "\u001b[1;31m---------------------------------------------------------------------------\u001b[0m",
      "\u001b[1;31mJVMNotFoundException\u001b[0m                      Traceback (most recent call last)",
      "Cell \u001b[1;32mIn[18], line 1\u001b[0m\n\u001b[1;32m----> 1\u001b[0m Okt()\u001b[38;5;241m.\u001b[39mmorphs(\u001b[38;5;124m'\u001b[39m\u001b[38;5;124m경력을 많이 쌓으려면 역경을 이겨내야 한다.\u001b[39m\u001b[38;5;124m'\u001b[39m)\n",
      "File \u001b[1;32m~\\anaconda3\\Lib\\site-packages\\konlpy\\tag\\_okt.py:51\u001b[0m, in \u001b[0;36mOkt.__init__\u001b[1;34m(self, jvmpath, max_heap_size)\u001b[0m\n\u001b[0;32m     49\u001b[0m \u001b[38;5;28;01mdef\u001b[39;00m \u001b[38;5;21m__init__\u001b[39m(\u001b[38;5;28mself\u001b[39m, jvmpath\u001b[38;5;241m=\u001b[39m\u001b[38;5;28;01mNone\u001b[39;00m, max_heap_size\u001b[38;5;241m=\u001b[39m\u001b[38;5;241m1024\u001b[39m):\n\u001b[0;32m     50\u001b[0m     \u001b[38;5;28;01mif\u001b[39;00m \u001b[38;5;129;01mnot\u001b[39;00m jpype\u001b[38;5;241m.\u001b[39misJVMStarted():\n\u001b[1;32m---> 51\u001b[0m         jvm\u001b[38;5;241m.\u001b[39minit_jvm(jvmpath, max_heap_size)\n\u001b[0;32m     53\u001b[0m     oktJavaPackage \u001b[38;5;241m=\u001b[39m jpype\u001b[38;5;241m.\u001b[39mJPackage(\u001b[38;5;124m'\u001b[39m\u001b[38;5;124mkr.lucypark.okt\u001b[39m\u001b[38;5;124m'\u001b[39m)\n\u001b[0;32m     54\u001b[0m     OktInterfaceJavaClass \u001b[38;5;241m=\u001b[39m oktJavaPackage\u001b[38;5;241m.\u001b[39mOktInterface\n",
      "File \u001b[1;32m~\\anaconda3\\Lib\\site-packages\\konlpy\\jvm.py:55\u001b[0m, in \u001b[0;36minit_jvm\u001b[1;34m(jvmpath, max_heap_size)\u001b[0m\n\u001b[0;32m     52\u001b[0m args \u001b[38;5;241m=\u001b[39m [javadir, os\u001b[38;5;241m.\u001b[39msep]\n\u001b[0;32m     53\u001b[0m classpath \u001b[38;5;241m=\u001b[39m [f\u001b[38;5;241m.\u001b[39mformat(\u001b[38;5;241m*\u001b[39margs) \u001b[38;5;28;01mfor\u001b[39;00m f \u001b[38;5;129;01min\u001b[39;00m folder_suffix]\n\u001b[1;32m---> 55\u001b[0m jvmpath \u001b[38;5;241m=\u001b[39m jvmpath \u001b[38;5;129;01mor\u001b[39;00m jpype\u001b[38;5;241m.\u001b[39mgetDefaultJVMPath()\n\u001b[0;32m     57\u001b[0m \u001b[38;5;66;03m# NOTE: Temporary patch for Issue #76. Erase when possible.\u001b[39;00m\n\u001b[0;32m     58\u001b[0m \u001b[38;5;28;01mif\u001b[39;00m sys\u001b[38;5;241m.\u001b[39mplatform \u001b[38;5;241m==\u001b[39m \u001b[38;5;124m'\u001b[39m\u001b[38;5;124mdarwin\u001b[39m\u001b[38;5;124m'\u001b[39m\\\n\u001b[0;32m     59\u001b[0m         \u001b[38;5;129;01mand\u001b[39;00m jvmpath\u001b[38;5;241m.\u001b[39mfind(\u001b[38;5;124m'\u001b[39m\u001b[38;5;124m1.8.0\u001b[39m\u001b[38;5;124m'\u001b[39m) \u001b[38;5;241m>\u001b[39m \u001b[38;5;241m0\u001b[39m\\\n\u001b[0;32m     60\u001b[0m         \u001b[38;5;129;01mand\u001b[39;00m jvmpath\u001b[38;5;241m.\u001b[39mendswith(\u001b[38;5;124m'\u001b[39m\u001b[38;5;124mlibjvm.dylib\u001b[39m\u001b[38;5;124m'\u001b[39m):\n",
      "File \u001b[1;32m~\\anaconda3\\Lib\\site-packages\\jpype\\_jvmfinder.py:74\u001b[0m, in \u001b[0;36mgetDefaultJVMPath\u001b[1;34m()\u001b[0m\n\u001b[0;32m     72\u001b[0m \u001b[38;5;28;01melse\u001b[39;00m:\n\u001b[0;32m     73\u001b[0m     finder \u001b[38;5;241m=\u001b[39m LinuxJVMFinder()\n\u001b[1;32m---> 74\u001b[0m \u001b[38;5;28;01mreturn\u001b[39;00m finder\u001b[38;5;241m.\u001b[39mget_jvm_path()\n",
      "File \u001b[1;32m~\\anaconda3\\Lib\\site-packages\\jpype\\_jvmfinder.py:212\u001b[0m, in \u001b[0;36mJVMFinder.get_jvm_path\u001b[1;34m(self)\u001b[0m\n\u001b[0;32m    210\u001b[0m \u001b[38;5;28;01mif\u001b[39;00m jvm_notsupport_ext \u001b[38;5;129;01mis\u001b[39;00m \u001b[38;5;129;01mnot\u001b[39;00m \u001b[38;5;28;01mNone\u001b[39;00m:\n\u001b[0;32m    211\u001b[0m     \u001b[38;5;28;01mraise\u001b[39;00m jvm_notsupport_ext\n\u001b[1;32m--> 212\u001b[0m \u001b[38;5;28;01mraise\u001b[39;00m JVMNotFoundException(\u001b[38;5;124m\"\u001b[39m\u001b[38;5;124mNo JVM shared library file (\u001b[39m\u001b[38;5;132;01m{0}\u001b[39;00m\u001b[38;5;124m) \u001b[39m\u001b[38;5;124m\"\u001b[39m\n\u001b[0;32m    213\u001b[0m                            \u001b[38;5;124m\"\u001b[39m\u001b[38;5;124mfound. Try setting up the JAVA_HOME \u001b[39m\u001b[38;5;124m\"\u001b[39m\n\u001b[0;32m    214\u001b[0m                            \u001b[38;5;124m\"\u001b[39m\u001b[38;5;124menvironment variable properly.\u001b[39m\u001b[38;5;124m\"\u001b[39m\n\u001b[0;32m    215\u001b[0m                            \u001b[38;5;241m.\u001b[39mformat(\u001b[38;5;28mself\u001b[39m\u001b[38;5;241m.\u001b[39m_libfile))\n",
      "\u001b[1;31mJVMNotFoundException\u001b[0m: No JVM shared library file (jvm.dll) found. Try setting up the JAVA_HOME environment variable properly."
     ]
    }
   ],
   "source": [
    "Okt().morphs('경력을 많이 쌓으려면 역경을 이겨내야 한다.') # 형태소 단위로 구분하기"
   ]
  },
  {
   "cell_type": "code",
   "execution_count": null,
   "metadata": {
    "ExecuteTime": {
     "end_time": "2021-02-03T16:05:59.423921Z",
     "start_time": "2021-02-03T16:05:59.380914Z"
    }
   },
   "outputs": [],
   "source": [
    "Okt().nouns('경력을 많이 쌓으려면 역경을 이겨내야 한다.') # 명사만 추출하기"
   ]
  },
  {
   "cell_type": "code",
   "execution_count": null,
   "metadata": {
    "ExecuteTime": {
     "end_time": "2021-02-03T16:05:59.454941Z",
     "start_time": "2021-02-03T16:05:59.425923Z"
    }
   },
   "outputs": [],
   "source": [
    "Okt().pos('경력을 많이 쌓으려면 역경을 이겨내야 한다.') # 단어와 품사를 함께 추출하기"
   ]
  },
  {
   "cell_type": "markdown",
   "metadata": {},
   "source": [
    "- 문서에서 명사를 추출한 뒤, 토큰화 하고, 2글자 이상인 토큰만 추출"
   ]
  },
  {
   "cell_type": "code",
   "execution_count": 19,
   "metadata": {},
   "outputs": [
    {
     "data": {
      "text/plain": [
       "0    주문을 시켰는데 배송이 왔네요 ㅎㅎㅎ 회사측과는 전화도 안되고 아무런 연락을 받을수...\n",
       "1    택배가 엉망이네용 저희집 밑에층에 말도없이 놔두고가고 선물용으로 받아서 전달했어야 ...\n",
       "2    재구매 좋은데 하나가 이상하네요 가성비 괜찮습니다 바퀴가 고정된다면 별다섯개짜린데 ...\n",
       "3    배공빠르고 아주좋아요 좋아서 구매했어요 이가격에 대박입니다 바느질이 엉성하긴 하지만...\n",
       "Name: review_filtered, dtype: object"
      ]
     },
     "execution_count": 19,
     "metadata": {},
     "output_type": "execute_result"
    }
   ],
   "source": [
    "docs"
   ]
  },
  {
   "cell_type": "code",
   "execution_count": 20,
   "metadata": {
    "ExecuteTime": {
     "end_time": "2021-02-03T16:06:24.850497Z",
     "start_time": "2021-02-03T16:05:59.456938Z"
    }
   },
   "outputs": [
    {
     "ename": "JVMNotFoundException",
     "evalue": "No JVM shared library file (jvm.dll) found. Try setting up the JAVA_HOME environment variable properly.",
     "output_type": "error",
     "traceback": [
      "\u001b[1;31m---------------------------------------------------------------------------\u001b[0m",
      "\u001b[1;31mJVMNotFoundException\u001b[0m                      Traceback (most recent call last)",
      "Cell \u001b[1;32mIn[20], line 1\u001b[0m\n\u001b[1;32m----> 1\u001b[0m docs[\u001b[38;5;124m'\u001b[39m\u001b[38;5;124mtokens\u001b[39m\u001b[38;5;124m'\u001b[39m] \u001b[38;5;241m=\u001b[39m docs\u001b[38;5;241m.\u001b[39mapply(\u001b[38;5;28;01mlambda\u001b[39;00m x: [w \u001b[38;5;28;01mfor\u001b[39;00m w \u001b[38;5;129;01min\u001b[39;00m Okt()\u001b[38;5;241m.\u001b[39mnouns(x) \u001b[38;5;28;01mif\u001b[39;00m \u001b[38;5;28mlen\u001b[39m(w)\u001b[38;5;241m>\u001b[39m\u001b[38;5;241m=\u001b[39m\u001b[38;5;241m2\u001b[39m]) \n\u001b[0;32m      2\u001b[0m docs[\u001b[38;5;124m'\u001b[39m\u001b[38;5;124mtokens\u001b[39m\u001b[38;5;124m'\u001b[39m]\u001b[38;5;241m.\u001b[39mhead()\n",
      "File \u001b[1;32m~\\anaconda3\\Lib\\site-packages\\pandas\\core\\series.py:4771\u001b[0m, in \u001b[0;36mSeries.apply\u001b[1;34m(self, func, convert_dtype, args, **kwargs)\u001b[0m\n\u001b[0;32m   4661\u001b[0m \u001b[38;5;28;01mdef\u001b[39;00m \u001b[38;5;21mapply\u001b[39m(\n\u001b[0;32m   4662\u001b[0m     \u001b[38;5;28mself\u001b[39m,\n\u001b[0;32m   4663\u001b[0m     func: AggFuncType,\n\u001b[1;32m   (...)\u001b[0m\n\u001b[0;32m   4666\u001b[0m     \u001b[38;5;241m*\u001b[39m\u001b[38;5;241m*\u001b[39mkwargs,\n\u001b[0;32m   4667\u001b[0m ) \u001b[38;5;241m-\u001b[39m\u001b[38;5;241m>\u001b[39m DataFrame \u001b[38;5;241m|\u001b[39m Series:\n\u001b[0;32m   4668\u001b[0m \u001b[38;5;250m    \u001b[39m\u001b[38;5;124;03m\"\"\"\u001b[39;00m\n\u001b[0;32m   4669\u001b[0m \u001b[38;5;124;03m    Invoke function on values of Series.\u001b[39;00m\n\u001b[0;32m   4670\u001b[0m \n\u001b[1;32m   (...)\u001b[0m\n\u001b[0;32m   4769\u001b[0m \u001b[38;5;124;03m    dtype: float64\u001b[39;00m\n\u001b[0;32m   4770\u001b[0m \u001b[38;5;124;03m    \"\"\"\u001b[39;00m\n\u001b[1;32m-> 4771\u001b[0m     \u001b[38;5;28;01mreturn\u001b[39;00m SeriesApply(\u001b[38;5;28mself\u001b[39m, func, convert_dtype, args, kwargs)\u001b[38;5;241m.\u001b[39mapply()\n",
      "File \u001b[1;32m~\\anaconda3\\Lib\\site-packages\\pandas\\core\\apply.py:1123\u001b[0m, in \u001b[0;36mSeriesApply.apply\u001b[1;34m(self)\u001b[0m\n\u001b[0;32m   1120\u001b[0m     \u001b[38;5;28;01mreturn\u001b[39;00m \u001b[38;5;28mself\u001b[39m\u001b[38;5;241m.\u001b[39mapply_str()\n\u001b[0;32m   1122\u001b[0m \u001b[38;5;66;03m# self.f is Callable\u001b[39;00m\n\u001b[1;32m-> 1123\u001b[0m \u001b[38;5;28;01mreturn\u001b[39;00m \u001b[38;5;28mself\u001b[39m\u001b[38;5;241m.\u001b[39mapply_standard()\n",
      "File \u001b[1;32m~\\anaconda3\\Lib\\site-packages\\pandas\\core\\apply.py:1174\u001b[0m, in \u001b[0;36mSeriesApply.apply_standard\u001b[1;34m(self)\u001b[0m\n\u001b[0;32m   1172\u001b[0m     \u001b[38;5;28;01melse\u001b[39;00m:\n\u001b[0;32m   1173\u001b[0m         values \u001b[38;5;241m=\u001b[39m obj\u001b[38;5;241m.\u001b[39mastype(\u001b[38;5;28mobject\u001b[39m)\u001b[38;5;241m.\u001b[39m_values\n\u001b[1;32m-> 1174\u001b[0m         mapped \u001b[38;5;241m=\u001b[39m lib\u001b[38;5;241m.\u001b[39mmap_infer(\n\u001b[0;32m   1175\u001b[0m             values,\n\u001b[0;32m   1176\u001b[0m             f,\n\u001b[0;32m   1177\u001b[0m             convert\u001b[38;5;241m=\u001b[39m\u001b[38;5;28mself\u001b[39m\u001b[38;5;241m.\u001b[39mconvert_dtype,\n\u001b[0;32m   1178\u001b[0m         )\n\u001b[0;32m   1180\u001b[0m \u001b[38;5;28;01mif\u001b[39;00m \u001b[38;5;28mlen\u001b[39m(mapped) \u001b[38;5;129;01mand\u001b[39;00m \u001b[38;5;28misinstance\u001b[39m(mapped[\u001b[38;5;241m0\u001b[39m], ABCSeries):\n\u001b[0;32m   1181\u001b[0m     \u001b[38;5;66;03m# GH#43986 Need to do list(mapped) in order to get treated as nested\u001b[39;00m\n\u001b[0;32m   1182\u001b[0m     \u001b[38;5;66;03m#  See also GH#25959 regarding EA support\u001b[39;00m\n\u001b[0;32m   1183\u001b[0m     \u001b[38;5;28;01mreturn\u001b[39;00m obj\u001b[38;5;241m.\u001b[39m_constructor_expanddim(\u001b[38;5;28mlist\u001b[39m(mapped), index\u001b[38;5;241m=\u001b[39mobj\u001b[38;5;241m.\u001b[39mindex)\n",
      "File \u001b[1;32m~\\anaconda3\\Lib\\site-packages\\pandas\\_libs\\lib.pyx:2924\u001b[0m, in \u001b[0;36mpandas._libs.lib.map_infer\u001b[1;34m()\u001b[0m\n",
      "Cell \u001b[1;32mIn[20], line 1\u001b[0m, in \u001b[0;36m<lambda>\u001b[1;34m(x)\u001b[0m\n\u001b[1;32m----> 1\u001b[0m docs[\u001b[38;5;124m'\u001b[39m\u001b[38;5;124mtokens\u001b[39m\u001b[38;5;124m'\u001b[39m] \u001b[38;5;241m=\u001b[39m docs\u001b[38;5;241m.\u001b[39mapply(\u001b[38;5;28;01mlambda\u001b[39;00m x: [w \u001b[38;5;28;01mfor\u001b[39;00m w \u001b[38;5;129;01min\u001b[39;00m Okt()\u001b[38;5;241m.\u001b[39mnouns(x) \u001b[38;5;28;01mif\u001b[39;00m \u001b[38;5;28mlen\u001b[39m(w)\u001b[38;5;241m>\u001b[39m\u001b[38;5;241m=\u001b[39m\u001b[38;5;241m2\u001b[39m]) \n\u001b[0;32m      2\u001b[0m docs[\u001b[38;5;124m'\u001b[39m\u001b[38;5;124mtokens\u001b[39m\u001b[38;5;124m'\u001b[39m]\u001b[38;5;241m.\u001b[39mhead()\n",
      "File \u001b[1;32m~\\anaconda3\\Lib\\site-packages\\konlpy\\tag\\_okt.py:51\u001b[0m, in \u001b[0;36mOkt.__init__\u001b[1;34m(self, jvmpath, max_heap_size)\u001b[0m\n\u001b[0;32m     49\u001b[0m \u001b[38;5;28;01mdef\u001b[39;00m \u001b[38;5;21m__init__\u001b[39m(\u001b[38;5;28mself\u001b[39m, jvmpath\u001b[38;5;241m=\u001b[39m\u001b[38;5;28;01mNone\u001b[39;00m, max_heap_size\u001b[38;5;241m=\u001b[39m\u001b[38;5;241m1024\u001b[39m):\n\u001b[0;32m     50\u001b[0m     \u001b[38;5;28;01mif\u001b[39;00m \u001b[38;5;129;01mnot\u001b[39;00m jpype\u001b[38;5;241m.\u001b[39misJVMStarted():\n\u001b[1;32m---> 51\u001b[0m         jvm\u001b[38;5;241m.\u001b[39minit_jvm(jvmpath, max_heap_size)\n\u001b[0;32m     53\u001b[0m     oktJavaPackage \u001b[38;5;241m=\u001b[39m jpype\u001b[38;5;241m.\u001b[39mJPackage(\u001b[38;5;124m'\u001b[39m\u001b[38;5;124mkr.lucypark.okt\u001b[39m\u001b[38;5;124m'\u001b[39m)\n\u001b[0;32m     54\u001b[0m     OktInterfaceJavaClass \u001b[38;5;241m=\u001b[39m oktJavaPackage\u001b[38;5;241m.\u001b[39mOktInterface\n",
      "File \u001b[1;32m~\\anaconda3\\Lib\\site-packages\\konlpy\\jvm.py:55\u001b[0m, in \u001b[0;36minit_jvm\u001b[1;34m(jvmpath, max_heap_size)\u001b[0m\n\u001b[0;32m     52\u001b[0m args \u001b[38;5;241m=\u001b[39m [javadir, os\u001b[38;5;241m.\u001b[39msep]\n\u001b[0;32m     53\u001b[0m classpath \u001b[38;5;241m=\u001b[39m [f\u001b[38;5;241m.\u001b[39mformat(\u001b[38;5;241m*\u001b[39margs) \u001b[38;5;28;01mfor\u001b[39;00m f \u001b[38;5;129;01min\u001b[39;00m folder_suffix]\n\u001b[1;32m---> 55\u001b[0m jvmpath \u001b[38;5;241m=\u001b[39m jvmpath \u001b[38;5;129;01mor\u001b[39;00m jpype\u001b[38;5;241m.\u001b[39mgetDefaultJVMPath()\n\u001b[0;32m     57\u001b[0m \u001b[38;5;66;03m# NOTE: Temporary patch for Issue #76. Erase when possible.\u001b[39;00m\n\u001b[0;32m     58\u001b[0m \u001b[38;5;28;01mif\u001b[39;00m sys\u001b[38;5;241m.\u001b[39mplatform \u001b[38;5;241m==\u001b[39m \u001b[38;5;124m'\u001b[39m\u001b[38;5;124mdarwin\u001b[39m\u001b[38;5;124m'\u001b[39m\\\n\u001b[0;32m     59\u001b[0m         \u001b[38;5;129;01mand\u001b[39;00m jvmpath\u001b[38;5;241m.\u001b[39mfind(\u001b[38;5;124m'\u001b[39m\u001b[38;5;124m1.8.0\u001b[39m\u001b[38;5;124m'\u001b[39m) \u001b[38;5;241m>\u001b[39m \u001b[38;5;241m0\u001b[39m\\\n\u001b[0;32m     60\u001b[0m         \u001b[38;5;129;01mand\u001b[39;00m jvmpath\u001b[38;5;241m.\u001b[39mendswith(\u001b[38;5;124m'\u001b[39m\u001b[38;5;124mlibjvm.dylib\u001b[39m\u001b[38;5;124m'\u001b[39m):\n",
      "File \u001b[1;32m~\\anaconda3\\Lib\\site-packages\\jpype\\_jvmfinder.py:74\u001b[0m, in \u001b[0;36mgetDefaultJVMPath\u001b[1;34m()\u001b[0m\n\u001b[0;32m     72\u001b[0m \u001b[38;5;28;01melse\u001b[39;00m:\n\u001b[0;32m     73\u001b[0m     finder \u001b[38;5;241m=\u001b[39m LinuxJVMFinder()\n\u001b[1;32m---> 74\u001b[0m \u001b[38;5;28;01mreturn\u001b[39;00m finder\u001b[38;5;241m.\u001b[39mget_jvm_path()\n",
      "File \u001b[1;32m~\\anaconda3\\Lib\\site-packages\\jpype\\_jvmfinder.py:212\u001b[0m, in \u001b[0;36mJVMFinder.get_jvm_path\u001b[1;34m(self)\u001b[0m\n\u001b[0;32m    210\u001b[0m \u001b[38;5;28;01mif\u001b[39;00m jvm_notsupport_ext \u001b[38;5;129;01mis\u001b[39;00m \u001b[38;5;129;01mnot\u001b[39;00m \u001b[38;5;28;01mNone\u001b[39;00m:\n\u001b[0;32m    211\u001b[0m     \u001b[38;5;28;01mraise\u001b[39;00m jvm_notsupport_ext\n\u001b[1;32m--> 212\u001b[0m \u001b[38;5;28;01mraise\u001b[39;00m JVMNotFoundException(\u001b[38;5;124m\"\u001b[39m\u001b[38;5;124mNo JVM shared library file (\u001b[39m\u001b[38;5;132;01m{0}\u001b[39;00m\u001b[38;5;124m) \u001b[39m\u001b[38;5;124m\"\u001b[39m\n\u001b[0;32m    213\u001b[0m                            \u001b[38;5;124m\"\u001b[39m\u001b[38;5;124mfound. Try setting up the JAVA_HOME \u001b[39m\u001b[38;5;124m\"\u001b[39m\n\u001b[0;32m    214\u001b[0m                            \u001b[38;5;124m\"\u001b[39m\u001b[38;5;124menvironment variable properly.\u001b[39m\u001b[38;5;124m\"\u001b[39m\n\u001b[0;32m    215\u001b[0m                            \u001b[38;5;241m.\u001b[39mformat(\u001b[38;5;28mself\u001b[39m\u001b[38;5;241m.\u001b[39m_libfile))\n",
      "\u001b[1;31mJVMNotFoundException\u001b[0m: No JVM shared library file (jvm.dll) found. Try setting up the JAVA_HOME environment variable properly."
     ]
    }
   ],
   "source": [
    "docs['tokens'] = docs.apply(lambda x: [w for w in Okt().nouns(x) if len(w)>=2]) \n",
    "docs['tokens'].head()"
   ]
  },
  {
   "cell_type": "code",
   "execution_count": null,
   "metadata": {
    "ExecuteTime": {
     "end_time": "2021-02-03T16:06:29.202321Z",
     "start_time": "2021-02-03T16:06:29.189319Z"
    }
   },
   "outputs": [],
   "source": [
    "doc1 = docs['tokens'][0]\n",
    "doc2 = docs['tokens'][1]\n",
    "doc3 = docs['tokens'][2]\n",
    "doc4 = docs['tokens'][3]\n",
    "doc_list = [doc1,doc2,doc3,doc4]"
   ]
  },
  {
   "cell_type": "markdown",
   "metadata": {},
   "source": [
    "#### 6.3 토픽 추출\n",
    "\n",
    "- 필요한 모듈을 설치"
   ]
  },
  {
   "cell_type": "code",
   "execution_count": 21,
   "metadata": {},
   "outputs": [
    {
     "name": "stdout",
     "output_type": "stream",
     "text": [
      "Requirement already satisfied: gensim in c:\\users\\jaeyeon\\anaconda3\\lib\\site-packages (4.3.0)\n",
      "Requirement already satisfied: numpy>=1.18.5 in c:\\users\\jaeyeon\\anaconda3\\lib\\site-packages (from gensim) (1.24.3)\n",
      "Requirement already satisfied: scipy>=1.7.0 in c:\\users\\jaeyeon\\anaconda3\\lib\\site-packages (from gensim) (1.10.1)\n",
      "Requirement already satisfied: smart-open>=1.8.1 in c:\\users\\jaeyeon\\anaconda3\\lib\\site-packages (from gensim) (5.2.1)\n",
      "Collecting FuzzyTM>=0.4.0 (from gensim)\n",
      "  Downloading FuzzyTM-2.0.5-py3-none-any.whl (29 kB)\n",
      "Requirement already satisfied: pandas in c:\\users\\jaeyeon\\anaconda3\\lib\\site-packages (from FuzzyTM>=0.4.0->gensim) (1.5.3)\n",
      "Collecting pyfume (from FuzzyTM>=0.4.0->gensim)\n",
      "  Downloading pyFUME-0.2.25-py3-none-any.whl (67 kB)\n",
      "     ---------------------------------------- 0.0/67.1 kB ? eta -:--:--\n",
      "     ---------------------------------------- 67.1/67.1 kB 3.6 MB/s eta 0:00:00\n",
      "Requirement already satisfied: python-dateutil>=2.8.1 in c:\\users\\jaeyeon\\anaconda3\\lib\\site-packages (from pandas->FuzzyTM>=0.4.0->gensim) (2.8.2)\n",
      "Requirement already satisfied: pytz>=2020.1 in c:\\users\\jaeyeon\\anaconda3\\lib\\site-packages (from pandas->FuzzyTM>=0.4.0->gensim) (2022.7)\n",
      "Collecting simpful (from pyfume->FuzzyTM>=0.4.0->gensim)\n",
      "  Downloading simpful-2.11.0-py3-none-any.whl (32 kB)\n",
      "Collecting fst-pso (from pyfume->FuzzyTM>=0.4.0->gensim)\n",
      "  Downloading fst-pso-1.8.1.tar.gz (18 kB)\n",
      "  Preparing metadata (setup.py): started\n",
      "  Preparing metadata (setup.py): finished with status 'done'\n",
      "Requirement already satisfied: six>=1.5 in c:\\users\\jaeyeon\\anaconda3\\lib\\site-packages (from python-dateutil>=2.8.1->pandas->FuzzyTM>=0.4.0->gensim) (1.16.0)\n",
      "Collecting miniful (from fst-pso->pyfume->FuzzyTM>=0.4.0->gensim)\n",
      "  Downloading miniful-0.0.6.tar.gz (2.8 kB)\n",
      "  Preparing metadata (setup.py): started\n",
      "  Preparing metadata (setup.py): finished with status 'done'\n",
      "Building wheels for collected packages: fst-pso, miniful\n",
      "  Building wheel for fst-pso (setup.py): started\n",
      "  Building wheel for fst-pso (setup.py): finished with status 'done'\n",
      "  Created wheel for fst-pso: filename=fst_pso-1.8.1-py3-none-any.whl size=20448 sha256=941da88b20ad05ebd17807dace27c66234a5e3416b60f69e777bd49b25e50463\n",
      "  Stored in directory: c:\\users\\jaeyeon\\appdata\\local\\pip\\cache\\wheels\\69\\f5\\e5\\18ad53fe1ed6b2af9fad05ec052e4acbac8e92441df44bad2e\n",
      "  Building wheel for miniful (setup.py): started\n",
      "  Building wheel for miniful (setup.py): finished with status 'done'\n",
      "  Created wheel for miniful: filename=miniful-0.0.6-py3-none-any.whl size=3522 sha256=c6e7e3037f5fc2eb088c672a5dd358032eaa14dc18cb8136c324123ad40286a4\n",
      "  Stored in directory: c:\\users\\jaeyeon\\appdata\\local\\pip\\cache\\wheels\\9d\\ff\\2f\\afe4cd56f47de147407705626517d68bea0f3b74eb1fb168e6\n",
      "Successfully built fst-pso miniful\n",
      "Installing collected packages: simpful, miniful, fst-pso, pyfume, FuzzyTM\n",
      "Successfully installed FuzzyTM-2.0.5 fst-pso-1.8.1 miniful-0.0.6 pyfume-0.2.25 simpful-2.11.0\n"
     ]
    }
   ],
   "source": [
    "!pip install gensim"
   ]
  },
  {
   "cell_type": "code",
   "execution_count": 22,
   "metadata": {
    "ExecuteTime": {
     "end_time": "2021-02-03T16:06:29.187314Z",
     "start_time": "2021-02-03T16:06:24.898514Z"
    }
   },
   "outputs": [],
   "source": [
    "import gensim\n",
    "from gensim import corpora\n",
    "from gensim.models.ldamodel import LdaModel\n",
    "from gensim.models.coherencemodel import CoherenceModel"
   ]
  },
  {
   "cell_type": "markdown",
   "metadata": {},
   "source": [
    "- 문서에서 각 단어의 빈도수를 보여주는 단어-문서 행렬을 구하기\n",
    "- 각 단어를 정수로 인코딩하고, 해당 단어의 빈도수를 구해 `corpus`에 저장\n",
    "- `LdaModel`에서는 `corpus`를 입력값으로 받음"
   ]
  },
  {
   "cell_type": "code",
   "execution_count": 23,
   "metadata": {
    "ExecuteTime": {
     "end_time": "2021-02-03T16:06:29.249330Z",
     "start_time": "2021-02-03T16:06:29.236328Z"
    }
   },
   "outputs": [],
   "source": [
    "def LDA(doc_list,num_topics,num_words=5):\n",
    "    dictionary = corpora.Dictionary(doc_list) # 단어를 단어id로 인코딩 (딕셔너리 자료형)\n",
    "    corpus = [dictionary.doc2bow(text) for text in doc_list] # 단어id에 대한 빈도수 계산\n",
    "    lda = LdaModel(corpus, num_topics = num_topics, id2word=dictionary, random_state=1) # LDA \n",
    "    topics = lda.print_topics(num_words=num_words) # 토픽 분포 출력\n",
    "    return lda,topics,corpus,dictionary"
   ]
  },
  {
   "cell_type": "markdown",
   "metadata": {},
   "source": [
    "#### (1) 토픽의 개수를 미리 지정하기  \n",
    "\n",
    "- 토픽의 개수(`num_topics`)를 미리 지정하고, 각 토픽별 주요 단어의 개수(`num_words`) 지정"
   ]
  },
  {
   "cell_type": "code",
   "execution_count": 24,
   "metadata": {
    "ExecuteTime": {
     "end_time": "2021-02-03T16:06:29.665238Z",
     "start_time": "2021-02-03T16:06:29.250332Z"
    }
   },
   "outputs": [
    {
     "ename": "NameError",
     "evalue": "name 'doc_list' is not defined",
     "output_type": "error",
     "traceback": [
      "\u001b[1;31m---------------------------------------------------------------------------\u001b[0m",
      "\u001b[1;31mNameError\u001b[0m                                 Traceback (most recent call last)",
      "Cell \u001b[1;32mIn[24], line 1\u001b[0m\n\u001b[1;32m----> 1\u001b[0m lda,topics,corpus,dictionary \u001b[38;5;241m=\u001b[39m LDA(doc_list,num_topics\u001b[38;5;241m=\u001b[39m\u001b[38;5;241m3\u001b[39m,num_words\u001b[38;5;241m=\u001b[39m\u001b[38;5;241m5\u001b[39m)\n",
      "\u001b[1;31mNameError\u001b[0m: name 'doc_list' is not defined"
     ]
    }
   ],
   "source": [
    "lda,topics,corpus,dictionary = LDA(doc_list,num_topics=3,num_words=5)"
   ]
  },
  {
   "cell_type": "markdown",
   "metadata": {},
   "source": [
    "#### (2) 토픽의 개수를 최적화하기\n",
    "\n",
    "- 혼잡도(perplexity)를 최소화\n",
    "    - 훈련용 데이터에서 얻은 토픽 모형을 테스트용 데이터에 적용하였을 때 예측을 하지 못하는 정도를 수치화\n",
    "- 토픽 일관성(topic coherence)를 최대화\n",
    "    - 의미론적으로 유사한 단어들이 모인 정도를 위키피디아, 구글 검색 등의 외부자료에 기반하여 수치화\n",
    "    - $\\log \\frac{p\\left(w_{i}, w_{j}\\right)}{p\\left(w_{i}\\right) p\\left(w_{j}\\right)}$으로 단어들이 토픽 내에서 동시에 발생하는 경우 0보다 큰 값을 가지고, 독립인 경우 0의 값을 가지고, 대조적으로 발생하는 경우 0보다 작은 값을 가짐 \n",
    "    - `coherence='c_v'` 옵션을 사용"
   ]
  },
  {
   "cell_type": "code",
   "execution_count": null,
   "metadata": {
    "ExecuteTime": {
     "end_time": "2021-02-03T16:10:53.854969Z",
     "start_time": "2021-02-03T16:06:49.262109Z"
    }
   },
   "outputs": [],
   "source": [
    "num_topics = np.arange(3,10)\n",
    "num_words = 5\n",
    "coherence_per_topic = []\n",
    "\n",
    "for i in num_topics:\n",
    "    lda,topics,corpus,dictionary = LDA(doc_list,num_topics=i,num_words=num_words)\n",
    "    cm = CoherenceModel(model=lda, texts=doc_list, corpus=corpus, coherence='c_v') \n",
    "    coherence = cm.get_coherence()\n",
    "    coherence_per_topic.append(coherence)"
   ]
  },
  {
   "cell_type": "code",
   "execution_count": null,
   "metadata": {},
   "outputs": [],
   "source": [
    "plt.plot(num_topics,coherence_per_topic)\n",
    "plt.show()"
   ]
  },
  {
   "cell_type": "markdown",
   "metadata": {},
   "source": [
    "- 토픽 일관성이 토픽의 개수가 8일때 가장 크나, 차이는 크지 않고 해석의 편의성을 위해 3개의 토픽을 사용"
   ]
  },
  {
   "cell_type": "code",
   "execution_count": null,
   "metadata": {
    "ExecuteTime": {
     "end_time": "2021-02-03T16:10:54.447652Z",
     "start_time": "2021-02-03T16:10:54.309588Z"
    }
   },
   "outputs": [],
   "source": [
    "lda,topics,corpus,dictionary = LDA(doc_list,num_topics=3,num_words=5)"
   ]
  },
  {
   "cell_type": "markdown",
   "metadata": {},
   "source": [
    "#### 6.4 토픽 시각화 및 해석\n",
    "\n",
    "- 필요한 라이브러리를 설치"
   ]
  },
  {
   "cell_type": "code",
   "execution_count": null,
   "metadata": {
    "ExecuteTime": {
     "end_time": "2021-02-03T16:11:04.675501Z",
     "start_time": "2021-02-03T16:11:04.661571Z"
    }
   },
   "outputs": [],
   "source": [
    "import warnings\n",
    "warnings.filterwarnings(action='ignore')\n",
    "\n",
    "def topic_per_doc(model,corpus,topics,doc_idx):\n",
    "    warnings.filterwarnings(action='ignore')\n",
    "    print(\"==== 문서{}의 토픽 분포 \".format(doc_idx+1) + \"=\"*69)\n",
    "    for x in model[corpus[doc_idx]]:\n",
    "        print('| 토픽{}의 비율: {:.3f} | {}'.format(x[0]+1,x[1],topics[x[0]][1])) # 소수점 3째짜리까지 표시\n",
    "    print(\"=\"*88)"
   ]
  },
  {
   "cell_type": "code",
   "execution_count": null,
   "metadata": {
    "ExecuteTime": {
     "end_time": "2021-02-03T16:11:04.890760Z",
     "start_time": "2021-02-03T16:11:04.876744Z"
    }
   },
   "outputs": [],
   "source": [
    "topic_per_doc(lda,corpus,topics,0) # 평점이 1인 후기\n",
    "topic_per_doc(lda,corpus,topics,1) # 평점이 2인 후기\n",
    "topic_per_doc(lda,corpus,topics,2) # 평점이 4인 후기\n",
    "topic_per_doc(lda,corpus,topics,3) # 평점이 5인 후기"
   ]
  },
  {
   "cell_type": "markdown",
   "metadata": {},
   "source": [
    "- 평점이 높아질수록 **토픽1**의 비율은 높아지고, **토픽2,3**의 비율은 낮아짐\n",
    "- 각 토픽이 의미하는 것을 해석하기 위해 시각화 방법을 이용"
   ]
  },
  {
   "cell_type": "markdown",
   "metadata": {},
   "source": [
    "- 토픽 시각화를 위해 필요한 라이브러리 설치"
   ]
  },
  {
   "cell_type": "code",
   "execution_count": null,
   "metadata": {
    "ExecuteTime": {
     "end_time": "2021-02-03T16:10:54.650005Z",
     "start_time": "2021-02-03T16:10:54.636018Z"
    },
    "scrolled": true
   },
   "outputs": [],
   "source": [
    "!pip install pyLDAvis"
   ]
  },
  {
   "cell_type": "code",
   "execution_count": null,
   "metadata": {
    "ExecuteTime": {
     "end_time": "2021-02-03T16:11:04.462103Z",
     "start_time": "2021-02-03T16:10:54.841388Z"
    },
    "scrolled": false
   },
   "outputs": [],
   "source": [
    "import pyLDAvis.gensim\n",
    "\n",
    "import warnings\n",
    "warnings.filterwarnings(action='ignore')\n",
    "\n",
    "pyLDAvis.enable_notebook()\n",
    "vis = pyLDAvis.gensim.prepare(lda, corpus, dictionary,sort_topics=False)\n",
    "pyLDAvis.display(vis)"
   ]
  },
  {
   "cell_type": "markdown",
   "metadata": {},
   "source": [
    "- **토픽1**: 평점이 높을수록 비율이 높아지는 토픽으로, \"**매일**\", \"**애용**\", \"**마음**\", \"배송\", \"선물\" $\\Rightarrow$ **단골제품**\n",
    "- **토픽2**: 평점이 낮을수록 비율이 높아지는 토픽으로, \"**제품**\", \"**시간**\", \"**최악**\", \"가격\", \"반품\" $\\Rightarrow$ **제품의 구매과정**\n",
    "- **토픽3**: 평점이 낮을수록 비율이 높아지는 토픽으로, \"생각\", \"**색상**\", \"**크기**\", \"**포장**\", \"**사이즈**\", \"실망\" $\\Rightarrow$ **제품의 품질**"
   ]
  }
 ],
 "metadata": {
  "anaconda-cloud": {},
  "kernelspec": {
   "display_name": "Python 3 (ipykernel)",
   "language": "python",
   "name": "python3"
  },
  "language_info": {
   "codemirror_mode": {
    "name": "ipython",
    "version": 3
   },
   "file_extension": ".py",
   "mimetype": "text/x-python",
   "name": "python",
   "nbconvert_exporter": "python",
   "pygments_lexer": "ipython3",
   "version": "3.11.4"
  }
 },
 "nbformat": 4,
 "nbformat_minor": 1
}
