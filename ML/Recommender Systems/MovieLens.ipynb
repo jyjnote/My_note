{
 "cells": [
  {
   "cell_type": "code",
   "execution_count": 1,
   "metadata": {},
   "outputs": [
    {
     "name": "stdout",
     "output_type": "stream",
     "text": [
      "         age sex  occupation zip_code\n",
      "user_id                              \n",
      "1         24   M  technician    85711\n",
      "2         53   F       other    94043\n",
      "3         23   M      writer    32067\n",
      "4         24   M  technician    43537\n",
      "5         33   F       other    15213\n",
      "(943, 4)\n"
     ]
    }
   ],
   "source": [
    "# Created on Jan 2021\n",
    "# @author: 임일\n",
    "\n",
    "# Load the u.user file into a dataframe\n",
    "import pandas as pd\n",
    "u_cols = ['user_id', 'age', 'sex', 'occupation', 'zip_code']\n",
    "users = pd.read_csv('u.user', sep='|', names=u_cols, encoding='latin-1')\n",
    "users = users.set_index('user_id')\n",
    "print(users.head())\n",
    "print(users.shape)"
   ]
  },
  {
   "cell_type": "code",
   "execution_count": 2,
   "metadata": {},
   "outputs": [
    {
     "name": "stdout",
     "output_type": "stream",
     "text": [
      "                      title release date  video release date  \\\n",
      "movie_id                                                       \n",
      "1          Toy Story (1995)  01-Jan-1995                 NaN   \n",
      "2          GoldenEye (1995)  01-Jan-1995                 NaN   \n",
      "3         Four Rooms (1995)  01-Jan-1995                 NaN   \n",
      "4         Get Shorty (1995)  01-Jan-1995                 NaN   \n",
      "5            Copycat (1995)  01-Jan-1995                 NaN   \n",
      "\n",
      "                                                   IMDB URL  unknown  Action  \\\n",
      "movie_id                                                                       \n",
      "1         http://us.imdb.com/M/title-exact?Toy%20Story%2...        0       0   \n",
      "2         http://us.imdb.com/M/title-exact?GoldenEye%20(...        0       1   \n",
      "3         http://us.imdb.com/M/title-exact?Four%20Rooms%...        0       0   \n",
      "4         http://us.imdb.com/M/title-exact?Get%20Shorty%...        0       1   \n",
      "5         http://us.imdb.com/M/title-exact?Copycat%20(1995)        0       0   \n",
      "\n",
      "          Adventure  Animation  Children's  Comedy  ...  Fantasy  Film-Noir  \\\n",
      "movie_id                                            ...                       \n",
      "1                 0          1           1       1  ...        0          0   \n",
      "2                 1          0           0       0  ...        0          0   \n",
      "3                 0          0           0       0  ...        0          0   \n",
      "4                 0          0           0       1  ...        0          0   \n",
      "5                 0          0           0       0  ...        0          0   \n",
      "\n",
      "          Horror  Musical  Mystery  Romance  Sci-Fi  Thriller  War  Western  \n",
      "movie_id                                                                     \n",
      "1              0        0        0        0       0         0    0        0  \n",
      "2              0        0        0        0       0         1    0        0  \n",
      "3              0        0        0        0       0         1    0        0  \n",
      "4              0        0        0        0       0         0    0        0  \n",
      "5              0        0        0        0       0         1    0        0  \n",
      "\n",
      "[5 rows x 23 columns]\n",
      "(1682, 23)\n"
     ]
    }
   ],
   "source": [
    "# Load the u.item file into a dataframe\n",
    "i_cols = ['movie_id', 'title', 'release date', 'video release date', 'IMDB URL', \n",
    "          'unknown', 'Action', 'Adventure', 'Animation', 'Children\\'s', 'Comedy', \n",
    "          'Crime', 'Documentary', 'Drama', 'Fantasy', 'Film-Noir', 'Horror', \n",
    "          'Musical', 'Mystery', 'Romance', 'Sci-Fi', 'Thriller', 'War', 'Western']\n",
    "movies = pd.read_csv('u.item', sep='|', names=i_cols, encoding='latin-1')\n",
    "movies = movies.set_index('movie_id')\n",
    "print(movies.head())\n",
    "print(movies.shape)"
   ]
  },
  {
   "cell_type": "code",
   "execution_count": 3,
   "metadata": {},
   "outputs": [
    {
     "name": "stdout",
     "output_type": "stream",
     "text": [
      "         movie_id  rating  timestamp\n",
      "user_id                             \n",
      "196           242       3  881250949\n",
      "186           302       3  891717742\n",
      "22            377       1  878887116\n",
      "244            51       2  880606923\n",
      "166           346       1  886397596\n",
      "(100000, 3)\n"
     ]
    }
   ],
   "source": [
    "# Load the u.data file into a dataframe\n",
    "r_cols = ['user_id', 'movie_id', 'rating', 'timestamp']\n",
    "ratings = pd.read_csv('u.data', sep='\\t', names=r_cols, encoding='latin-1') \n",
    "ratings = ratings.set_index('user_id')\n",
    "print(ratings.head())\n",
    "print(ratings.shape)"
   ]
  }
 ],
 "metadata": {
  "kernelspec": {
   "display_name": "Python 3 (ipykernel)",
   "language": "python",
   "name": "python3"
  },
  "language_info": {
   "codemirror_mode": {
    "name": "ipython",
    "version": 3
   },
   "file_extension": ".py",
   "mimetype": "text/x-python",
   "name": "python",
   "nbconvert_exporter": "python",
   "pygments_lexer": "ipython3",
   "version": "3.11.4"
  }
 },
 "nbformat": 4,
 "nbformat_minor": 4
}
