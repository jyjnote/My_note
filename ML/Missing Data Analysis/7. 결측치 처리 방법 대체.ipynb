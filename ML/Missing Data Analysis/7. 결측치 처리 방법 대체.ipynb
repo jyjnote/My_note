{
 "cells": [
  {
   "cell_type": "markdown",
   "id": "communist-religion",
   "metadata": {
    "heading_collapsed": true
   },
   "source": [
    "# nhanes2"
   ]
  },
  {
   "cell_type": "markdown",
   "id": "local-trigger",
   "metadata": {
    "hidden": true
   },
   "source": [
    "[nhanes2](https://wwwn.cdc.gov/Nchs/Nhanes/nhanes2/default.aspx): The second National Health and Nutrition Examination Survey"
   ]
  },
  {
   "cell_type": "code",
   "execution_count": 2,
   "id": "261559b1",
   "metadata": {},
   "outputs": [
    {
     "name": "stdout",
     "output_type": "stream",
     "text": [
      "Collecting missingno\n",
      "  Downloading missingno-0.5.2-py3-none-any.whl (8.7 kB)\n",
      "Requirement already satisfied: numpy in c:\\users\\hopio\\anaconda3\\lib\\site-packages (from missingno) (1.24.3)\n",
      "Requirement already satisfied: matplotlib in c:\\users\\hopio\\anaconda3\\lib\\site-packages (from missingno) (3.7.1)\n",
      "Requirement already satisfied: scipy in c:\\users\\hopio\\anaconda3\\lib\\site-packages (from missingno) (1.10.1)\n",
      "Requirement already satisfied: seaborn in c:\\users\\hopio\\anaconda3\\lib\\site-packages (from missingno) (0.12.2)\n",
      "Requirement already satisfied: contourpy>=1.0.1 in c:\\users\\hopio\\anaconda3\\lib\\site-packages (from matplotlib->missingno) (1.0.5)\n",
      "Requirement already satisfied: cycler>=0.10 in c:\\users\\hopio\\anaconda3\\lib\\site-packages (from matplotlib->missingno) (0.11.0)\n",
      "Requirement already satisfied: fonttools>=4.22.0 in c:\\users\\hopio\\anaconda3\\lib\\site-packages (from matplotlib->missingno) (4.25.0)\n",
      "Requirement already satisfied: kiwisolver>=1.0.1 in c:\\users\\hopio\\anaconda3\\lib\\site-packages (from matplotlib->missingno) (1.4.4)\n",
      "Requirement already satisfied: packaging>=20.0 in c:\\users\\hopio\\anaconda3\\lib\\site-packages (from matplotlib->missingno) (23.0)\n",
      "Requirement already satisfied: pillow>=6.2.0 in c:\\users\\hopio\\anaconda3\\lib\\site-packages (from matplotlib->missingno) (9.4.0)\n",
      "Requirement already satisfied: pyparsing>=2.3.1 in c:\\users\\hopio\\anaconda3\\lib\\site-packages (from matplotlib->missingno) (3.0.9)\n",
      "Requirement already satisfied: python-dateutil>=2.7 in c:\\users\\hopio\\anaconda3\\lib\\site-packages (from matplotlib->missingno) (2.8.2)\n",
      "Requirement already satisfied: pandas>=0.25 in c:\\users\\hopio\\anaconda3\\lib\\site-packages (from seaborn->missingno) (1.5.3)\n",
      "Requirement already satisfied: pytz>=2020.1 in c:\\users\\hopio\\anaconda3\\lib\\site-packages (from pandas>=0.25->seaborn->missingno) (2022.7)\n",
      "Requirement already satisfied: six>=1.5 in c:\\users\\hopio\\anaconda3\\lib\\site-packages (from python-dateutil>=2.7->matplotlib->missingno) (1.16.0)\n",
      "Installing collected packages: missingno\n",
      "Successfully installed missingno-0.5.2\n"
     ]
    }
   ],
   "source": [
    "!pip install missingno  "
   ]
  },
  {
   "cell_type": "code",
   "execution_count": 1,
   "id": "9975b9e5",
   "metadata": {},
   "outputs": [
    {
     "name": "stdout",
     "output_type": "stream",
     "text": [
      "Collecting rpy2\n",
      "  Using cached rpy2-3.5.13.tar.gz (218 kB)\n",
      "  Installing build dependencies: started\n",
      "  Installing build dependencies: finished with status 'done'\n",
      "  Getting requirements to build wheel: started\n",
      "  Getting requirements to build wheel: finished with status 'done'\n",
      "  Preparing metadata (pyproject.toml): started\n",
      "  Preparing metadata (pyproject.toml): finished with status 'done'\n",
      "Requirement already satisfied: cffi>=1.10.0 in c:\\users\\hopio\\anaconda3\\lib\\site-packages (from rpy2) (1.15.1)\n",
      "Requirement already satisfied: jinja2 in c:\\users\\hopio\\anaconda3\\lib\\site-packages (from rpy2) (3.1.2)\n",
      "Collecting tzlocal (from rpy2)\n",
      "  Downloading tzlocal-5.0.1-py3-none-any.whl (20 kB)\n",
      "Requirement already satisfied: packaging in c:\\users\\hopio\\anaconda3\\lib\\site-packages (from rpy2) (23.0)\n",
      "Requirement already satisfied: pycparser in c:\\users\\hopio\\anaconda3\\lib\\site-packages (from cffi>=1.10.0->rpy2) (2.21)\n",
      "Requirement already satisfied: MarkupSafe>=2.0 in c:\\users\\hopio\\anaconda3\\lib\\site-packages (from jinja2->rpy2) (2.1.1)\n",
      "Collecting tzdata (from tzlocal->rpy2)\n",
      "  Downloading tzdata-2023.3-py2.py3-none-any.whl (341 kB)\n",
      "                                              0.0/341.8 kB ? eta -:--:--\n",
      "     -------                                 61.4/341.8 kB 1.7 MB/s eta 0:00:01\n",
      "     --------------------                   184.3/341.8 kB 2.2 MB/s eta 0:00:01\n",
      "     ------------------------------         276.5/341.8 kB 2.1 MB/s eta 0:00:01\n",
      "     -------------------------------------- 341.8/341.8 kB 1.9 MB/s eta 0:00:00\n",
      "Building wheels for collected packages: rpy2\n",
      "  Building wheel for rpy2 (pyproject.toml): started\n",
      "  Building wheel for rpy2 (pyproject.toml): finished with status 'done'\n",
      "  Created wheel for rpy2: filename=rpy2-3.5.13-py3-none-any.whl size=220527 sha256=c8527c1ed8a1077f0eca94dc908224d5e80a15560bbac32c776d36366f63c581\n",
      "  Stored in directory: c:\\users\\hopio\\appdata\\local\\pip\\cache\\wheels\\d0\\12\\8e\\a8e2ec4009810c8dca2a032d577b9c4d8142c64209fab44646\n",
      "Successfully built rpy2\n",
      "Installing collected packages: tzdata, tzlocal, rpy2\n",
      "Successfully installed rpy2-3.5.13 tzdata-2023.3 tzlocal-5.0.1\n"
     ]
    }
   ],
   "source": [
    "!pip install rpy2     "
   ]
  },
  {
   "cell_type": "code",
   "execution_count": 2,
   "id": "d4166865",
   "metadata": {},
   "outputs": [],
   "source": [
    "import rpy2.robjects as robjects"
   ]
  },
  {
   "cell_type": "code",
   "execution_count": 3,
   "id": "gross-probe",
   "metadata": {
    "hidden": true
   },
   "outputs": [],
   "source": [
    "import pandas as pd\n",
    "\n",
    "## 결측치 시각화 라이브러리(missingno)를 사용하기 위해\n",
    "# !pip install missingno  # 처음 라이브러리를 사용하는 사람만 해당\n",
    "import missingno\n",
    "\n",
    "import statsmodels.formula.api as smf   # 회귀분석에 필요한 라이브러리\n",
    "\n",
    "## 파이썬에서 R 사용을 위한 모듈, rpy2\n",
    "# !pip install rpy2            # 처음 라이브러리를 사용하는 사람만 해당\n",
    "import rpy2.robjects as ro\n",
    "# R과 파이썬 사이에 데이터를 전환하기 위한 필요한 라이브러리 호출\n",
    "from rpy2.robjects.conversion import localconverter\n",
    "from rpy2.robjects import pandas2ri"
   ]
  },
  {
   "cell_type": "code",
   "execution_count": 2,
   "id": "stunning-caribbean",
   "metadata": {
    "hidden": true
   },
   "outputs": [
    {
     "data": {
      "text/html": [
       "<div>\n",
       "<style scoped>\n",
       "    .dataframe tbody tr th:only-of-type {\n",
       "        vertical-align: middle;\n",
       "    }\n",
       "\n",
       "    .dataframe tbody tr th {\n",
       "        vertical-align: top;\n",
       "    }\n",
       "\n",
       "    .dataframe thead th {\n",
       "        text-align: right;\n",
       "    }\n",
       "</style>\n",
       "<table border=\"1\" class=\"dataframe\">\n",
       "  <thead>\n",
       "    <tr style=\"text-align: right;\">\n",
       "      <th></th>\n",
       "      <th>age</th>\n",
       "      <th>bmi</th>\n",
       "      <th>hyp</th>\n",
       "      <th>chl</th>\n",
       "    </tr>\n",
       "  </thead>\n",
       "  <tbody>\n",
       "    <tr>\n",
       "      <th>0</th>\n",
       "      <td>20-39</td>\n",
       "      <td>NaN</td>\n",
       "      <td>NaN</td>\n",
       "      <td>NaN</td>\n",
       "    </tr>\n",
       "    <tr>\n",
       "      <th>1</th>\n",
       "      <td>40-59</td>\n",
       "      <td>22.7</td>\n",
       "      <td>no</td>\n",
       "      <td>187.0</td>\n",
       "    </tr>\n",
       "    <tr>\n",
       "      <th>2</th>\n",
       "      <td>20-39</td>\n",
       "      <td>NaN</td>\n",
       "      <td>no</td>\n",
       "      <td>187.0</td>\n",
       "    </tr>\n",
       "    <tr>\n",
       "      <th>3</th>\n",
       "      <td>60-99</td>\n",
       "      <td>NaN</td>\n",
       "      <td>NaN</td>\n",
       "      <td>NaN</td>\n",
       "    </tr>\n",
       "    <tr>\n",
       "      <th>4</th>\n",
       "      <td>20-39</td>\n",
       "      <td>20.4</td>\n",
       "      <td>no</td>\n",
       "      <td>113.0</td>\n",
       "    </tr>\n",
       "  </tbody>\n",
       "</table>\n",
       "</div>"
      ],
      "text/plain": [
       "     age   bmi  hyp    chl\n",
       "0  20-39   NaN  NaN    NaN\n",
       "1  40-59  22.7   no  187.0\n",
       "2  20-39   NaN   no  187.0\n",
       "3  60-99   NaN  NaN    NaN\n",
       "4  20-39  20.4   no  113.0"
      ]
     },
     "execution_count": 2,
     "metadata": {},
     "output_type": "execute_result"
    }
   ],
   "source": [
    "df = pd.read_csv(\"nhanes2.csv\")\n",
    "df.head()"
   ]
  },
  {
   "cell_type": "code",
   "execution_count": 3,
   "id": "settled-declaration",
   "metadata": {
    "hidden": true,
    "scrolled": true
   },
   "outputs": [
    {
     "data": {
      "text/plain": [
       "<AxesSubplot:>"
      ]
     },
     "execution_count": 3,
     "metadata": {},
     "output_type": "execute_result"
    },
    {
     "data": {
      "image/png": "[encoded data removed]",
      "text/plain": [
       "<Figure size 360x288 with 2 Axes>"
      ]
     },
     "metadata": {
      "needs_background": "light"
     },
     "output_type": "display_data"
    }
   ],
   "source": [
    "missingno.matrix(df, figsize=(5,4), fontsize=20)"
   ]
  },
  {
   "cell_type": "markdown",
   "id": "returning-trout",
   "metadata": {
    "hidden": true
   },
   "source": [
    "## 결측치 단순제거"
   ]
  },
  {
   "cell_type": "code",
   "execution_count": 4,
   "id": "related-connecticut",
   "metadata": {
    "hidden": true,
    "scrolled": false
   },
   "outputs": [
    {
     "name": "stdout",
     "output_type": "stream",
     "text": [
      "                            OLS Regression Results                            \n",
      "==============================================================================\n",
      "Dep. Variable:                    bmi   R-squared:                       0.670\n",
      "Model:                            OLS   Adj. R-squared:                  0.505\n",
      "Method:                 Least Squares   F-statistic:                     4.055\n",
      "Date:                Tue, 09 Mar 2021   Prob (F-statistic):             0.0438\n",
      "Time:                        20:26:54   Log-Likelihood:                -30.551\n",
      "No. Observations:                  13   AIC:                             71.10\n",
      "Df Residuals:                       8   BIC:                             73.93\n",
      "Df Model:                           4                                         \n",
      "Covariance Type:            nonrobust                                         \n",
      "================================================================================\n",
      "                   coef    std err          t      P>|t|      [0.025      0.975]\n",
      "--------------------------------------------------------------------------------\n",
      "Intercept       14.9630      4.268      3.506      0.008       5.121      24.805\n",
      "age[T.40-59]    -6.6184      2.302     -2.876      0.021     -11.926      -1.311\n",
      "age[T.60-99]   -11.1811      3.362     -3.326      0.010     -18.933      -3.429\n",
      "hyp[T.yes]       2.3616      2.535      0.931      0.379      -3.485       8.208\n",
      "chl              0.0795      0.024      3.253      0.012       0.023       0.136\n",
      "==============================================================================\n",
      "Omnibus:                        0.569   Durbin-Watson:                   1.607\n",
      "Prob(Omnibus):                  0.752   Jarque-Bera (JB):                0.388\n",
      "Skew:                          -0.371   Prob(JB):                        0.824\n",
      "Kurtosis:                       2.591   Cond. No.                     1.02e+03\n",
      "==============================================================================\n",
      "\n",
      "Notes:\n",
      "[1] Standard Errors assume that the covariance matrix of the errors is correctly specified.\n",
      "[2] The condition number is large, 1.02e+03. This might indicate that there are\n",
      "strong multicollinearity or other numerical problems.\n"
     ]
    },
    {
     "name": "stderr",
     "output_type": "stream",
     "text": [
      "C:\\Users\\13Z970-G.AR30K\\Anaconda3\\lib\\site-packages\\scipy\\stats\\stats.py:1535: UserWarning: kurtosistest only valid for n>=20 ... continuing anyway, n=13\n",
      "  \"anyway, n=%i\" % int(n))\n"
     ]
    }
   ],
   "source": [
    "res1 = smf.ols(formula=\"bmi ~ age + hyp + chl\", data=df).fit()\n",
    "print(res1.summary())"
   ]
  },
  {
   "cell_type": "markdown",
   "id": "korean-minutes",
   "metadata": {
    "hidden": true
   },
   "source": [
    "## MICE"
   ]
  },
  {
   "cell_type": "code",
   "execution_count": 5,
   "id": "final-metropolitan",
   "metadata": {
    "hidden": true,
    "scrolled": false
   },
   "outputs": [
    {
     "data": {
      "text/plain": [
       "<rpy2.robjects.functions.SignatureTranslatedFunction object at 0x0000026BE37E8AC8> [RTYPES.CLOSXP]\n",
       "R classes: ('function',)"
      ]
     },
     "execution_count": 5,
     "metadata": {},
     "output_type": "execute_result"
    }
   ],
   "source": [
    "# R에서 사용할 함수 정의\n",
    "ro.r('''\n",
    "mice_R <- function() {\n",
    "    install.packages('mice')                          # R에서 다중 대체를 사용하기 위해 설치할 패키지 \n",
    "    library(mice)                                     # 라이브러리 호출\n",
    "    \n",
    "    data(nhanes2)                                     # 내장 데이터 호출\n",
    "    MICE = mice(nhanes2, print = FALSE, seed = 1)     # 복수 데이터 생성(default = 5), seed를 통해 같은 결과 출력\n",
    "    fit = with(MICE, lm(bmi~age+hyp+chl))             # 각각에 대해서 분석수행(R에 내장된 데이터이기 때문에 바로 호출가능)  \n",
    "    res = pool(fit)                                   # 통합하여 하나의 결과도출\n",
    "    print(summary(res))                               # 결과물 출력      \n",
    "    \n",
    "                                                      # 생성된 복수의 데이터셋(1~5)과 추정치 결과를 반환\n",
    "    return(list(complete(MICE,1), complete(MICE,2), complete(MICE,3), complete(MICE,4), complete(MICE,5), res$pooled))\n",
    "    }\n",
    "''')"
   ]
  },
  {
   "cell_type": "code",
   "execution_count": 6,
   "id": "embedded-transparency",
   "metadata": {
    "hidden": true,
    "scrolled": true
   },
   "outputs": [
    {
     "name": "stderr",
     "output_type": "stream",
     "text": [
      "R[write to console]: Installing package into 'C:/Users/13Z970-G.AR30K/Documents/R/win-library/4.0'\n",
      "(as 'lib' is unspecified)\n",
      "\n"
     ]
    },
    {
     "name": "stdout",
     "output_type": "stream",
     "text": [
      "--- Please select a CRAN mirror for use in this session ---\n"
     ]
    },
    {
     "name": "stderr",
     "output_type": "stream",
     "text": [
      "R[write to console]: trying URL 'https://cran.seoul.go.kr/bin/windows/contrib/4.0/mice_3.13.0.zip'\n",
      "\n",
      "R[write to console]: Content type 'application/zip'\n",
      "R[write to console]:  length 2024912 bytes (1.9 MB)\n",
      "\n",
      "R[write to console]: downloaded 1.9 MB\n",
      "\n",
      "\n"
     ]
    },
    {
     "name": "stdout",
     "output_type": "stream",
     "text": [
      "package 'mice' successfully unpacked and MD5 sums checked\n",
      "\n",
      "The downloaded binary packages are in\n",
      "\tC:\\Users\\13Z970-G.AR30K\\AppData\\Local\\Temp\\RtmpYVkyNH\\downloaded_packages\n"
     ]
    },
    {
     "name": "stderr",
     "output_type": "stream",
     "text": [
      "R[write to console]: \n",
      "Attaching package: 'mice'\n",
      "\n",
      "\n",
      "R[write to console]: The following object is masked from 'package:stats':\n",
      "\n",
      "    filter\n",
      "\n",
      "\n",
      "R[write to console]: The following objects are masked from 'package:base':\n",
      "\n",
      "    cbind, rbind\n",
      "\n",
      "\n"
     ]
    },
    {
     "name": "stdout",
     "output_type": "stream",
     "text": [
      "         term    estimate  std.error statistic        df      p.value\n",
      "1 (Intercept) 18.66788816 3.90652449  4.778644  9.360282 0.0008989516\n",
      "2    age40-59 -4.66637582 2.57226734 -1.814110  4.274780 0.1392378647\n",
      "3    age60-99 -6.55049039 2.91863326 -2.244369  4.372382 0.0824824605\n",
      "4      hypyes  2.27386418 1.92812073  1.179316 10.902595 0.2633671041\n",
      "5         chl  0.05312788 0.02359584  2.251578  6.622509 0.0611862472\n"
     ]
    }
   ],
   "source": [
    "# 사용할 함수('mice_R') 호출\n",
    "res = ro.globalenv['mice_R']()"
   ]
  },
  {
   "cell_type": "code",
   "execution_count": 7,
   "id": "approved-andorra",
   "metadata": {
    "hidden": true
   },
   "outputs": [],
   "source": [
    "## (1) 파이썬에서 불러온 데이터를 R에서 사용할 수 있도록 데이터 형태 변환 \n",
    "# 1. with: 파이썬에서 파일을 열고, 닫을 때 사용하는 statement입니다.\n",
    "# 2. localconverter: Rpy2에서 파일을 열 때, 사용하는 함수입니다.\n",
    "# 3. pandas2ri.converter: 파일을 연 다음에, 데이터를 파이썬 또는 R에 맞게끔 형태를 교환해주는 함수입니다.\n",
    "# 4. rpy2py(df) : 입력받은 데이터(df)를 R -> python으로 바꿔줍니다.\n",
    "\n",
    "with localconverter(ro.default_converter + pandas2ri.converter):\n",
    "    MI1 = ro.conversion.rpy2py(res[0])\n",
    "    MI2 = ro.conversion.rpy2py(res[1])\n",
    "    MI3 = ro.conversion.rpy2py(res[2])\n",
    "    MI4 = ro.conversion.rpy2py(res[3])\n",
    "    MI5 = ro.conversion.rpy2py(res[4])"
   ]
  },
  {
   "cell_type": "code",
   "execution_count": 8,
   "id": "healthy-million",
   "metadata": {
    "hidden": true,
    "scrolled": false
   },
   "outputs": [
    {
     "data": {
      "text/html": [
       "<div>\n",
       "<style scoped>\n",
       "    .dataframe tbody tr th:only-of-type {\n",
       "        vertical-align: middle;\n",
       "    }\n",
       "\n",
       "    .dataframe tbody tr th {\n",
       "        vertical-align: top;\n",
       "    }\n",
       "\n",
       "    .dataframe thead th {\n",
       "        text-align: right;\n",
       "    }\n",
       "</style>\n",
       "<table border=\"1\" class=\"dataframe\">\n",
       "  <thead>\n",
       "    <tr style=\"text-align: right;\">\n",
       "      <th></th>\n",
       "      <th>age</th>\n",
       "      <th>bmi</th>\n",
       "      <th>hyp</th>\n",
       "      <th>chl</th>\n",
       "    </tr>\n",
       "  </thead>\n",
       "  <tbody>\n",
       "    <tr>\n",
       "      <th>1</th>\n",
       "      <td>20-39</td>\n",
       "      <td>25.5</td>\n",
       "      <td>no</td>\n",
       "      <td>187.0</td>\n",
       "    </tr>\n",
       "    <tr>\n",
       "      <th>2</th>\n",
       "      <td>40-59</td>\n",
       "      <td>22.7</td>\n",
       "      <td>no</td>\n",
       "      <td>187.0</td>\n",
       "    </tr>\n",
       "    <tr>\n",
       "      <th>3</th>\n",
       "      <td>20-39</td>\n",
       "      <td>28.7</td>\n",
       "      <td>no</td>\n",
       "      <td>187.0</td>\n",
       "    </tr>\n",
       "    <tr>\n",
       "      <th>4</th>\n",
       "      <td>60-99</td>\n",
       "      <td>22.5</td>\n",
       "      <td>yes</td>\n",
       "      <td>204.0</td>\n",
       "    </tr>\n",
       "    <tr>\n",
       "      <th>5</th>\n",
       "      <td>20-39</td>\n",
       "      <td>20.4</td>\n",
       "      <td>no</td>\n",
       "      <td>113.0</td>\n",
       "    </tr>\n",
       "  </tbody>\n",
       "</table>\n",
       "</div>"
      ],
      "text/plain": [
       "     age   bmi  hyp    chl\n",
       "1  20-39  25.5   no  187.0\n",
       "2  40-59  22.7   no  187.0\n",
       "3  20-39  28.7   no  187.0\n",
       "4  60-99  22.5  yes  204.0\n",
       "5  20-39  20.4   no  113.0"
      ]
     },
     "execution_count": 8,
     "metadata": {},
     "output_type": "execute_result"
    }
   ],
   "source": [
    "# 생성된 첫번째 데이터셋: 모든 Nan값이 채워졌음을 확인 가능.\n",
    "MI1.head()"
   ]
  },
  {
   "cell_type": "code",
   "execution_count": 9,
   "id": "together-balloon",
   "metadata": {
    "hidden": true,
    "scrolled": true
   },
   "outputs": [
    {
     "data": {
      "text/html": [
       "<div>\n",
       "<style scoped>\n",
       "    .dataframe tbody tr th:only-of-type {\n",
       "        vertical-align: middle;\n",
       "    }\n",
       "\n",
       "    .dataframe tbody tr th {\n",
       "        vertical-align: top;\n",
       "    }\n",
       "\n",
       "    .dataframe thead th {\n",
       "        text-align: right;\n",
       "    }\n",
       "</style>\n",
       "<table border=\"1\" class=\"dataframe\">\n",
       "  <thead>\n",
       "    <tr style=\"text-align: right;\">\n",
       "      <th></th>\n",
       "      <th>missing data</th>\n",
       "      <th>MICE1</th>\n",
       "      <th>MICE2</th>\n",
       "      <th>MICE3</th>\n",
       "      <th>MICE4</th>\n",
       "      <th>MICE5</th>\n",
       "    </tr>\n",
       "  </thead>\n",
       "  <tbody>\n",
       "    <tr>\n",
       "      <th>age</th>\n",
       "      <td>20-39</td>\n",
       "      <td>20-39</td>\n",
       "      <td>20-39</td>\n",
       "      <td>20-39</td>\n",
       "      <td>20-39</td>\n",
       "      <td>20-39</td>\n",
       "    </tr>\n",
       "    <tr>\n",
       "      <th>bmi</th>\n",
       "      <td>NaN</td>\n",
       "      <td>28.7</td>\n",
       "      <td>27.2</td>\n",
       "      <td>29.6</td>\n",
       "      <td>27.2</td>\n",
       "      <td>29.6</td>\n",
       "    </tr>\n",
       "    <tr>\n",
       "      <th>hyp</th>\n",
       "      <td>no</td>\n",
       "      <td>no</td>\n",
       "      <td>no</td>\n",
       "      <td>no</td>\n",
       "      <td>no</td>\n",
       "      <td>no</td>\n",
       "    </tr>\n",
       "    <tr>\n",
       "      <th>chl</th>\n",
       "      <td>187.0</td>\n",
       "      <td>187.0</td>\n",
       "      <td>187.0</td>\n",
       "      <td>187.0</td>\n",
       "      <td>187.0</td>\n",
       "      <td>187.0</td>\n",
       "    </tr>\n",
       "  </tbody>\n",
       "</table>\n",
       "</div>"
      ],
      "text/plain": [
       "    missing data  MICE1  MICE2  MICE3  MICE4  MICE5\n",
       "age        20-39  20-39  20-39  20-39  20-39  20-39\n",
       "bmi          NaN   28.7   27.2   29.6   27.2   29.6\n",
       "hyp           no     no     no     no     no     no\n",
       "chl        187.0  187.0  187.0  187.0  187.0  187.0"
      ]
     },
     "execution_count": 9,
     "metadata": {},
     "output_type": "execute_result"
    }
   ],
   "source": [
    "# 세 번째 관측값에 대해서, 실제 데이터(missing data)와 복수의 대체 데이터 값을 비교\n",
    "ex3 = pd.concat([df.iloc[2], MI1.iloc[2], MI2.iloc[2],\n",
    "                 MI3.iloc[2], MI4.iloc[2], MI5.iloc[2]], axis=1)\n",
    "ex3.columns = [\"missing data\", \"MICE1\", \"MICE2\", \"MICE3\", \"MICE4\", \"MICE5\"]\n",
    "ex3"
   ]
  },
  {
   "cell_type": "markdown",
   "id": "protective-guatemala",
   "metadata": {
    "heading_collapsed": true
   },
   "source": [
    "# 외부데이터: mice_example"
   ]
  },
  {
   "cell_type": "code",
   "execution_count": 10,
   "id": "worse-siemens",
   "metadata": {
    "hidden": true
   },
   "outputs": [
    {
     "data": {
      "text/html": [
       "<div>\n",
       "<style scoped>\n",
       "    .dataframe tbody tr th:only-of-type {\n",
       "        vertical-align: middle;\n",
       "    }\n",
       "\n",
       "    .dataframe tbody tr th {\n",
       "        vertical-align: top;\n",
       "    }\n",
       "\n",
       "    .dataframe thead th {\n",
       "        text-align: right;\n",
       "    }\n",
       "</style>\n",
       "<table border=\"1\" class=\"dataframe\">\n",
       "  <thead>\n",
       "    <tr style=\"text-align: right;\">\n",
       "      <th></th>\n",
       "      <th>y1</th>\n",
       "      <th>y2</th>\n",
       "      <th>y3</th>\n",
       "      <th>y4</th>\n",
       "    </tr>\n",
       "  </thead>\n",
       "  <tbody>\n",
       "    <tr>\n",
       "      <th>0</th>\n",
       "      <td>1.479633</td>\n",
       "      <td>2.150860</td>\n",
       "      <td>NaN</td>\n",
       "      <td>1.894212</td>\n",
       "    </tr>\n",
       "    <tr>\n",
       "      <th>1</th>\n",
       "      <td>NaN</td>\n",
       "      <td>1.141496</td>\n",
       "      <td>1.602530</td>\n",
       "      <td>-1.036947</td>\n",
       "    </tr>\n",
       "    <tr>\n",
       "      <th>2</th>\n",
       "      <td>0.708709</td>\n",
       "      <td>1.885673</td>\n",
       "      <td>1.250689</td>\n",
       "      <td>NaN</td>\n",
       "    </tr>\n",
       "  </tbody>\n",
       "</table>\n",
       "</div>"
      ],
      "text/plain": [
       "         y1        y2        y3        y4\n",
       "0  1.479633  2.150860       NaN  1.894212\n",
       "1       NaN  1.141496  1.602530 -1.036947\n",
       "2  0.708709  1.885673  1.250689       NaN"
      ]
     },
     "execution_count": 10,
     "metadata": {},
     "output_type": "execute_result"
    }
   ],
   "source": [
    "df = pd.read_csv(\"mice_example.csv\")\n",
    "df.head(3)"
   ]
  },
  {
   "cell_type": "code",
   "execution_count": 11,
   "id": "devoted-visit",
   "metadata": {
    "hidden": true
   },
   "outputs": [
    {
     "data": {
      "text/html": [
       "\n",
       "        <span>R/rpy2 DataFrame (100 x 4)</span>\n",
       "        <table>\n",
       "          <thead>\n",
       "            <tr>\n",
       "              \n",
       "              <th>y1</th>\n",
       "              \n",
       "              <th>y2</th>\n",
       "              \n",
       "              <th>y3</th>\n",
       "              \n",
       "              <th>y4</th>\n",
       "              \n",
       "            </tr>\n",
       "          </thead>\n",
       "          <tbody>\n",
       "          \n",
       "          <tr>\n",
       "            \n",
       "            <td>\n",
       "              ...\n",
       "            </td>\n",
       "            \n",
       "            <td>\n",
       "              ...\n",
       "            </td>\n",
       "            \n",
       "            <td>\n",
       "              ...\n",
       "            </td>\n",
       "            \n",
       "            <td>\n",
       "              ...\n",
       "            </td>\n",
       "            \n",
       "          </tr>\n",
       "          \n",
       "          </tbody>\n",
       "        </table>\n",
       "    "
      ],
      "text/plain": [
       "<rpy2.robjects.vectors.DataFrame object at 0x0000026BE321ECC8> [RTYPES.VECSXP]\n",
       "R classes: ('data.frame',)\n",
       "[FloatSexpV..., FloatSexpV..., FloatSexpV..., FloatSexpV...]\n",
       "  y1: <class 'rpy2.rinterface.FloatSexpVector'>\n",
       "  <rpy2.rinterface.FloatSexpVector object at 0x0000026BE32BE488> [RTYPES.REALSXP]\n",
       "  y2: <class 'rpy2.rinterface.FloatSexpVector'>\n",
       "  <rpy2.rinterface.FloatSexpVector object at 0x0000026BE32CBC48> [RTYPES.REALSXP]\n",
       "  y3: <class 'rpy2.rinterface.FloatSexpVector'>\n",
       "  <rpy2.rinterface.FloatSexpVector object at 0x0000026BE32CB2C8> [RTYPES.REALSXP]\n",
       "  y4: <class 'rpy2.rinterface.FloatSexpVector'>\n",
       "  <rpy2.rinterface.FloatSexpVector object at 0x0000026BE32CB0C8> [RTYPES.REALSXP]"
      ]
     },
     "execution_count": 11,
     "metadata": {},
     "output_type": "execute_result"
    }
   ],
   "source": [
    "## (1) 파이썬에서 불러온 데이터를 R에서 사용할 수 있도록 데이터 형태 변환 \n",
    "# 1. with: 파이썬에서 파일을 열고, 닫을 때 사용하는 statement입니다.\n",
    "# 2. localconverter: Rpy2에서 파일을 열 때, 사용하는 함수입니다.\n",
    "# 3. pandas2ri.converter: 파일을 연 다음에, 데이터를 파이썬 또는 R에 맞게끔 형태를 교환해주는 함수입니다.\n",
    "# 4. py2rpy(df) : 입력받은 데이터(df)를 python -> R로 바꿔줍니다.\n",
    "\n",
    "with localconverter(pandas2ri.converter):\n",
    "    df_R = ro.conversion.py2rpy(df)\n",
    "\n",
    "df_R"
   ]
  },
  {
   "cell_type": "code",
   "execution_count": 12,
   "id": "located-lodging",
   "metadata": {
    "hidden": true,
    "scrolled": true
   },
   "outputs": [
    {
     "data": {
      "text/plain": [
       "<rpy2.robjects.functions.SignatureTranslatedFunction object at 0x0000026BE3842FC8> [RTYPES.CLOSXP]\n",
       "R classes: ('function',)"
      ]
     },
     "execution_count": 12,
     "metadata": {},
     "output_type": "execute_result"
    }
   ],
   "source": [
    "# [외부 데이터 사용] R에서 사용할 함수 정의\n",
    "ro.r('''\n",
    "mice_R <- function(df) {                 # 괄호 안에 input으로 받을 변수명을 저장\n",
    "    library(mice)                        # 다중 대체를 위한 라이브러리 호출\n",
    "    MICE = mice(df, print = FALSE)       # 복수의 데이터 생성 (default=5)\n",
    "    fit1 = with(MICE, lm(y1~y2+y3+y4) )  # 각각에 대해서 분석수행\n",
    "    print(summary(pool(fit1)))           # 통합하여 하나의 결과도출  \n",
    "    # 생성된 복수(default = 5)의 데이터셋 반환\n",
    "    return(list(complete(MICE, 1), complete(MICE, 2), complete(MICE, 3), complete(MICE, 4), complete(MICE, 5)))\n",
    "    }\n",
    "''')"
   ]
  },
  {
   "cell_type": "code",
   "execution_count": 13,
   "id": "grateful-childhood",
   "metadata": {
    "hidden": true,
    "scrolled": true
   },
   "outputs": [
    {
     "name": "stdout",
     "output_type": "stream",
     "text": [
      "         term     estimate  std.error   statistic        df      p.value\n",
      "1 (Intercept) -0.389940673 0.18639152 -2.09205161 10.171423 0.0624502257\n",
      "2          y2  0.254075030 0.09898307  2.56685340  8.605088 0.0314172177\n",
      "3          y3  0.486446890 0.07748285  6.27812323  9.729178 0.0001033172\n",
      "4          y4 -0.006217464 0.06291119 -0.09882923 18.535657 0.9223348384\n"
     ]
    }
   ],
   "source": [
    "# ro.globalenv를 통해서, 사용할 함수('mice_R')와 input(df_R)을 함께 호출함\n",
    "MICE = ro.globalenv['mice_R'](df_R)"
   ]
  }
 ],
 "metadata": {
  "kernelspec": {
   "display_name": "Python 3 (ipykernel)",
   "language": "python",
   "name": "python3"
  },
  "language_info": {
   "codemirror_mode": {
    "name": "ipython",
    "version": 3
   },
   "file_extension": ".py",
   "mimetype": "text/x-python",
   "name": "python",
   "nbconvert_exporter": "python",
   "pygments_lexer": "ipython3",
   "version": "3.11.3"
  },
  "toc": {
   "base_numbering": 1,
   "nav_menu": {},
   "number_sections": true,
   "sideBar": true,
   "skip_h1_title": false,
   "title_cell": "Table of Contents",
   "title_sidebar": "Contents",
   "toc_cell": false,
   "toc_position": {},
   "toc_section_display": true,
   "toc_window_display": false
  }
 },
 "nbformat": 4,
 "nbformat_minor": 5
}
