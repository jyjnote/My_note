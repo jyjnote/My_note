{
 "cells": [
  {
   "cell_type": "code",
   "execution_count": 1,
   "id": "gross-surgeon",
   "metadata": {},
   "outputs": [],
   "source": [
    "import pandas as pd\n",
    "import numpy as np\n",
    "\n",
    "# 회귀분석에 필요한 라이브러리\n",
    "import statsmodels.formula.api as smf \n",
    "import statsmodels.api as sm"
   ]
  },
  {
   "cell_type": "code",
   "execution_count": 2,
   "id": "smooth-presence",
   "metadata": {
    "scrolled": true
   },
   "outputs": [
    {
     "data": {
      "text/html": [
       "<div>\n",
       "<style scoped>\n",
       "    .dataframe tbody tr th:only-of-type {\n",
       "        vertical-align: middle;\n",
       "    }\n",
       "\n",
       "    .dataframe tbody tr th {\n",
       "        vertical-align: top;\n",
       "    }\n",
       "\n",
       "    .dataframe thead th {\n",
       "        text-align: right;\n",
       "    }\n",
       "</style>\n",
       "<table border=\"1\" class=\"dataframe\">\n",
       "  <thead>\n",
       "    <tr style=\"text-align: right;\">\n",
       "      <th></th>\n",
       "      <th>y</th>\n",
       "      <th>x</th>\n",
       "    </tr>\n",
       "  </thead>\n",
       "  <tbody>\n",
       "    <tr>\n",
       "      <th>0</th>\n",
       "      <td>NaN</td>\n",
       "      <td>-1.053538</td>\n",
       "    </tr>\n",
       "    <tr>\n",
       "      <th>1</th>\n",
       "      <td>1.951234</td>\n",
       "      <td>1.862664</td>\n",
       "    </tr>\n",
       "    <tr>\n",
       "      <th>2</th>\n",
       "      <td>-1.017659</td>\n",
       "      <td>0.457241</td>\n",
       "    </tr>\n",
       "  </tbody>\n",
       "</table>\n",
       "</div>"
      ],
      "text/plain": [
       "          y         x\n",
       "0       NaN -1.053538\n",
       "1  1.951234  1.862664\n",
       "2 -1.017659  0.457241"
      ]
     },
     "execution_count": 2,
     "metadata": {},
     "output_type": "execute_result"
    }
   ],
   "source": [
    "df = pd.read_csv(\"weighting.csv\")\n",
    "df.head(3)"
   ]
  },
  {
   "cell_type": "markdown",
   "id": "handed-texas",
   "metadata": {},
   "source": [
    "# 결측치 단순제거"
   ]
  },
  {
   "cell_type": "code",
   "execution_count": 3,
   "id": "processed-prediction",
   "metadata": {
    "scrolled": true
   },
   "outputs": [
    {
     "name": "stdout",
     "output_type": "stream",
     "text": [
      "                            OLS Regression Results                            \n",
      "==============================================================================\n",
      "Dep. Variable:                      x   R-squared:                       0.259\n",
      "Model:                            OLS   Adj. R-squared:                  0.253\n",
      "Method:                 Least Squares   F-statistic:                     42.35\n",
      "Date:                Tue, 09 Mar 2021   Prob (F-statistic):           1.81e-09\n",
      "Time:                        17:45:02   Log-Likelihood:                -155.42\n",
      "No. Observations:                 123   AIC:                             314.8\n",
      "Df Residuals:                     121   BIC:                             320.5\n",
      "Df Model:                           1                                         \n",
      "Covariance Type:            nonrobust                                         \n",
      "==============================================================================\n",
      "                 coef    std err          t      P>|t|      [0.025      0.975]\n",
      "------------------------------------------------------------------------------\n",
      "Intercept     -0.0705      0.127     -0.556      0.579      -0.321       0.181\n",
      "y              0.4622      0.071      6.508      0.000       0.322       0.603\n",
      "==============================================================================\n",
      "Omnibus:                       17.458   Durbin-Watson:                   1.775\n",
      "Prob(Omnibus):                  0.000   Jarque-Bera (JB):                5.037\n",
      "Skew:                           0.039   Prob(JB):                       0.0806\n",
      "Kurtosis:                       2.012   Cond. No.                         3.54\n",
      "==============================================================================\n",
      "\n",
      "Notes:\n",
      "[1] Standard Errors assume that the covariance matrix of the errors is correctly specified.\n"
     ]
    }
   ],
   "source": [
    "mod1 = smf.ols(formula=\"x ~ y\", data = df).fit()\n",
    "print(mod1.summary())"
   ]
  },
  {
   "cell_type": "markdown",
   "id": "qualified-summer",
   "metadata": {},
   "source": [
    "# 가중치 이용"
   ]
  },
  {
   "cell_type": "markdown",
   "id": "august-criterion",
   "metadata": {},
   "source": [
    "## 응답확률 추정"
   ]
  },
  {
   "cell_type": "code",
   "execution_count": 4,
   "id": "composed-stock",
   "metadata": {},
   "outputs": [
    {
     "data": {
      "text/plain": [
       "array([0, 1, 1, 1, 1])"
      ]
     },
     "execution_count": 4,
     "metadata": {},
     "output_type": "execute_result"
    }
   ],
   "source": [
    "# response vector\n",
    "resp = np.where(df['y'].isnull(), 0, 1)\n",
    "resp[:5]"
   ]
  },
  {
   "cell_type": "code",
   "execution_count": 5,
   "id": "flexible-hybrid",
   "metadata": {},
   "outputs": [
    {
     "data": {
      "text/plain": [
       "array([3.39060156, 1.06148901, 1.35886903])"
      ]
     },
     "execution_count": 5,
     "metadata": {},
     "output_type": "execute_result"
    }
   ],
   "source": [
    "mod1 = smf.glm(formula=\"resp ~ x\", data = df, family=sm.families.Binomial()).fit()\n",
    "ph = mod1.predict()\n",
    "w = 1/ph\n",
    "w[:3]"
   ]
  },
  {
   "cell_type": "markdown",
   "id": "detailed-fighter",
   "metadata": {},
   "source": [
    "## 가중 회귀 분석 결과"
   ]
  },
  {
   "cell_type": "code",
   "execution_count": 6,
   "id": "early-program",
   "metadata": {},
   "outputs": [
    {
     "name": "stdout",
     "output_type": "stream",
     "text": [
      "                            WLS Regression Results                            \n",
      "==============================================================================\n",
      "Dep. Variable:                      x   R-squared:                       0.277\n",
      "Model:                            WLS   Adj. R-squared:                  0.271\n",
      "Method:                 Least Squares   F-statistic:                     46.36\n",
      "Date:                Tue, 09 Mar 2021   Prob (F-statistic):           4.05e-10\n",
      "Time:                        17:45:05   Log-Likelihood:                -163.64\n",
      "No. Observations:                 123   AIC:                             331.3\n",
      "Df Residuals:                     121   BIC:                             336.9\n",
      "Df Model:                           1                                         \n",
      "Covariance Type:            nonrobust                                         \n",
      "==============================================================================\n",
      "                 coef    std err          t      P>|t|      [0.025      0.975]\n",
      "------------------------------------------------------------------------------\n",
      "Intercept     -0.4210      0.122     -3.450      0.001      -0.663      -0.179\n",
      "y              0.5154      0.076      6.809      0.000       0.366       0.665\n",
      "==============================================================================\n",
      "Omnibus:                        7.471   Durbin-Watson:                   1.759\n",
      "Prob(Omnibus):                  0.024   Jarque-Bera (JB):                7.415\n",
      "Skew:                          -0.599   Prob(JB):                       0.0245\n",
      "Kurtosis:                       3.114   Cond. No.                         3.07\n",
      "==============================================================================\n",
      "\n",
      "Notes:\n",
      "[1] Standard Errors assume that the covariance matrix of the errors is correctly specified.\n"
     ]
    }
   ],
   "source": [
    "mod2 = smf.wls(formula = \"x~y\", data = df, weights = w).fit()\n",
    "print(mod2.summary())"
   ]
  }
 ],
 "metadata": {
  "kernelspec": {
   "display_name": "Python 3 (ipykernel)",
   "language": "python",
   "name": "python3"
  },
  "language_info": {
   "codemirror_mode": {
    "name": "ipython",
    "version": 3
   },
   "file_extension": ".py",
   "mimetype": "text/x-python",
   "name": "python",
   "nbconvert_exporter": "python",
   "pygments_lexer": "ipython3",
   "version": "3.11.3"
  },
  "toc": {
   "base_numbering": 1,
   "nav_menu": {},
   "number_sections": true,
   "sideBar": true,
   "skip_h1_title": false,
   "title_cell": "Table of Contents",
   "title_sidebar": "Contents",
   "toc_cell": false,
   "toc_position": {},
   "toc_section_display": true,
   "toc_window_display": false
  }
 },
 "nbformat": 4,
 "nbformat_minor": 5
}
