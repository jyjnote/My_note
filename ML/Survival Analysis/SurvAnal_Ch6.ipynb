{
 "cells": [
  {
   "cell_type": "code",
   "execution_count": 5,
   "metadata": {},
   "outputs": [],
   "source": [
    "## 이번 장에 필요한 패키지들을 먼저 불러들임\n",
    "\n",
    "import pandas as pd\n",
    "import numpy as np\n",
    "import os                               ## chdir 함수 사용위해서\n",
    "import matplotlib.pyplot as plt         ## 그림 그리기 위해서\n",
    "from lifelines import WeibullAFTFitter  ## 와이블 AFT 모형을 적합하기 위해"
   ]
  },
  {
   "cell_type": "code",
   "execution_count": 7,
   "metadata": {},
   "outputs": [],
   "source": [
    "## 디렉토리 설정\n",
    "os.chdir(\"/Users/skang-mbpro15-18/Dropbox/Sangwook/Teaching/YS-Naver/Survival/Data\")\n",
    "pbc = pd.read_csv(\"pbc_comp.csv\")  ## pbc 자료 불러들이기"
   ]
  },
  {
   "cell_type": "code",
   "execution_count": 8,
   "metadata": {},
   "outputs": [
    {
     "data": {
      "text/html": [
       "<div>\n",
       "<style scoped>\n",
       "    .dataframe tbody tr th:only-of-type {\n",
       "        vertical-align: middle;\n",
       "    }\n",
       "\n",
       "    .dataframe tbody tr th {\n",
       "        vertical-align: top;\n",
       "    }\n",
       "\n",
       "    .dataframe thead th {\n",
       "        text-align: right;\n",
       "    }\n",
       "</style>\n",
       "<table border=\"1\" class=\"dataframe\">\n",
       "  <tbody>\n",
       "    <tr>\n",
       "      <th>model</th>\n",
       "      <td>lifelines.WeibullAFTFitter</td>\n",
       "    </tr>\n",
       "    <tr>\n",
       "      <th>duration col</th>\n",
       "      <td>'futime'</td>\n",
       "    </tr>\n",
       "    <tr>\n",
       "      <th>event col</th>\n",
       "      <td>'delta'</td>\n",
       "    </tr>\n",
       "    <tr>\n",
       "      <th>number of observations</th>\n",
       "      <td>312</td>\n",
       "    </tr>\n",
       "    <tr>\n",
       "      <th>number of events observed</th>\n",
       "      <td>125</td>\n",
       "    </tr>\n",
       "    <tr>\n",
       "      <th>log-likelihood</th>\n",
       "      <td>-1121.024</td>\n",
       "    </tr>\n",
       "    <tr>\n",
       "      <th>time fit was run</th>\n",
       "      <td>2021-02-26 09:02:37 UTC</td>\n",
       "    </tr>\n",
       "  </tbody>\n",
       "</table>\n",
       "</div><table border=\"1\" class=\"dataframe\">\n",
       "  <thead>\n",
       "    <tr style=\"text-align: right;\">\n",
       "      <th style=\"min-width: 12px;\"></th>\n",
       "      <th style=\"min-width: 12px;\"></th>\n",
       "      <th style=\"min-width: 12px;\">coef</th>\n",
       "      <th style=\"min-width: 12px;\">exp(coef)</th>\n",
       "      <th style=\"min-width: 12px;\">se(coef)</th>\n",
       "      <th style=\"min-width: 12px;\">coef lower 95%</th>\n",
       "      <th style=\"min-width: 12px;\">coef upper 95%</th>\n",
       "      <th style=\"min-width: 12px;\">exp(coef) lower 95%</th>\n",
       "      <th style=\"min-width: 12px;\">exp(coef) upper 95%</th>\n",
       "      <th style=\"min-width: 12px;\">z</th>\n",
       "      <th style=\"min-width: 12px;\">p</th>\n",
       "      <th style=\"min-width: 12px;\">-log2(p)</th>\n",
       "    </tr>\n",
       "  </thead>\n",
       "  <tbody>\n",
       "    <tr>\n",
       "      <th rowspan=\"6\" valign=\"top\">lambda_</th>\n",
       "      <th>Intercept</th>\n",
       "      <td>9.547</td>\n",
       "      <td>13999.702</td>\n",
       "      <td>0.474</td>\n",
       "      <td>8.618</td>\n",
       "      <td>10.475</td>\n",
       "      <td>5531.975</td>\n",
       "      <td>35428.880</td>\n",
       "      <td>20.152</td>\n",
       "      <td>&lt;0.0005</td>\n",
       "      <td>297.617</td>\n",
       "    </tr>\n",
       "    <tr>\n",
       "      <th>treat</th>\n",
       "      <td>0.035</td>\n",
       "      <td>1.036</td>\n",
       "      <td>0.130</td>\n",
       "      <td>-0.220</td>\n",
       "      <td>0.290</td>\n",
       "      <td>0.803</td>\n",
       "      <td>1.336</td>\n",
       "      <td>0.269</td>\n",
       "      <td>0.788</td>\n",
       "      <td>0.344</td>\n",
       "    </tr>\n",
       "    <tr>\n",
       "      <th>sex</th>\n",
       "      <td>0.391</td>\n",
       "      <td>1.479</td>\n",
       "      <td>0.169</td>\n",
       "      <td>0.060</td>\n",
       "      <td>0.723</td>\n",
       "      <td>1.062</td>\n",
       "      <td>2.060</td>\n",
       "      <td>2.314</td>\n",
       "      <td>0.021</td>\n",
       "      <td>5.596</td>\n",
       "    </tr>\n",
       "    <tr>\n",
       "      <th>age</th>\n",
       "      <td>-0.024</td>\n",
       "      <td>0.976</td>\n",
       "      <td>0.006</td>\n",
       "      <td>-0.036</td>\n",
       "      <td>-0.012</td>\n",
       "      <td>0.964</td>\n",
       "      <td>0.989</td>\n",
       "      <td>-3.777</td>\n",
       "      <td>&lt;0.0005</td>\n",
       "      <td>12.624</td>\n",
       "    </tr>\n",
       "    <tr>\n",
       "      <th>edema</th>\n",
       "      <td>-1.180</td>\n",
       "      <td>0.307</td>\n",
       "      <td>0.204</td>\n",
       "      <td>-1.580</td>\n",
       "      <td>-0.780</td>\n",
       "      <td>0.206</td>\n",
       "      <td>0.459</td>\n",
       "      <td>-5.777</td>\n",
       "      <td>&lt;0.0005</td>\n",
       "      <td>26.969</td>\n",
       "    </tr>\n",
       "    <tr>\n",
       "      <th>bili</th>\n",
       "      <td>-0.086</td>\n",
       "      <td>0.917</td>\n",
       "      <td>0.010</td>\n",
       "      <td>-0.105</td>\n",
       "      <td>-0.068</td>\n",
       "      <td>0.900</td>\n",
       "      <td>0.935</td>\n",
       "      <td>-8.953</td>\n",
       "      <td>&lt;0.0005</td>\n",
       "      <td>61.326</td>\n",
       "    </tr>\n",
       "    <tr>\n",
       "      <th>rho_</th>\n",
       "      <th>Intercept</th>\n",
       "      <td>0.372</td>\n",
       "      <td>1.450</td>\n",
       "      <td>0.074</td>\n",
       "      <td>0.227</td>\n",
       "      <td>0.516</td>\n",
       "      <td>1.255</td>\n",
       "      <td>1.675</td>\n",
       "      <td>5.053</td>\n",
       "      <td>&lt;0.0005</td>\n",
       "      <td>21.134</td>\n",
       "    </tr>\n",
       "  </tbody>\n",
       "</table><br><div>\n",
       "<style scoped>\n",
       "    .dataframe tbody tr th:only-of-type {\n",
       "        vertical-align: middle;\n",
       "    }\n",
       "\n",
       "    .dataframe tbody tr th {\n",
       "        vertical-align: top;\n",
       "    }\n",
       "\n",
       "    .dataframe thead th {\n",
       "        text-align: right;\n",
       "    }\n",
       "</style>\n",
       "<table border=\"1\" class=\"dataframe\">\n",
       "  <tbody>\n",
       "    <tr>\n",
       "      <th>Concordance</th>\n",
       "      <td>0.799</td>\n",
       "    </tr>\n",
       "    <tr>\n",
       "      <th>AIC</th>\n",
       "      <td>2256.048</td>\n",
       "    </tr>\n",
       "    <tr>\n",
       "      <th>log-likelihood ratio test</th>\n",
       "      <td>135.458 on 5 df</td>\n",
       "    </tr>\n",
       "    <tr>\n",
       "      <th>-log2(p) of ll-ratio test</th>\n",
       "      <td>88.969</td>\n",
       "    </tr>\n",
       "  </tbody>\n",
       "</table>\n",
       "</div>"
      ],
      "text/latex": [
       "\\begin{tabular}{llrrrrrrrrrr}\n",
       "\\toprule\n",
       "     &           &   coef &  exp(coef) &  se(coef) &  coef lower 95\\% &  coef upper 95\\% &  exp(coef) lower 95\\% &  exp(coef) upper 95\\% &      z &     p &  -log2(p) \\\\\n",
       "param & covariate &        &            &           &                 &                 &                      &                      &        &       &           \\\\\n",
       "\\midrule\n",
       "lambda\\_ & Intercept &  9.547 &  13999.702 &     0.474 &           8.618 &          10.475 &             5531.975 &            35428.880 & 20.152 & 0.000 &   297.617 \\\\\n",
       "     & treat &  0.035 &      1.036 &     0.130 &          -0.220 &           0.290 &                0.803 &                1.336 &  0.269 & 0.788 &     0.344 \\\\\n",
       "     & sex &  0.391 &      1.479 &     0.169 &           0.060 &           0.723 &                1.062 &                2.060 &  2.314 & 0.021 &     5.596 \\\\\n",
       "     & age & -0.024 &      0.976 &     0.006 &          -0.036 &          -0.012 &                0.964 &                0.989 & -3.777 & 0.000 &    12.624 \\\\\n",
       "     & edema & -1.180 &      0.307 &     0.204 &          -1.580 &          -0.780 &                0.206 &                0.459 & -5.777 & 0.000 &    26.969 \\\\\n",
       "     & bili & -0.086 &      0.917 &     0.010 &          -0.105 &          -0.068 &                0.900 &                0.935 & -8.953 & 0.000 &    61.326 \\\\\n",
       "rho\\_ & Intercept &  0.372 &      1.450 &     0.074 &           0.227 &           0.516 &                1.255 &                1.675 &  5.053 & 0.000 &    21.134 \\\\\n",
       "\\bottomrule\n",
       "\\end{tabular}\n"
      ],
      "text/plain": [
       "<lifelines.WeibullAFTFitter: fitted with 312 total observations, 187 right-censored observations>\n",
       "             duration col = 'futime'\n",
       "                event col = 'delta'\n",
       "   number of observations = 312\n",
       "number of events observed = 125\n",
       "           log-likelihood = -1121.024\n",
       "         time fit was run = 2021-02-26 09:02:37 UTC\n",
       "\n",
       "---\n",
       "                    coef  exp(coef)   se(coef)   coef lower 95%   coef upper 95%  exp(coef) lower 95%  exp(coef) upper 95%\n",
       "param   covariate                                                                                                         \n",
       "lambda_ Intercept  9.547  13999.702      0.474            8.618           10.475             5531.975            35428.880\n",
       "        treat      0.035      1.036      0.130           -0.220            0.290                0.803                1.336\n",
       "        sex        0.391      1.479      0.169            0.060            0.723                1.062                2.060\n",
       "        age       -0.024      0.976      0.006           -0.036           -0.012                0.964                0.989\n",
       "        edema     -1.180      0.307      0.204           -1.580           -0.780                0.206                0.459\n",
       "        bili      -0.086      0.917      0.010           -0.105           -0.068                0.900                0.935\n",
       "rho_    Intercept  0.372      1.450      0.074            0.227            0.516                1.255                1.675\n",
       "\n",
       "                       z       p   -log2(p)\n",
       "param   covariate                          \n",
       "lambda_ Intercept 20.152 <0.0005    297.617\n",
       "        treat      0.269   0.788      0.344\n",
       "        sex        2.314   0.021      5.596\n",
       "        age       -3.777 <0.0005     12.624\n",
       "        edema     -5.777 <0.0005     26.969\n",
       "        bili      -8.953 <0.0005     61.326\n",
       "rho_    Intercept  5.053 <0.0005     21.134\n",
       "---\n",
       "Concordance = 0.799\n",
       "AIC = 2256.048\n",
       "log-likelihood ratio test = 135.458 on 5 df\n",
       "-log2(p) of ll-ratio test = 88.969"
      ]
     },
     "metadata": {},
     "output_type": "display_data"
    }
   ],
   "source": [
    "## 와이블 분포를 가정하여 AFT 모형을 적합함\n",
    "## PBC 자료를 이용하고 treat 효과를 sex, age, edema와 bili 변수의 효과를 \n",
    "## 감안하여 추정하려 함 \n",
    "\n",
    "aft = WeibullAFTFitter()  ## 와이블 AFT 모형 적합 결과를 aft에 저장하도록 지정\n",
    "\n",
    "## aft.fit에서 (사용할 자료, 생존시간, 절단 여부, 식)의 형태로 값을 입력\n",
    "## formula 옵션: 사용할 설명 변수를 +의 형태로 붙여 넣어준다.\n",
    "aft.fit(pbc, duration_col=\"futime\", event_col=\"delta\", formula=\"treat+sex+age+edema+bili\")\n",
    "aft.print_summary(3)  ## 결과 출력. (3)은 소숫점 3째 자리까지"
   ]
  },
  {
   "cell_type": "code",
   "execution_count": 9,
   "metadata": {},
   "outputs": [
    {
     "name": "stdout",
     "output_type": "stream",
     "text": [
      "4487.849266523742\n",
      "5239.332247938634\n"
     ]
    }
   ],
   "source": [
    "print(aft.median_survival_time_)  ## 중위수 추정치 출력\n",
    "print(aft.mean_survival_time_)    ## 평균 추정치 출력"
   ]
  },
  {
   "cell_type": "code",
   "execution_count": 7,
   "metadata": {},
   "outputs": [
    {
     "data": {
      "text/plain": [
       "<AxesSubplot:xlabel='log(accelerated failure rate) (95% CI)'>"
      ]
     },
     "execution_count": 7,
     "metadata": {},
     "output_type": "execute_result"
    },
    {
     "data": {
      "image/png": "[encoded data removed]",
      "text/plain": [
       "<Figure size 432x288 with 1 Axes>"
      ]
     },
     "metadata": {
      "needs_background": "light"
     },
     "output_type": "display_data"
    }
   ],
   "source": [
    "aft.plot()  ## 회귀 계수의 95% 신뢰구간 출력"
   ]
  },
  {
   "cell_type": "code",
   "execution_count": 10,
   "metadata": {},
   "outputs": [
    {
     "data": {
      "text/plain": [
       "Text(0.5, 1.0, 'Survival functions: female vs. male')"
      ]
     },
     "execution_count": 10,
     "metadata": {},
     "output_type": "execute_result"
    },
    {
     "data": {
      "image/png": "[encoded data removed]",
      "text/plain": [
       "<Figure size 720x288 with 2 Axes>"
      ]
     },
     "metadata": {
      "needs_background": "light"
     },
     "output_type": "display_data"
    }
   ],
   "source": [
    "## 한 줄에 두 개의 plot을 그림\n",
    "## 각 plot의 사이즈는 10 x 4 인치로\n",
    "fig, ax = plt.subplots(nrows=1, ncols=2, figsize=(10, 4))  \n",
    "\n",
    "times = np.arange(0, 5000)  ## 0부터 4999까지 값을 가지는 배열 생성 (시간으로 사용)\n",
    "\n",
    "## 0부터 4999까지의 시간에 대한 생존 함수를 와이블 AFT 모형을 가정하고 추정\n",
    "wft_fit = WeibullAFTFitter().fit(pbc, \"futime\", \"delta\", \n",
    "                                 formula=\"treat+sex+age+edema+bili\", timeline=times)\n",
    "\n",
    "## 처리와 위약군의 생존 함수를 비교하는 plot 생성\n",
    "## ax[0]: 2개의 subplot중 첫 번째를 의미\n",
    "#wft_fit.plot_partial_effects_on_outcome(\"treat\", range(0,2), cmap='coolwarm', ax=ax[0])\n",
    "wft_fit.plot_partial_effects_on_outcome(\"treat\", values=[1,2], cmap='coolwarm', ax=ax[0])\n",
    "ax[0].set_title(\"Survival functions: treatment vs. placebo\")  ## 첫 번째 plot의 제목\n",
    "\n",
    "## 남성과 여성의 생존 함수를 비교하는 plot 생성\n",
    "wft_fit.plot_partial_effects_on_outcome(\"sex\", values=[0,1], cmap='coolwarm', ax=ax[1])\n",
    "ax[1].set_title(\"Survival functions: female vs. male\")  ## 두 번째 plot의 제목"
   ]
  },
  {
   "cell_type": "code",
   "execution_count": 4,
   "metadata": {},
   "outputs": [
    {
     "data": {
      "text/plain": [
       "range(0, 2)"
      ]
     },
     "execution_count": 4,
     "metadata": {},
     "output_type": "execute_result"
    }
   ],
   "source": []
  }
 ],
 "metadata": {
  "kernelspec": {
   "display_name": "Python 3 (ipykernel)",
   "language": "python",
   "name": "python3"
  },
  "language_info": {
   "codemirror_mode": {
    "name": "ipython",
    "version": 3
   },
   "file_extension": ".py",
   "mimetype": "text/x-python",
   "name": "python",
   "nbconvert_exporter": "python",
   "pygments_lexer": "ipython3",
   "version": "3.11.3"
  }
 },
 "nbformat": 4,
 "nbformat_minor": 4
}
