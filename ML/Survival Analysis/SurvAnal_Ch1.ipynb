{
 "cells": [
  {
   "cell_type": "code",
   "execution_count": 3,
   "metadata": {
    "scrolled": true
   },
   "outputs": [],
   "source": [
    "import pandas as pd\n",
    "import numpy as np\n",
    "from scipy.stats import weibull_min  # scipy 패키지에서 weibull_min 함수 호출"
   ]
  },
  {
   "cell_type": "code",
   "execution_count": 4,
   "metadata": {},
   "outputs": [
    {
     "data": {
      "text/plain": [
       "array([1.77082847, 1.14235176, 1.48666959, 2.72975229, 0.13755036])"
      ]
     },
     "execution_count": 4,
     "metadata": {},
     "output_type": "execute_result"
    }
   ],
   "source": [
    "n = 10000  # 표본 수\n",
    "rho = 2    # 형태 (shape) 모수\n",
    "gam = 2    # 척도 (scale) 모수\n",
    "\n",
    "np.random.seed(100)  # 시드 설정: 동일한 난수 발생하기 위해\n",
    "\n",
    "# 10000개의 와이블 분포를 따르는 시간을 생성: 형태 모수 = 2, 척도 모수 = 2\n",
    "wb_ftime = weibull_min.rvs(rho, loc=0, scale=gam, size=n)\n",
    "\n",
    "wb_ftime[0:5]  # 생성된 시간 중 처음 5개만 출력"
   ]
  },
  {
   "cell_type": "code",
   "execution_count": 106,
   "metadata": {},
   "outputs": [
    {
     "name": "stdout",
     "output_type": "stream",
     "text": [
      "Sample mean of 10000 Weibull RVs: \n",
      " 1.767\n"
     ]
    }
   ],
   "source": [
    "wb_ftime_bar = wb_ftime.mean()  # 표본 평균 계산\n",
    "\n",
    "# 표본 평균을 출력\n",
    "print (\"Sample mean of 10000 Weibull RVs: \\n\", format(wb_ftime_bar,\"1.3f\"))"
   ]
  },
  {
   "cell_type": "code",
   "execution_count": 83,
   "metadata": {
    "scrolled": true
   },
   "outputs": [],
   "source": [
    "import numpy as np  # numpy 패키지 사용 (np란 이름으로)"
   ]
  },
  {
   "cell_type": "code",
   "execution_count": 115,
   "metadata": {},
   "outputs": [
    {
     "data": {
      "text/plain": [
       "array([9.47632257, 2.26547421, 5.94420144, 4.28308685, 7.64140687])"
      ]
     },
     "execution_count": 115,
     "metadata": {},
     "output_type": "execute_result"
    }
   ],
   "source": [
    "np.random.seed(200)  # 시드 설정: 동일한 난수 발생하기 위해\n",
    "\n",
    "# (0, 10) 사이 균등 분포를 따르는 10000개의 시간 발생\n",
    "uni_010 = np.random.uniform(0,10,n)   \n",
    "\n",
    "uni_010[0:5]  # 생성된 시간 중 처음 5개만 출력"
   ]
  },
  {
   "cell_type": "code",
   "execution_count": 116,
   "metadata": {},
   "outputs": [],
   "source": [
    "v = list(range(0,n))  # for문을 사용하기 위해 0-9999의 list 생성\n",
    "obs_010 = wb_ftime    # 관측 시간을 생존 시간으로 초기화\n",
    "ind_010 = np.zeros(n) # 사건 지표값을 저장하기 위한 배열 초기화 (0이 10000개)"
   ]
  },
  {
   "cell_type": "code",
   "execution_count": 117,
   "metadata": {
    "scrolled": true
   },
   "outputs": [],
   "source": [
    "for i in v:   # 관측 시간과 사건 지표값을 생성하기 위한 for문\n",
    "   if wb_ftime[i] < uni_010[i]:  # 생존 시간 < 중도 절단 시간 \n",
    "    obs_010[i] = wb_ftime[i]     # 관측 시간 = 생존 시간\n",
    "    ind_010[i] = 1               # 사건 지표 = 1 (생존 시간을 의미)\n",
    "   else:                         # 생존 시간 > 중도 절단 시간\n",
    "    obs_010[i] = uni_010[i]      # 관측 시간 = 중도 절단 시간"
   ]
  },
  {
   "cell_type": "code",
   "execution_count": 126,
   "metadata": {},
   "outputs": [
    {
     "name": "stdout",
     "output_type": "stream",
     "text": [
      "Censoring proportion: \n",
      " 0.178\n"
     ]
    }
   ],
   "source": [
    "print (\"Censoring proportion: \\n\", format(1-sum(ind_010)/n,\"1.3f\"))  # 우중도 절단률"
   ]
  },
  {
   "cell_type": "code",
   "execution_count": 120,
   "metadata": {},
   "outputs": [
    {
     "name": "stdout",
     "output_type": "stream",
     "text": [
      "Sample mean with unif(0, 10) censoring: \n",
      " 1.562\n"
     ]
    }
   ],
   "source": [
    "wb_cens010_bar = obs_010.mean()   # 관측 시간의 표본평균 계산\n",
    "\n",
    "print (\"Sample mean with unif(0, 10) censoring: \\n\", format(wb_cens010_bar,\"1.3f\"))"
   ]
  },
  {
   "cell_type": "code",
   "execution_count": 121,
   "metadata": {},
   "outputs": [],
   "source": [
    "np.random.seed(201)  # 시드 설정: 동일한 난수 발생하기 위해\n",
    "\n",
    "# (0, 5) 사이 균등 분포를 따르는 10000개의 시간 발생\n",
    "uni_05 = np.random.uniform(0,5,n)   "
   ]
  },
  {
   "cell_type": "code",
   "execution_count": 122,
   "metadata": {},
   "outputs": [],
   "source": [
    "obs_05 = wb_ftime    # 관측 시간을 생존 시간으로 초기화\n",
    "ind_05 = np.zeros(n) # 사건 지표값을 저장하기 위한 배열 초기화 (0이 10000개)"
   ]
  },
  {
   "cell_type": "code",
   "execution_count": 123,
   "metadata": {},
   "outputs": [],
   "source": [
    "for i in v:   # 관측 시간과 사건 지표값을 생성하기 위한 for문\n",
    "   if wb_ftime[i] < uni_05[i]:  # 생존 시간 < 중도 절단 시간 \n",
    "    obs_05[i] = wb_ftime[i]     # 관측 시간 = 생존 시간   \n",
    "    ind_05[i] = 1               # 사건 지표 = 1 (생존 시간을 의미)\n",
    "   else:                        # 생존 시간 > 중도 절단 시간\n",
    "    obs_05[i] = uni_05[i]       # 관측 시간 = 중도 절단 시간"
   ]
  },
  {
   "cell_type": "code",
   "execution_count": 127,
   "metadata": {},
   "outputs": [
    {
     "name": "stdout",
     "output_type": "stream",
     "text": [
      "Censoring proportion: \n",
      " 0.312\n"
     ]
    }
   ],
   "source": [
    "print (\"Censoring proportion: \\n\", format(1-sum(ind_05)/n,\"1.3f\"))  # 우중도 절단률"
   ]
  },
  {
   "cell_type": "code",
   "execution_count": 125,
   "metadata": {},
   "outputs": [
    {
     "name": "stdout",
     "output_type": "stream",
     "text": [
      "Sample mean with unif(0, 5) censoring: \n",
      " 1.237\n"
     ]
    }
   ],
   "source": [
    "wb_cens05_bar = obs_05.mean()   # 관측 시간의 표본평균 계산\n",
    "\n",
    "print (\"Sample mean with unif(0, 5) censoring: \\n\", format(wb_cens05_bar,\"1.3f\"))"
   ]
  }
 ],
 "metadata": {
  "kernelspec": {
   "display_name": "Python 3 (ipykernel)",
   "language": "python",
   "name": "python3"
  },
  "language_info": {
   "codemirror_mode": {
    "name": "ipython",
    "version": 3
   },
   "file_extension": ".py",
   "mimetype": "text/x-python",
   "name": "python",
   "nbconvert_exporter": "python",
   "pygments_lexer": "ipython3",
   "version": "3.11.3"
  }
 },
 "nbformat": 4,
 "nbformat_minor": 4
}
